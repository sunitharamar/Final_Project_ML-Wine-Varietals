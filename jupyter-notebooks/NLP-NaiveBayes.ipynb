{
 "cells": [
  {
   "cell_type": "markdown",
   "metadata": {},
   "source": [
    " Purpose: <br> 1) Creating a model with NLP using NaiveBayes model to predict the wine variety\n",
    "\n",
    " Question: <br> 2) Which model (SVM, NLP-NaiveBayes, Logistic Regressions, Decision trees, Random Forest) will be best predicted \n",
    "              for wine varietal given a description.\n",
    "\n",
    "\n",
    " Results of NLP-NaiveBayes: <br> 3) Accuracy of model at predicting wine variety was: 0.5831475350072413\n",
    "\n",
    "\n",
    " "
   ]
  },
  {
   "cell_type": "markdown",
   "metadata": {},
   "source": [
    "# Data Engineering by reading, cleaning and formating"
   ]
  },
  {
   "cell_type": "code",
   "execution_count": 2,
   "metadata": {
    "collapsed": true
   },
   "outputs": [],
   "source": [
    "# Dependecncies\n",
    "from pyspark.sql import SparkSession\n",
    "import pandas as pd"
   ]
  },
  {
   "cell_type": "code",
   "execution_count": 4,
   "metadata": {
    "collapsed": true
   },
   "outputs": [],
   "source": [
    "# Creating a Spark session to build an app\n",
    "spark = SparkSession.builder.appName('test').getOrCreate()"
   ]
  },
  {
   "cell_type": "code",
   "execution_count": 6,
   "metadata": {},
   "outputs": [
    {
     "name": "stdout",
     "output_type": "stream",
     "text": [
      "+---+---------+--------------------+--------------------+------+-----+-----------------+-------------------+-----------------+------------------+---------------------+--------------------+------------------+-------------------+\n",
      "|_c0|  country|         description|         designation|points|price|         province|           region_1|         region_2|       taster_name|taster_twitter_handle|               title|           variety|             winery|\n",
      "+---+---------+--------------------+--------------------+------+-----+-----------------+-------------------+-----------------+------------------+---------------------+--------------------+------------------+-------------------+\n",
      "|  0|    Italy|Aromas include tr...|        Vulkà Bianco|    87| null|Sicily & Sardinia|               Etna|             null|     Kerin O’Keefe|         @kerinokeefe|Nicosia 2013 Vulk...|       White Blend|            Nicosia|\n",
      "|  1| Portugal|This is ripe and ...|            Avidagos|    87| 15.0|            Douro|               null|             null|        Roger Voss|           @vossroger|Quinta dos Avidag...|    Portuguese Red|Quinta dos Avidagos|\n",
      "|  2|       US|Tart and snappy, ...|                null|    87| 14.0|           Oregon|  Willamette Valley|Willamette Valley|      Paul Gregutt|          @paulgwine |Rainstorm 2013 Pi...|        Pinot Gris|          Rainstorm|\n",
      "|  3|       US|Pineapple rind, l...|Reserve Late Harvest|    87| 13.0|         Michigan|Lake Michigan Shore|             null|Alexander Peartree|                 null|St. Julian 2013 R...|          Riesling|         St. Julian|\n",
      "|  4|       US|Much like the reg...|Vintner's Reserve...|    87| 65.0|           Oregon|  Willamette Valley|Willamette Valley|      Paul Gregutt|          @paulgwine |Sweet Cheeks 2012...|        Pinot Noir|       Sweet Cheeks|\n",
      "|  5|    Spain|Blackberry and ra...|        Ars In Vitro|    87| 15.0|   Northern Spain|            Navarra|             null| Michael Schachner|          @wineschach|Tandem 2011 Ars I...|Tempranillo-Merlot|             Tandem|\n",
      "|  6|    Italy|Here's a bright, ...|             Belsito|    87| 16.0|Sicily & Sardinia|           Vittoria|             null|     Kerin O’Keefe|         @kerinokeefe|Terre di Giurfo 2...|          Frappato|    Terre di Giurfo|\n",
      "|  7|   France|This dry and rest...|                null|    87| 24.0|           Alsace|             Alsace|             null|        Roger Voss|           @vossroger|Trimbach 2012 Gew...|    Gewürztraminer|           Trimbach|\n",
      "|  8|  Germany|Savory dried thym...|               Shine|    87| 12.0|      Rheinhessen|               null|             null|Anna Lee C. Iijima|                 null|Heinz Eifel 2013 ...|    Gewürztraminer|        Heinz Eifel|\n",
      "|  9|   France|This has great de...|         Les Natures|    87| 27.0|           Alsace|             Alsace|             null|        Roger Voss|           @vossroger|Jean-Baptiste Ada...|        Pinot Gris| Jean-Baptiste Adam|\n",
      "| 10|       US|Soft, supple plum...|      Mountain Cuvée|    87| 19.0|       California|        Napa Valley|             Napa|    Virginie Boone|              @vboone|Kirkland Signatur...|Cabernet Sauvignon| Kirkland Signature|\n",
      "| 11|   France|This is a dry win...|                null|    87| 30.0|           Alsace|             Alsace|             null|        Roger Voss|           @vossroger|Leon Beyer 2012 G...|    Gewürztraminer|         Leon Beyer|\n",
      "| 12|       US|Slightly reduced,...|                null|    87| 34.0|       California|   Alexander Valley|           Sonoma|    Virginie Boone|              @vboone|Louis M. Martini ...|Cabernet Sauvignon|   Louis M. Martini|\n",
      "| 13|    Italy|This is dominated...|               Rosso|    87| null|Sicily & Sardinia|               Etna|             null|     Kerin O’Keefe|         @kerinokeefe|Masseria Settepor...| Nerello Mascalese|Masseria Setteporte|\n",
      "| 14|       US|Building on 150 y...|                null|    87| 12.0|       California|      Central Coast|    Central Coast|     Matt Kettmann|        @mattkettmann|Mirassou 2012 Cha...|        Chardonnay|           Mirassou|\n",
      "| 15|  Germany|Zesty orange peel...|               Devon|    87| 24.0|            Mosel|               null|             null|Anna Lee C. Iijima|                 null|Richard Böcking 2...|          Riesling|    Richard Böcking|\n",
      "| 16|Argentina|Baked plum, molas...|               Felix|    87| 30.0|            Other|           Cafayate|             null| Michael Schachner|          @wineschach|Felix Lavaque 201...|            Malbec|      Felix Lavaque|\n",
      "| 17|Argentina|Raw black-cherry ...| Winemaker Selection|    87| 13.0| Mendoza Province|            Mendoza|             null| Michael Schachner|          @wineschach|Gaucho Andino 201...|            Malbec|      Gaucho Andino|\n",
      "| 18|    Spain|Desiccated blackb...|Vendimia Seleccio...|    87| 28.0|   Northern Spain|   Ribera del Duero|             null| Michael Schachner|          @wineschach|Pradorey 2010 Ven...| Tempranillo Blend|           Pradorey|\n",
      "| 19|       US|Red fruit aromas ...|                null|    87| 32.0|         Virginia|           Virginia|             null|Alexander Peartree|                 null|Quiévremont 2012 ...|          Meritage|        Quiévremont|\n",
      "+---+---------+--------------------+--------------------+------+-----+-----------------+-------------------+-----------------+------------------+---------------------+--------------------+------------------+-------------------+\n",
      "only showing top 20 rows\n",
      "\n"
     ]
    },
    {
     "data": {
      "text/plain": [
       "pyspark.sql.dataframe.DataFrame"
      ]
     },
     "execution_count": 6,
     "metadata": {},
     "output_type": "execute_result"
    }
   ],
   "source": [
    "# Import csv of input Wine Survey data from https://www.kaggle.com/zynicide/wine-reviews\n",
    "start_data = spark.read.format(\"csv\").option(\"header\", \"true\").load(\"./InputData/winemag-data-130k-v2.csv\")\n",
    "start_data.show()\n",
    "type(start_data)"
   ]
  },
  {
   "cell_type": "code",
   "execution_count": 7,
   "metadata": {},
   "outputs": [
    {
     "name": "stdout",
     "output_type": "stream",
     "text": [
      "+---+---------+--------------------+--------------------+------+-----+-----------------+-------------------+-----------------+------------------+---------------------+--------------------+------------------+-------------------+------+\n",
      "|_c0|  country|         description|         designation|points|price|         province|           region_1|         region_2|       taster_name|taster_twitter_handle|               title|           variety|             winery|length|\n",
      "+---+---------+--------------------+--------------------+------+-----+-----------------+-------------------+-----------------+------------------+---------------------+--------------------+------------------+-------------------+------+\n",
      "|  0|    Italy|Aromas include tr...|        Vulkà Bianco|    87| null|Sicily & Sardinia|               Etna|             null|     Kerin O’Keefe|         @kerinokeefe|Nicosia 2013 Vulk...|       White Blend|            Nicosia|   172|\n",
      "|  1| Portugal|This is ripe and ...|            Avidagos|    87| 15.0|            Douro|               null|             null|        Roger Voss|           @vossroger|Quinta dos Avidag...|    Portuguese Red|Quinta dos Avidagos|   227|\n",
      "|  2|       US|Tart and snappy, ...|                null|    87| 14.0|           Oregon|  Willamette Valley|Willamette Valley|      Paul Gregutt|          @paulgwine |Rainstorm 2013 Pi...|        Pinot Gris|          Rainstorm|   186|\n",
      "|  3|       US|Pineapple rind, l...|Reserve Late Harvest|    87| 13.0|         Michigan|Lake Michigan Shore|             null|Alexander Peartree|                 null|St. Julian 2013 R...|          Riesling|         St. Julian|   199|\n",
      "|  4|       US|Much like the reg...|Vintner's Reserve...|    87| 65.0|           Oregon|  Willamette Valley|Willamette Valley|      Paul Gregutt|          @paulgwine |Sweet Cheeks 2012...|        Pinot Noir|       Sweet Cheeks|   249|\n",
      "|  5|    Spain|Blackberry and ra...|        Ars In Vitro|    87| 15.0|   Northern Spain|            Navarra|             null| Michael Schachner|          @wineschach|Tandem 2011 Ars I...|Tempranillo-Merlot|             Tandem|   261|\n",
      "|  6|    Italy|Here's a bright, ...|             Belsito|    87| 16.0|Sicily & Sardinia|           Vittoria|             null|     Kerin O’Keefe|         @kerinokeefe|Terre di Giurfo 2...|          Frappato|    Terre di Giurfo|   181|\n",
      "|  7|   France|This dry and rest...|                null|    87| 24.0|           Alsace|             Alsace|             null|        Roger Voss|           @vossroger|Trimbach 2012 Gew...|    Gewürztraminer|           Trimbach|   122|\n",
      "|  8|  Germany|Savory dried thym...|               Shine|    87| 12.0|      Rheinhessen|               null|             null|Anna Lee C. Iijima|                 null|Heinz Eifel 2013 ...|    Gewürztraminer|        Heinz Eifel|   156|\n",
      "|  9|   France|This has great de...|         Les Natures|    87| 27.0|           Alsace|             Alsace|             null|        Roger Voss|           @vossroger|Jean-Baptiste Ada...|        Pinot Gris| Jean-Baptiste Adam|   160|\n",
      "| 10|       US|Soft, supple plum...|      Mountain Cuvée|    87| 19.0|       California|        Napa Valley|             Napa|    Virginie Boone|              @vboone|Kirkland Signatur...|Cabernet Sauvignon| Kirkland Signature|   243|\n",
      "| 11|   France|This is a dry win...|                null|    87| 30.0|           Alsace|             Alsace|             null|        Roger Voss|           @vossroger|Leon Beyer 2012 G...|    Gewürztraminer|         Leon Beyer|   179|\n",
      "| 12|       US|Slightly reduced,...|                null|    87| 34.0|       California|   Alexander Valley|           Sonoma|    Virginie Boone|              @vboone|Louis M. Martini ...|Cabernet Sauvignon|   Louis M. Martini|   171|\n",
      "| 13|    Italy|This is dominated...|               Rosso|    87| null|Sicily & Sardinia|               Etna|             null|     Kerin O’Keefe|         @kerinokeefe|Masseria Settepor...| Nerello Mascalese|Masseria Setteporte|   234|\n",
      "| 14|       US|Building on 150 y...|                null|    87| 12.0|       California|      Central Coast|    Central Coast|     Matt Kettmann|        @mattkettmann|Mirassou 2012 Cha...|        Chardonnay|           Mirassou|   308|\n",
      "| 15|  Germany|Zesty orange peel...|               Devon|    87| 24.0|            Mosel|               null|             null|Anna Lee C. Iijima|                 null|Richard Böcking 2...|          Riesling|    Richard Böcking|   176|\n",
      "| 16|Argentina|Baked plum, molas...|               Felix|    87| 30.0|            Other|           Cafayate|             null| Michael Schachner|          @wineschach|Felix Lavaque 201...|            Malbec|      Felix Lavaque|   284|\n",
      "| 17|Argentina|Raw black-cherry ...| Winemaker Selection|    87| 13.0| Mendoza Province|            Mendoza|             null| Michael Schachner|          @wineschach|Gaucho Andino 201...|            Malbec|      Gaucho Andino|   245|\n",
      "| 18|    Spain|Desiccated blackb...|Vendimia Seleccio...|    87| 28.0|   Northern Spain|   Ribera del Duero|             null| Michael Schachner|          @wineschach|Pradorey 2010 Ven...| Tempranillo Blend|           Pradorey|   275|\n",
      "| 19|       US|Red fruit aromas ...|                null|    87| 32.0|         Virginia|           Virginia|             null|Alexander Peartree|                 null|Quiévremont 2012 ...|          Meritage|        Quiévremont|   315|\n",
      "+---+---------+--------------------+--------------------+------+-----+-----------------+-------------------+-----------------+------------------+---------------------+--------------------+------------------+-------------------+------+\n",
      "only showing top 20 rows\n",
      "\n"
     ]
    }
   ],
   "source": [
    "# Create a length column to be used as a future feature \n",
    "from pyspark.sql.functions import length # length of each charater in each review/description.\n",
    "data = start_data.withColumn('length', length(start_data['description']))\n",
    "# data.show(truncate = False)\n",
    "data.show()"
   ]
  },
  {
   "cell_type": "code",
   "execution_count": 9,
   "metadata": {},
   "outputs": [
    {
     "data": {
      "text/html": [
       "<div>\n",
       "<style>\n",
       "    .dataframe thead tr:only-child th {\n",
       "        text-align: right;\n",
       "    }\n",
       "\n",
       "    .dataframe thead th {\n",
       "        text-align: left;\n",
       "    }\n",
       "\n",
       "    .dataframe tbody tr th {\n",
       "        vertical-align: top;\n",
       "    }\n",
       "</style>\n",
       "<table border=\"1\" class=\"dataframe\">\n",
       "  <thead>\n",
       "    <tr style=\"text-align: right;\">\n",
       "      <th></th>\n",
       "      <th>_c0</th>\n",
       "      <th>country</th>\n",
       "      <th>description</th>\n",
       "      <th>designation</th>\n",
       "      <th>points</th>\n",
       "      <th>price</th>\n",
       "      <th>province</th>\n",
       "      <th>region_1</th>\n",
       "      <th>region_2</th>\n",
       "      <th>taster_name</th>\n",
       "      <th>taster_twitter_handle</th>\n",
       "      <th>title</th>\n",
       "      <th>variety</th>\n",
       "      <th>winery</th>\n",
       "      <th>length</th>\n",
       "    </tr>\n",
       "  </thead>\n",
       "  <tbody>\n",
       "    <tr>\n",
       "      <th>0</th>\n",
       "      <td>0</td>\n",
       "      <td>Italy</td>\n",
       "      <td>Aromas include tropical fruit, broom, brimston...</td>\n",
       "      <td>Vulkà Bianco</td>\n",
       "      <td>87</td>\n",
       "      <td>None</td>\n",
       "      <td>Sicily &amp; Sardinia</td>\n",
       "      <td>Etna</td>\n",
       "      <td>None</td>\n",
       "      <td>Kerin O’Keefe</td>\n",
       "      <td>@kerinokeefe</td>\n",
       "      <td>Nicosia 2013 Vulkà Bianco  (Etna)</td>\n",
       "      <td>White Blend</td>\n",
       "      <td>Nicosia</td>\n",
       "      <td>172.0</td>\n",
       "    </tr>\n",
       "    <tr>\n",
       "      <th>1</th>\n",
       "      <td>1</td>\n",
       "      <td>Portugal</td>\n",
       "      <td>This is ripe and fruity, a wine that is smooth...</td>\n",
       "      <td>Avidagos</td>\n",
       "      <td>87</td>\n",
       "      <td>15.0</td>\n",
       "      <td>Douro</td>\n",
       "      <td>None</td>\n",
       "      <td>None</td>\n",
       "      <td>Roger Voss</td>\n",
       "      <td>@vossroger</td>\n",
       "      <td>Quinta dos Avidagos 2011 Avidagos Red (Douro)</td>\n",
       "      <td>Portuguese Red</td>\n",
       "      <td>Quinta dos Avidagos</td>\n",
       "      <td>227.0</td>\n",
       "    </tr>\n",
       "    <tr>\n",
       "      <th>2</th>\n",
       "      <td>2</td>\n",
       "      <td>US</td>\n",
       "      <td>Tart and snappy, the flavors of lime flesh and...</td>\n",
       "      <td>None</td>\n",
       "      <td>87</td>\n",
       "      <td>14.0</td>\n",
       "      <td>Oregon</td>\n",
       "      <td>Willamette Valley</td>\n",
       "      <td>Willamette Valley</td>\n",
       "      <td>Paul Gregutt</td>\n",
       "      <td>@paulgwine</td>\n",
       "      <td>Rainstorm 2013 Pinot Gris (Willamette Valley)</td>\n",
       "      <td>Pinot Gris</td>\n",
       "      <td>Rainstorm</td>\n",
       "      <td>186.0</td>\n",
       "    </tr>\n",
       "    <tr>\n",
       "      <th>3</th>\n",
       "      <td>3</td>\n",
       "      <td>US</td>\n",
       "      <td>Pineapple rind, lemon pith and orange blossom ...</td>\n",
       "      <td>Reserve Late Harvest</td>\n",
       "      <td>87</td>\n",
       "      <td>13.0</td>\n",
       "      <td>Michigan</td>\n",
       "      <td>Lake Michigan Shore</td>\n",
       "      <td>None</td>\n",
       "      <td>Alexander Peartree</td>\n",
       "      <td>None</td>\n",
       "      <td>St. Julian 2013 Reserve Late Harvest Riesling ...</td>\n",
       "      <td>Riesling</td>\n",
       "      <td>St. Julian</td>\n",
       "      <td>199.0</td>\n",
       "    </tr>\n",
       "    <tr>\n",
       "      <th>4</th>\n",
       "      <td>4</td>\n",
       "      <td>US</td>\n",
       "      <td>Much like the regular bottling from 2012, this...</td>\n",
       "      <td>Vintner's Reserve Wild Child Block</td>\n",
       "      <td>87</td>\n",
       "      <td>65.0</td>\n",
       "      <td>Oregon</td>\n",
       "      <td>Willamette Valley</td>\n",
       "      <td>Willamette Valley</td>\n",
       "      <td>Paul Gregutt</td>\n",
       "      <td>@paulgwine</td>\n",
       "      <td>Sweet Cheeks 2012 Vintner's Reserve Wild Child...</td>\n",
       "      <td>Pinot Noir</td>\n",
       "      <td>Sweet Cheeks</td>\n",
       "      <td>249.0</td>\n",
       "    </tr>\n",
       "  </tbody>\n",
       "</table>\n",
       "</div>"
      ],
      "text/plain": [
       "  _c0   country                                        description  \\\n",
       "0   0     Italy  Aromas include tropical fruit, broom, brimston...   \n",
       "1   1  Portugal  This is ripe and fruity, a wine that is smooth...   \n",
       "2   2        US  Tart and snappy, the flavors of lime flesh and...   \n",
       "3   3        US  Pineapple rind, lemon pith and orange blossom ...   \n",
       "4   4        US  Much like the regular bottling from 2012, this...   \n",
       "\n",
       "                          designation points price           province  \\\n",
       "0                        Vulkà Bianco     87  None  Sicily & Sardinia   \n",
       "1                            Avidagos     87  15.0              Douro   \n",
       "2                                None     87  14.0             Oregon   \n",
       "3                Reserve Late Harvest     87  13.0           Michigan   \n",
       "4  Vintner's Reserve Wild Child Block     87  65.0             Oregon   \n",
       "\n",
       "              region_1           region_2         taster_name  \\\n",
       "0                 Etna               None       Kerin O’Keefe   \n",
       "1                 None               None          Roger Voss   \n",
       "2    Willamette Valley  Willamette Valley        Paul Gregutt   \n",
       "3  Lake Michigan Shore               None  Alexander Peartree   \n",
       "4    Willamette Valley  Willamette Valley        Paul Gregutt   \n",
       "\n",
       "  taster_twitter_handle                                              title  \\\n",
       "0          @kerinokeefe                  Nicosia 2013 Vulkà Bianco  (Etna)   \n",
       "1            @vossroger      Quinta dos Avidagos 2011 Avidagos Red (Douro)   \n",
       "2           @paulgwine       Rainstorm 2013 Pinot Gris (Willamette Valley)   \n",
       "3                  None  St. Julian 2013 Reserve Late Harvest Riesling ...   \n",
       "4           @paulgwine   Sweet Cheeks 2012 Vintner's Reserve Wild Child...   \n",
       "\n",
       "          variety               winery  length  \n",
       "0     White Blend              Nicosia   172.0  \n",
       "1  Portuguese Red  Quinta dos Avidagos   227.0  \n",
       "2      Pinot Gris            Rainstorm   186.0  \n",
       "3        Riesling           St. Julian   199.0  \n",
       "4      Pinot Noir         Sweet Cheeks   249.0  "
      ]
     },
     "execution_count": 9,
     "metadata": {},
     "output_type": "execute_result"
    }
   ],
   "source": [
    "sparktoPD = data.toPandas()\n",
    "sparktoPD.head()"
   ]
  },
  {
   "cell_type": "code",
   "execution_count": 10,
   "metadata": {},
   "outputs": [
    {
     "data": {
      "text/html": [
       "<div>\n",
       "<style>\n",
       "    .dataframe thead tr:only-child th {\n",
       "        text-align: right;\n",
       "    }\n",
       "\n",
       "    .dataframe thead th {\n",
       "        text-align: left;\n",
       "    }\n",
       "\n",
       "    .dataframe tbody tr th {\n",
       "        vertical-align: top;\n",
       "    }\n",
       "</style>\n",
       "<table border=\"1\" class=\"dataframe\">\n",
       "  <thead>\n",
       "    <tr style=\"text-align: right;\">\n",
       "      <th></th>\n",
       "      <th>country</th>\n",
       "      <th>description</th>\n",
       "      <th>designation</th>\n",
       "      <th>points</th>\n",
       "      <th>price</th>\n",
       "      <th>province</th>\n",
       "      <th>region_1</th>\n",
       "      <th>region_2</th>\n",
       "      <th>taster_name</th>\n",
       "      <th>taster_twitter_handle</th>\n",
       "      <th>title</th>\n",
       "      <th>variety</th>\n",
       "      <th>winery</th>\n",
       "      <th>length</th>\n",
       "    </tr>\n",
       "  </thead>\n",
       "  <tbody>\n",
       "    <tr>\n",
       "      <th>count</th>\n",
       "      <td>129912</td>\n",
       "      <td>129974</td>\n",
       "      <td>92513</td>\n",
       "      <td>129966</td>\n",
       "      <td>120976</td>\n",
       "      <td>129909</td>\n",
       "      <td>108734</td>\n",
       "      <td>50521</td>\n",
       "      <td>103726</td>\n",
       "      <td>98762</td>\n",
       "      <td>129965</td>\n",
       "      <td>129963</td>\n",
       "      <td>129963</td>\n",
       "      <td>129974.000000</td>\n",
       "    </tr>\n",
       "    <tr>\n",
       "      <th>unique</th>\n",
       "      <td>47</td>\n",
       "      <td>119958</td>\n",
       "      <td>37995</td>\n",
       "      <td>43</td>\n",
       "      <td>414</td>\n",
       "      <td>449</td>\n",
       "      <td>1252</td>\n",
       "      <td>38</td>\n",
       "      <td>35</td>\n",
       "      <td>32</td>\n",
       "      <td>118831</td>\n",
       "      <td>727</td>\n",
       "      <td>16774</td>\n",
       "      <td>NaN</td>\n",
       "    </tr>\n",
       "    <tr>\n",
       "      <th>top</th>\n",
       "      <td>US</td>\n",
       "      <td>Seductively tart in lemon pith, cranberry and ...</td>\n",
       "      <td>Reserve</td>\n",
       "      <td>88</td>\n",
       "      <td>20.0</td>\n",
       "      <td>California</td>\n",
       "      <td>Napa Valley</td>\n",
       "      <td>Central Coast</td>\n",
       "      <td>Roger Voss</td>\n",
       "      <td>@vossroger</td>\n",
       "      <td>Gloria Ferrer NV Sonoma Brut Sparkling (Sonoma...</td>\n",
       "      <td>Pinot Noir</td>\n",
       "      <td>Wines &amp; Winemakers</td>\n",
       "      <td>NaN</td>\n",
       "    </tr>\n",
       "    <tr>\n",
       "      <th>freq</th>\n",
       "      <td>54504</td>\n",
       "      <td>3</td>\n",
       "      <td>2009</td>\n",
       "      <td>17203</td>\n",
       "      <td>6938</td>\n",
       "      <td>36240</td>\n",
       "      <td>4477</td>\n",
       "      <td>11063</td>\n",
       "      <td>25513</td>\n",
       "      <td>25513</td>\n",
       "      <td>11</td>\n",
       "      <td>13270</td>\n",
       "      <td>222</td>\n",
       "      <td>NaN</td>\n",
       "    </tr>\n",
       "    <tr>\n",
       "      <th>mean</th>\n",
       "      <td>NaN</td>\n",
       "      <td>NaN</td>\n",
       "      <td>NaN</td>\n",
       "      <td>NaN</td>\n",
       "      <td>NaN</td>\n",
       "      <td>NaN</td>\n",
       "      <td>NaN</td>\n",
       "      <td>NaN</td>\n",
       "      <td>NaN</td>\n",
       "      <td>NaN</td>\n",
       "      <td>NaN</td>\n",
       "      <td>NaN</td>\n",
       "      <td>NaN</td>\n",
       "      <td>242.561089</td>\n",
       "    </tr>\n",
       "    <tr>\n",
       "      <th>std</th>\n",
       "      <td>NaN</td>\n",
       "      <td>NaN</td>\n",
       "      <td>NaN</td>\n",
       "      <td>NaN</td>\n",
       "      <td>NaN</td>\n",
       "      <td>NaN</td>\n",
       "      <td>NaN</td>\n",
       "      <td>NaN</td>\n",
       "      <td>NaN</td>\n",
       "      <td>NaN</td>\n",
       "      <td>NaN</td>\n",
       "      <td>NaN</td>\n",
       "      <td>NaN</td>\n",
       "      <td>66.596748</td>\n",
       "    </tr>\n",
       "    <tr>\n",
       "      <th>min</th>\n",
       "      <td>NaN</td>\n",
       "      <td>NaN</td>\n",
       "      <td>NaN</td>\n",
       "      <td>NaN</td>\n",
       "      <td>NaN</td>\n",
       "      <td>NaN</td>\n",
       "      <td>NaN</td>\n",
       "      <td>NaN</td>\n",
       "      <td>NaN</td>\n",
       "      <td>NaN</td>\n",
       "      <td>NaN</td>\n",
       "      <td>NaN</td>\n",
       "      <td>NaN</td>\n",
       "      <td>4.000000</td>\n",
       "    </tr>\n",
       "    <tr>\n",
       "      <th>25%</th>\n",
       "      <td>NaN</td>\n",
       "      <td>NaN</td>\n",
       "      <td>NaN</td>\n",
       "      <td>NaN</td>\n",
       "      <td>NaN</td>\n",
       "      <td>NaN</td>\n",
       "      <td>NaN</td>\n",
       "      <td>NaN</td>\n",
       "      <td>NaN</td>\n",
       "      <td>NaN</td>\n",
       "      <td>NaN</td>\n",
       "      <td>NaN</td>\n",
       "      <td>NaN</td>\n",
       "      <td>197.000000</td>\n",
       "    </tr>\n",
       "    <tr>\n",
       "      <th>50%</th>\n",
       "      <td>NaN</td>\n",
       "      <td>NaN</td>\n",
       "      <td>NaN</td>\n",
       "      <td>NaN</td>\n",
       "      <td>NaN</td>\n",
       "      <td>NaN</td>\n",
       "      <td>NaN</td>\n",
       "      <td>NaN</td>\n",
       "      <td>NaN</td>\n",
       "      <td>NaN</td>\n",
       "      <td>NaN</td>\n",
       "      <td>NaN</td>\n",
       "      <td>NaN</td>\n",
       "      <td>237.000000</td>\n",
       "    </tr>\n",
       "    <tr>\n",
       "      <th>75%</th>\n",
       "      <td>NaN</td>\n",
       "      <td>NaN</td>\n",
       "      <td>NaN</td>\n",
       "      <td>NaN</td>\n",
       "      <td>NaN</td>\n",
       "      <td>NaN</td>\n",
       "      <td>NaN</td>\n",
       "      <td>NaN</td>\n",
       "      <td>NaN</td>\n",
       "      <td>NaN</td>\n",
       "      <td>NaN</td>\n",
       "      <td>NaN</td>\n",
       "      <td>NaN</td>\n",
       "      <td>282.000000</td>\n",
       "    </tr>\n",
       "    <tr>\n",
       "      <th>max</th>\n",
       "      <td>NaN</td>\n",
       "      <td>NaN</td>\n",
       "      <td>NaN</td>\n",
       "      <td>NaN</td>\n",
       "      <td>NaN</td>\n",
       "      <td>NaN</td>\n",
       "      <td>NaN</td>\n",
       "      <td>NaN</td>\n",
       "      <td>NaN</td>\n",
       "      <td>NaN</td>\n",
       "      <td>NaN</td>\n",
       "      <td>NaN</td>\n",
       "      <td>NaN</td>\n",
       "      <td>829.000000</td>\n",
       "    </tr>\n",
       "  </tbody>\n",
       "</table>\n",
       "</div>"
      ],
      "text/plain": [
       "       country                                        description designation  \\\n",
       "count   129912                                             129974       92513   \n",
       "unique      47                                             119958       37995   \n",
       "top         US  Seductively tart in lemon pith, cranberry and ...     Reserve   \n",
       "freq     54504                                                  3        2009   \n",
       "mean       NaN                                                NaN         NaN   \n",
       "std        NaN                                                NaN         NaN   \n",
       "min        NaN                                                NaN         NaN   \n",
       "25%        NaN                                                NaN         NaN   \n",
       "50%        NaN                                                NaN         NaN   \n",
       "75%        NaN                                                NaN         NaN   \n",
       "max        NaN                                                NaN         NaN   \n",
       "\n",
       "        points   price    province     region_1       region_2 taster_name  \\\n",
       "count   129966  120976      129909       108734          50521      103726   \n",
       "unique      43     414         449         1252             38          35   \n",
       "top         88    20.0  California  Napa Valley  Central Coast  Roger Voss   \n",
       "freq     17203    6938       36240         4477          11063       25513   \n",
       "mean       NaN     NaN         NaN          NaN            NaN         NaN   \n",
       "std        NaN     NaN         NaN          NaN            NaN         NaN   \n",
       "min        NaN     NaN         NaN          NaN            NaN         NaN   \n",
       "25%        NaN     NaN         NaN          NaN            NaN         NaN   \n",
       "50%        NaN     NaN         NaN          NaN            NaN         NaN   \n",
       "75%        NaN     NaN         NaN          NaN            NaN         NaN   \n",
       "max        NaN     NaN         NaN          NaN            NaN         NaN   \n",
       "\n",
       "       taster_twitter_handle  \\\n",
       "count                  98762   \n",
       "unique                    32   \n",
       "top               @vossroger   \n",
       "freq                   25513   \n",
       "mean                     NaN   \n",
       "std                      NaN   \n",
       "min                      NaN   \n",
       "25%                      NaN   \n",
       "50%                      NaN   \n",
       "75%                      NaN   \n",
       "max                      NaN   \n",
       "\n",
       "                                                    title     variety  \\\n",
       "count                                              129965      129963   \n",
       "unique                                             118831         727   \n",
       "top     Gloria Ferrer NV Sonoma Brut Sparkling (Sonoma...  Pinot Noir   \n",
       "freq                                                   11       13270   \n",
       "mean                                                  NaN         NaN   \n",
       "std                                                   NaN         NaN   \n",
       "min                                                   NaN         NaN   \n",
       "25%                                                   NaN         NaN   \n",
       "50%                                                   NaN         NaN   \n",
       "75%                                                   NaN         NaN   \n",
       "max                                                   NaN         NaN   \n",
       "\n",
       "                    winery         length  \n",
       "count               129963  129974.000000  \n",
       "unique               16774            NaN  \n",
       "top     Wines & Winemakers            NaN  \n",
       "freq                   222            NaN  \n",
       "mean                   NaN     242.561089  \n",
       "std                    NaN      66.596748  \n",
       "min                    NaN       4.000000  \n",
       "25%                    NaN     197.000000  \n",
       "50%                    NaN     237.000000  \n",
       "75%                    NaN     282.000000  \n",
       "max                    NaN     829.000000  "
      ]
     },
     "execution_count": 10,
     "metadata": {},
     "output_type": "execute_result"
    }
   ],
   "source": [
    "sparktoPD.drop(sparktoPD.columns[[0]], axis=1, inplace=True) # drop that unnamed row numbers column\n",
    "sparktoPD.describe(include='all')"
   ]
  },
  {
   "cell_type": "code",
   "execution_count": 13,
   "metadata": {},
   "outputs": [
    {
     "data": {
      "text/plain": [
       "Pinot Noir                                                 13270\n",
       "Chardonnay                                                 11752\n",
       "Cabernet Sauvignon                                          9467\n",
       "Red Blend                                                   8945\n",
       "Bordeaux-style Red Blend                                    6914\n",
       "Riesling                                                    5184\n",
       "Sauvignon Blanc                                             4965\n",
       "Syrah                                                       4142\n",
       "Rosé                                                        3563\n",
       "Merlot                                                      3102\n",
       "Nebbiolo                                                    2803\n",
       "Zinfandel                                                   2714\n",
       "Sangiovese                                                  2707\n",
       "Malbec                                                      2652\n",
       "Portuguese Red                                              2466\n",
       "White Blend                                                 2360\n",
       "Sparkling Blend                                             2153\n",
       "Tempranillo                                                 1810\n",
       "Rhône-style Red Blend                                       1471\n",
       "Pinot Gris                                                  1455\n",
       "Champagne Blend                                             1396\n",
       "Cabernet Franc                                              1353\n",
       "Grüner Veltliner                                            1344\n",
       "Portuguese White                                            1159\n",
       "Bordeaux-style White Blend                                  1066\n",
       "Pinot Grigio                                                1049\n",
       "Gamay                                                       1025\n",
       "Gewürztraminer                                              1012\n",
       "Viognier                                                     996\n",
       "Shiraz                                                       836\n",
       "                                                           ...  \n",
       "Morava                                                         1\n",
       "Sauvignon Blanc-Sauvignon Gris                                 1\n",
       "Chardonnay-Pinot Gris                                          1\n",
       "Biancale                                                       1\n",
       "Pignolo                                                        1\n",
       "Žilavka                                                        1\n",
       "Kinali Yapincak                                                1\n",
       "Willamette Valley                                              1\n",
       "Cabernet Sauvignon-Barbera                                     1\n",
       "Vermentino Nero                                                1\n",
       "Folle Blanche                                                  1\n",
       "Pinotage-Merlot                                                1\n",
       "Ekigaïna                                                       1\n",
       "País                                                           1\n",
       "Finger Lakes                                                   1\n",
       "Huia 2002 Riesling (Marlborough)                               1\n",
       "Livio Felluga 2001 Pinot Grigio (Friuli Venezia Giulia)        1\n",
       "Silvaner-Traminer                                              1\n",
       "Vranac                                                         1\n",
       "Biancu Gentile                                                 1\n",
       "Muscadel                                                       1\n",
       "Thrapsathiri                                                   1\n",
       "Gros Plant                                                     1\n",
       "Petit Courbu                                                   1\n",
       "Cococciola                                                     1\n",
       "Vespaiolo                                                      1\n",
       "Kuntra                                                         1\n",
       "Tsolikouri                                                     1\n",
       "Roditis-Moschofilero                                           1\n",
       "Loureiro-Arinto                                                1\n",
       "Name: variety, Length: 727, dtype: int64"
      ]
     },
     "execution_count": 13,
     "metadata": {},
     "output_type": "execute_result"
    }
   ],
   "source": [
    "# Checking the top 20 wines which has the highest frequencies.\n",
    "varieties =  sparktoPD['variety'].value_counts()\n",
    "varieties"
   ]
  },
  {
   "cell_type": "code",
   "execution_count": 14,
   "metadata": {},
   "outputs": [
    {
     "data": {
      "text/plain": [
       "count          93895\n",
       "unique            20\n",
       "top       Pinot Noir\n",
       "freq           13270\n",
       "Name: variety, dtype: object"
      ]
     },
     "execution_count": 14,
     "metadata": {},
     "output_type": "execute_result"
    }
   ],
   "source": [
    "# considering only the top 20 wines with the highest frequencies. As many of the wine varietals have less than 5 reviews\n",
    "top_wines_df =  sparktoPD.loc[ sparktoPD['variety'].isin(varieties.axes[0][:20])] # first column[0],  rows :20  \n",
    "top_wines_df['variety'].describe()"
   ]
  },
  {
   "cell_type": "code",
   "execution_count": 15,
   "metadata": {},
   "outputs": [
    {
     "data": {
      "text/plain": [
       "DataFrame[_c0: string, country: string, description: string, designation: string, points: string, price: string, province: string, region_1: string, region_2: string, taster_name: string, taster_twitter_handle: string, title: string, variety: string, winery: string, length: int]"
      ]
     },
     "execution_count": 15,
     "metadata": {},
     "output_type": "execute_result"
    }
   ],
   "source": [
    "data"
   ]
  },
  {
   "cell_type": "code",
   "execution_count": 27,
   "metadata": {},
   "outputs": [
    {
     "data": {
      "text/plain": [
       "[Row(country='Italy', description=\"Aromas include tropical fruit, broom, brimstone and dried herb. The palate isn't overly expressive, offering unripened apple, citrus and dried sage alongside brisk acidity.\", designation='Vulkà Bianco', points='87', price=None, province='Sicily & Sardinia', region_1='Etna', region_2=None, taster_name='Kerin O’Keefe', taster_twitter_handle='@kerinokeefe', title='Nicosia 2013 Vulkà Bianco  (Etna)', variety='White Blend', winery='Nicosia', length=172.0),\n",
       " Row(country='Portugal', description=\"This is ripe and fruity, a wine that is smooth while still structured. Firm tannins are filled out with juicy red berry fruits and freshened with acidity. It's  already drinkable, although it will certainly be better from 2016.\", designation='Avidagos', points='87', price='15.0', province='Douro', region_1=None, region_2=None, taster_name='Roger Voss', taster_twitter_handle='@vossroger', title='Quinta dos Avidagos 2011 Avidagos Red (Douro)', variety='Portuguese Red', winery='Quinta dos Avidagos', length=227.0),\n",
       " Row(country='US', description='Tart and snappy, the flavors of lime flesh and rind dominate. Some green pineapple pokes through, with crisp acidity underscoring the flavors. The wine was all stainless-steel fermented.', designation=None, points='87', price='14.0', province='Oregon', region_1='Willamette Valley', region_2='Willamette Valley', taster_name='Paul Gregutt', taster_twitter_handle='@paulgwine\\xa0', title='Rainstorm 2013 Pinot Gris (Willamette Valley)', variety='Pinot Gris', winery='Rainstorm', length=186.0),\n",
       " Row(country='US', description='Pineapple rind, lemon pith and orange blossom start off the aromas. The palate is a bit more opulent, with notes of honey-drizzled guava and mango giving way to a slightly astringent, semidry finish.', designation='Reserve Late Harvest', points='87', price='13.0', province='Michigan', region_1='Lake Michigan Shore', region_2=None, taster_name='Alexander Peartree', taster_twitter_handle=None, title='St. Julian 2013 Reserve Late Harvest Riesling (Lake Michigan Shore)', variety='Riesling', winery='St. Julian', length=199.0),\n",
       " Row(country='US', description=\"Much like the regular bottling from 2012, this comes across as rather rough and tannic, with rustic, earthy, herbal characteristics. Nonetheless, if you think of it as a pleasantly unfussy country wine, it's a good companion to a hearty winter stew.\", designation=\"Vintner's Reserve Wild Child Block\", points='87', price='65.0', province='Oregon', region_1='Willamette Valley', region_2='Willamette Valley', taster_name='Paul Gregutt', taster_twitter_handle='@paulgwine\\xa0', title=\"Sweet Cheeks 2012 Vintner's Reserve Wild Child Block Pinot Noir (Willamette Valley)\", variety='Pinot Noir', winery='Sweet Cheeks', length=249.0)]"
      ]
     },
     "execution_count": 27,
     "metadata": {},
     "output_type": "execute_result"
    }
   ],
   "source": [
    "#convert pd to spark\n",
    "spark_df = spark.createDataFrame(top_wines_df)\n",
    "spark_df.head(5)"
   ]
  },
  {
   "cell_type": "code",
   "execution_count": 17,
   "metadata": {},
   "outputs": [
    {
     "data": {
      "text/plain": [
       "728"
      ]
     },
     "execution_count": 17,
     "metadata": {},
     "output_type": "execute_result"
    }
   ],
   "source": [
    "len(sparktoPD['variety'].unique())"
   ]
  },
  {
   "cell_type": "markdown",
   "metadata": {},
   "source": [
    "# Feature Transformations"
   ]
  },
  {
   "cell_type": "code",
   "execution_count": 20,
   "metadata": {
    "collapsed": true
   },
   "outputs": [],
   "source": [
    "from pyspark.ml.feature import Tokenizer, StopWordsRemover, HashingTF, IDF, StringIndexer\n",
    "\n",
    "# Create all the features to the data set\n",
    "wine_variety_to_num = StringIndexer(inputCol= 'variety',outputCol='label')\n",
    "tokenizer = Tokenizer(inputCol=\"description\", outputCol=\"token_text\")\n",
    "stopremove = StopWordsRemover(inputCol='token_text',outputCol='stop_tokens')\n",
    "\n",
    "# By default the number of features can be a million 1,000,000 but my local host cannot handle computing \n",
    "# was getting out of memory issue of heap. restricting \"numFeatures=10000\"\n",
    "# hashingTF = HashingTF(inputCol=\"stop_tokens\", outputCol='hash_token', numFeatures=1000)\n",
    "hashingTF = HashingTF(inputCol=\"stop_tokens\", outputCol='hash_token', numFeatures=10000)\n",
    "idf = IDF(inputCol='hash_token', outputCol='idf_token')"
   ]
  },
  {
   "cell_type": "code",
   "execution_count": 21,
   "metadata": {
    "collapsed": true
   },
   "outputs": [],
   "source": [
    "from pyspark.ml.feature import VectorAssembler\n",
    "from pyspark.ml.linalg import Vector\n",
    "\n",
    "# Create feature vectors\n",
    "# See https://spark.apache.org/docs/latest/ml-features.html#vectorassembler\n",
    "# This just creates a new, single vector of features that is the concatenation\n",
    "# of tf-idf data and the length of the wine varietal\n",
    "\n",
    "clean_up = VectorAssembler(inputCols=['idf_token', 'length'], outputCol='features')"
   ]
  },
  {
   "cell_type": "code",
   "execution_count": 22,
   "metadata": {
    "collapsed": true
   },
   "outputs": [],
   "source": [
    "# Create and run a data processing Pipeline\n",
    "# See https://spark.apache.org/docs/latest/ml-pipeline.html#pipeline\n",
    "\n",
    "from pyspark.ml import Pipeline\n",
    "data_prep_pipeline = Pipeline(stages=[wine_variety_to_num, tokenizer, stopremove, hashingTF, idf, clean_up])"
   ]
  },
  {
   "cell_type": "code",
   "execution_count": 23,
   "metadata": {
    "collapsed": true
   },
   "outputs": [],
   "source": [
    "# Fit and transform the pipeline\n",
    "cleaner = data_prep_pipeline.fit(spark_df)\n",
    "\n",
    "# Running the transform method here _actually_ runs the pipeline on our \n",
    "# DataFrame and returns the transformed data\n",
    "cleaned = cleaner.transform(spark_df)"
   ]
  },
  {
   "cell_type": "code",
   "execution_count": 24,
   "metadata": {},
   "outputs": [
    {
     "name": "stdout",
     "output_type": "stream",
     "text": [
      "+-----+------------------------------------------------------------------------------------------------------------------------------------------------------------------------------------------------------------------------------------------------------------------------------------------------------------------------------------------------------------------------------------------------------------------------------------------------------------------------------------------------------------------------------------------------------------------------------------------------------------------------------------------------------------------------------------------------------------------------------------------------------------------------------------------------------------+\n",
      "|label|features                                                                                                                                                                                                                                                                                                                                                                                                                                                                                                                                                                                                                                                                                                                                                                                                    |\n",
      "+-----+------------------------------------------------------------------------------------------------------------------------------------------------------------------------------------------------------------------------------------------------------------------------------------------------------------------------------------------------------------------------------------------------------------------------------------------------------------------------------------------------------------------------------------------------------------------------------------------------------------------------------------------------------------------------------------------------------------------------------------------------------------------------------------------------------------+\n",
      "|15.0 |(10001,[516,1368,1783,1877,1933,2634,2926,3401,3690,4258,4525,4593,4733,6653,7573,8297,8534,8942,9818,10000],[5.023454608322269,3.2298091086281002,4.13007813597099,6.056315519427598,5.441129880337365,1.3706132350476352,4.615834326966121,4.791932019909211,5.600287819631401,3.9472048550251086,6.670819572668431,3.916784258324397,2.815500314313483,2.5549986048230737,6.112404986078642,1.6645073350199682,6.8152140775503245,2.90416241751181,3.6262971349450077,172.0])                                                                                                                                                                                                                                                                                                                            |\n",
      "|14.0 |(10001,[130,941,1469,1800,3372,3389,3921,4291,4724,6026,6201,6234,6308,6653,7203,7697,7779,7878,7891,8057,8894,9783,10000],[3.981429794283623,4.502005997164991,2.3019037200011563,3.1889332797561325,5.458478518671978,1.861166258083532,2.950303033611312,2.03854116563577,2.732261013614319,6.03829701392492,4.9322717928676845,6.605755979321368,4.482975927165977,2.5549986048230737,2.7783135210593035,1.0133010439947778,3.6963195192202134,5.015396546992506,1.877184275237979,4.070310913170407,2.8628507469840554,7.080495213312938,227.0])                                                                                                                                                                                                                                                       |\n",
      "|19.0 |(10001,[200,409,571,625,660,1069,1783,2273,4173,5370,5927,5977,6556,7166,7697,7756,8689,8897,10000],[1.9520956366662827,1.1474780712712216,3.1974969755330074,2.7839851010986107,7.291059982420288,5.414461633255203,4.13007813597099,5.78006214279944,6.2188344489253735,6.559593937558206,3.9900282995388547,2.785364887450664,6.679258441314295,6.544668287341531,1.0133010439947778,8.191846527758477,3.596726677623888,1.8036083806607899,186.0])                                                                                                                                                                                                                                                                                                                                                      |\n",
      "|5.0  |(10001,[1,52,996,2146,2245,3508,4400,5871,5875,5924,5927,5948,6097,6446,6632,8297,8309,8813,9159,9662,9914,10000],[3.274676961667899,5.609301408406561,4.302383794590506,5.969304142437968,4.158968287636978,8.015955861294813,5.031578129843749,5.063063746417315,7.093234239090368,1.9180265697044399,3.9900282995388547,2.2265877567262824,6.060871335963459,2.918452569662898,5.081755879429467,1.6645073350199682,3.067424777690324,2.895068807396034,3.9577400231612185,6.387348032752993,3.916784258324397,199.0])                                                                                                                                                                                                                                                                                   |\n",
      "|0.0  |(10001,[398,524,1198,1310,1437,1564,2056,3051,3157,3330,4831,5313,5388,6168,6681,6770,6795,6851,7195,7308,7412,7876,8721,9224,9744,10000],[5.365443652704789,3.8410724365887003,6.182084906716632,4.0004450603971105,4.019828927218159,5.940554729151983,4.626656943424273,3.6755075554770023,5.90086698088474,3.139036308611509,6.696352874673595,6.758595183550816,3.9483086078965464,2.748596662740798,5.83681495939189,5.91655357705244,5.515048870160372,7.173276946763904,2.4707784168152513,7.38950005523354,6.042771294319841,5.058025952387358,6.320044350856887,4.344156936298688,3.3266817466582137,249.0])                                                                                                                                                                                      |\n",
      "|19.0 |(10001,[200,295,1097,1572,2260,3802,4260,4621,4659,4724,4798,5231,5977,6256,7478,9597,10000],[1.9520956366662827,3.6195174479596286,4.161015371258703,1.5670664671479562,3.5932362726841194,2.839988394282411,3.3110863150836343,2.8226406516836926,3.423119489562331,2.732261013614319,2.9353532602338372,2.690902338255741,2.785364887450664,2.5194488804877833,2.4575099783227405,3.666719049443923,160.0])                                                                                                                                                                                                                                                                                                                                                                                              |\n",
      "|2.0  |(10001,[173,254,295,992,1304,1688,1960,2129,2144,2751,3593,3931,3993,4160,4214,4474,4893,6312,6927,6964,7697,7938,8714,9132,10000],[3.327571822373407,6.679258441314295,3.6195174479596286,5.61221261861402,4.27139758201626,4.319844555654382,5.156523786933478,3.569894864808383,5.822321952089323,3.7446805909136347,5.205776165116224,4.120193376738448,5.05970239871461,3.4175829178554595,7.275555795884323,4.504892002054126,5.609301408406561,3.5378861776009543,4.99160478243517,4.040806621859832,1.0133010439947778,2.642171998799916,3.1830077181695042,8.082647235793486,243.0])                                                                                                                                                                                                               |\n",
      "|2.0  |(10001,[1,1607,2100,4259,5546,6027,6038,6149,6212,6875,7203,7394,7591,7697,8216,8563,8774,8894,9607,9903,10000],[3.274676961667899,5.586311890181863,2.5385479585342687,6.70501093741671,4.916154227846616,5.090369197107583,6.285157091856446,1.6902681486096798,2.3485251010279637,5.305757431654314,2.7783135210593035,2.39450365502174,2.431126461362531,1.0133010439947778,3.3009191977281898,6.696352874673595,6.687769130982204,2.8628507469840554,4.342517591669255,5.678501942649944,171.0])                                                                                                                                                                                                                                                                                                       |\n",
      "|1.0  |(10001,[409,571,625,628,1000,2416,2580,2648,2665,2860,3164,3389,3468,3613,3677,3848,3926,4399,4659,4761,5771,5852,5927,6168,6233,7195,7504,7552,8144,8461,8591,8845,9668,10000],[1.1474780712712216,3.1974969755330074,2.7839851010986107,4.659845830266056,5.109583762052208,3.917319446991172,5.79745388551131,7.230435360603853,3.6675527301925004,5.783516377667528,6.995595769526452,1.861166258083532,4.279823522330331,4.847355173590623,4.815309707918274,6.984034947125376,7.031102457983362,8.23106724091176,3.423119489562331,4.436027590969432,8.810885736164701,7.322808680734869,3.9900282995388547,2.748596662740798,7.40689179794541,2.4707784168152513,6.240456912938539,4.836558847400401,5.11666343764027,4.971433423571391,6.452730792015845,5.386157857092352,5.561065107447079,308.0])|\n",
      "|5.0  |(10001,[3,760,1593,2836,3737,3744,4426,4555,5231,5706,5948,6256,6879,7441,8571,8813,8955,9348,9385,10000],[6.906648283509956,3.8233728594892997,2.810709248454698,5.881598562018863,5.239342988755307,6.984034947125376,4.502967073644541,6.337955277423417,2.690902338255741,4.462452818778969,2.2265877567262824,2.5194488804877833,4.12677234783649,5.569410079379259,7.322808680734869,2.895068807396034,4.929321938221264,3.264871588247677,4.810067231953424,176.0])                                                                                                                                                                                                                                                                                                                                  |\n",
      "|13.0 |(10001,[379,409,462,466,625,1217,1721,2031,2053,2100,2202,2634,3563,4097,4589,5735,5748,6031,6653,7090,7841,7877,7938,8297,8311,8314,8813,8941,9454,9755,10000],[3.614759310513212,1.1474780712712216,7.106137643926276,4.832540087805483,2.7839851010986107,3.937871819944493,3.524424085993034,3.7582862429694135,4.275984746023166,2.5385479585342687,7.38950005523354,1.3706132350476352,4.177544673209914,6.29088776656543,3.7874752505797225,2.792640166379077,6.875232087276577,5.504522457173385,2.5549986048230737,7.8664241273238495,4.498170901381048,5.340695483015594,2.642171998799916,1.6645073350199682,4.116266670122276,6.176943507216213,2.895068807396034,2.3509812817871665,7.306808339388427,4.782986273350754,284.0])                                                                |\n",
      "|13.0 |(10001,[295,328,919,2013,2100,2203,2634,3115,3617,4498,4557,4724,4852,5560,5913,6038,6599,6659,7203,7707,7980,8989,9237,9292,10000],[3.6195174479596286,7.339069201606648,5.476133453910698,5.694200852193048,5.0770959170685375,3.2568193442678925,1.3706132350476352,4.215044645465128,4.845999241179487,5.981882924644829,3.5556250019383357,2.732261013614319,5.1382082566270455,5.0186119838464816,5.239342988755307,6.285157091856446,5.478681225989497,6.279459070741808,2.7783135210593035,8.96503641599196,4.013325800545734,5.2929640801944045,5.86644675699826,5.145494263357978,245.0])                                                                                                                                                                                                         |\n",
      "|3.0  |(10001,[261,408,571,595,697,709,1213,2634,2817,3337,3389,4173,4291,4593,4680,5709,5948,6149,6446,6903,6919,8297,9180,9897,10000],[5.407310232097578,3.394785333960281,3.1974969755330074,4.074687287770206,2.5373351021090595,4.62992670110583,2.8656521308312284,1.3706132350476352,4.045663947742692,3.80358934333396,1.861166258083532,6.2188344489253735,2.03854116563577,3.916784258324397,2.89622509968135,7.043223818515707,4.453175513452565,1.6902681486096798,2.918452569662898,5.977672392108485,5.3700098706843695,1.6645073350199682,5.182742517238597,4.3749798678139165,210.0])                                                                                                                                                                                                              |\n",
      "|0.0  |(10001,[571,768,1818,1928,2100,2685,2807,3285,3784,4026,4435,4580,4759,4953,5268,6621,7108,7198,7697,7935,8249,8259,8461,8470,8569,10000],[3.1974969755330074,5.1961142542044865,3.872821134903281,6.166739337041971,2.5385479585342687,6.202918993619474,7.043223818515707,4.106516836632593,6.079305037652297,6.171828406549443,3.1748214355634508,6.229587240701635,6.400087058530423,6.412990463366331,5.766363298441278,6.896066174179419,4.333548921686495,2.8954540896200256,1.0133010439947778,5.940554729151983,3.5012046109663495,3.173548360916653,4.971433423571391,5.312216011693725,6.256986214889749,233.0])                                                                                                                                                                                 |\n",
      "|15.0 |(10001,[613,1368,2634,4077,4733,5196,5514,6166,6653,7394,8140,8259,8297,8689,8862,9859,9993,10000],[4.5492124017347875,3.2298091086281002,1.3706132350476352,5.527702675803817,2.815500314313483,2.881676604179722,3.9888775514256767,3.347053931139091,2.5549986048230737,2.39450365502174,5.580646152646185,3.173548360916653,1.6645073350199682,3.596726677623888,5.274075795674198,3.44524355523041,5.257580576305088,150.0])                                                                                                                                                                                                                                                                                                                                                                           |\n",
      "|9.0  |(10001,[200,354,409,1614,1880,2439,2634,2918,3515,3660,4159,6027,6149,6151,6201,6446,6512,7271,7338,7394,7697,8451,8911,9190,10000],[1.9520956366662827,8.117738555604756,1.1474780712712216,6.8447728797918685,3.8490406062378777,4.123477451939638,1.3706132350476352,5.586311890181863,3.574823784739667,5.175181044538021,4.743080729177213,5.090369197107583,1.6902681486096798,8.15062810112203,4.9322717928676845,2.918452569662898,5.9903575516358005,5.340695483015594,8.74189286467775,2.39450365502174,1.0133010439947778,6.131823071935743,6.083967050758108,5.597740586005486,251.0])                                                                                                                                                                                                          |\n",
      "|0.0  |(10001,[12,65,1036,1661,1742,2014,2100,2634,3113,3921,4680,4952,4987,4997,5305,5416,5737,6577,7198,7394,7499,7702,8737,8751,9142,9597,10000],[6.70501093741671,3.9439008872618375,7.8664241273238495,6.85482321564537,4.790649146096323,4.323052256881152,2.5385479585342687,1.3706132350476352,2.389379619122005,2.950303033611312,2.89622509968135,4.36739449642466,3.5008515659494432,6.393697260431652,6.795982715622436,5.1436677788319445,3.961649550620532,5.5920099112965005,2.8954540896200256,2.39450365502174,4.794502715412312,2.728340721105763,5.694200852193048,3.4359380710005016,4.003357966622235,3.666719049443923,259.0])                                                                                                                                                               |\n",
      "|15.0 |(10001,[613,1213,1368,2100,2634,3092,3337,3515,4258,4548,5196,5356,5428,5514,5948,5977,5993,6653,7394,8154,8297,8835,10000],[4.5492124017347875,2.8656521308312284,3.2298091086281002,2.5385479585342687,1.3706132350476352,3.6315127937093035,3.80358934333396,3.574823784739667,3.9472048550251086,1.534774008469994,2.881676604179722,3.2977450499181735,7.636053105417416,3.9888775514256767,2.2265877567262824,2.785364887450664,3.7950260179316393,2.5549986048230737,2.39450365502174,5.271998951729359,1.6645073350199682,4.08602956437414,184.0])                                                                                                                                                                                                                                                  |\n",
      "|3.0  |(10001,[935,1213,1256,1368,2634,2817,3389,3698,4408,4554,5635,6149,7154,7394,7428,8150,8249,8297,9632,10000],[4.550219958495087,2.8656521308312284,9.356015019880715,3.2298091086281002,1.3706132350476352,4.045663947742692,1.861166258083532,5.555540231515109,3.453289190317352,6.574745742578808,4.0395959679589355,1.6902681486096798,3.5507895824368623,2.39450365502174,4.681449854131331,2.336223732408203,7.002409221932699,1.6645073350199682,4.5977004967280815,163.0])                                                                                                                                                                                                                                                                                                                          |\n",
      "|3.0  |(10001,[124,372,694,760,1773,2999,4291,4548,4742,4929,5196,5621,6408,6517,6729,6970,7697,8173,8993,10000],[5.924490126648176,6.8447728797918685,5.6268971702969415,3.8233728594892997,4.356538439911193,6.805552166638587,2.03854116563577,1.534774008469994,6.156638241055467,4.27292429987006,2.881676604179722,5.38151747753585,4.601937791203597,3.447248903496022,6.96130669604782,5.881598562018863,1.0133010439947778,6.00320569411365,4.531247846759489,175.0])                                                                                                                                                                                                                                                                                                                                     |\n",
      "+-----+------------------------------------------------------------------------------------------------------------------------------------------------------------------------------------------------------------------------------------------------------------------------------------------------------------------------------------------------------------------------------------------------------------------------------------------------------------------------------------------------------------------------------------------------------------------------------------------------------------------------------------------------------------------------------------------------------------------------------------------------------------------------------------------------------------+\n",
      "only showing top 20 rows\n",
      "\n"
     ]
    }
   ],
   "source": [
    "# Show label of wine variety and resulting features\n",
    "cleaned.select(['label', 'features']).show(truncate=False)"
   ]
  },
  {
   "cell_type": "code",
   "execution_count": 28,
   "metadata": {
    "collapsed": true
   },
   "outputs": [],
   "source": [
    "# Break data down into a training set and a testing set\n",
    "(training, testing) = cleaned.randomSplit([0.7, 0.3])"
   ]
  },
  {
   "cell_type": "code",
   "execution_count": 29,
   "metadata": {},
   "outputs": [
    {
     "data": {
      "text/plain": [
       "65842"
      ]
     },
     "execution_count": 29,
     "metadata": {},
     "output_type": "execute_result"
    }
   ],
   "source": [
    "training.count()"
   ]
  },
  {
   "cell_type": "code",
   "execution_count": 43,
   "metadata": {},
   "outputs": [
    {
     "data": {
      "text/plain": [
       "28053"
      ]
     },
     "execution_count": 43,
     "metadata": {},
     "output_type": "execute_result"
    }
   ],
   "source": [
    "testing.count()"
   ]
  },
  {
   "cell_type": "markdown",
   "metadata": {},
   "source": [
    "# Importing the NLP NaiveBayes model"
   ]
  },
  {
   "cell_type": "code",
   "execution_count": 32,
   "metadata": {
    "collapsed": true
   },
   "outputs": [],
   "source": [
    "from pyspark.ml.classification import NaiveBayes, NaiveBayesModel\n",
    "\n",
    "# Create a Naive Bayes model and fit training data\n",
    "nb = NaiveBayes(smoothing=1.0, modelType='multinomial')\n",
    "wine_predictor = nb.fit(training)"
   ]
  },
  {
   "cell_type": "code",
   "execution_count": 33,
   "metadata": {
    "collapsed": true
   },
   "outputs": [],
   "source": [
    "# When using the pyspark.mllib.classification had lots of issues with Java errors as NaiveBayesModel belongs to \n",
    "# pyspark.ml.classification library.\n",
    "from pyspark.ml.classification import NaiveBayesModel"
   ]
  },
  {
   "cell_type": "code",
   "execution_count": 34,
   "metadata": {},
   "outputs": [
    {
     "name": "stdout",
     "output_type": "stream",
     "text": [
      "+---------+--------------------+--------------------+------+-----+----------------+--------------------+--------+-----------------+---------------------+--------------------+---------------+---------+------+-----+--------------------+--------------------+--------------------+--------------------+--------------------+--------------------+--------------------+----------+\n",
      "|  country|         description|         designation|points|price|        province|            region_1|region_2|      taster_name|taster_twitter_handle|               title|        variety|   winery|length|label|          token_text|         stop_tokens|          hash_token|           idf_token|            features|       rawPrediction|         probability|prediction|\n",
      "+---------+--------------------+--------------------+------+-----+----------------+--------------------+--------+-----------------+---------------------+--------------------+---------------+---------+------+-----+--------------------+--------------------+--------------------+--------------------+--------------------+--------------------+--------------------+----------+\n",
      "|     null|Balanced aromas o...|      Aliwen Reserva|    87| 12.0|            null|                null|    null|Michael Schachner|          @wineschach|Undurraga 2016 Al...|Sauvignon Blanc|Undurraga| 273.0|  6.0|[balanced, aromas...|[balanced, aromas...|(10000,[200,357,4...|(10000,[200,357,4...|(10001,[200,357,4...|[-1184.6902216330...|[2.44438814379681...|       6.0|\n",
      "|     null|This mouthwaterin...|Theopetra Malagou...|    92| 28.0|            null|                null|    null|  Susan Kostrzewa|        @suskostrzewa|Tsililis 2015 The...|    White Blend| Tsililis| 257.0| 15.0|[this, mouthwater...|[mouthwatering, b...|(10000,[409,972,1...|(10000,[409,972,1...|(10001,[409,972,1...|[-1211.5516457965...|[1.67141191051688...|      15.0|\n",
      "|     null|This orange-style...|Orange Nikolaevo ...|    89| 28.0|            null|                null|    null|     Jeff Jenssen|       @worldwineguys|Ross-idi 2015 Ora...|     Chardonnay| Ross-idi| 334.0|  1.0|[this, orange-sty...|[orange-style, wi...|(10000,[409,419,5...|(10000,[409,419,5...|(10001,[409,419,5...|[-1541.6116394510...|[1.09588864856799...|       6.0|\n",
      "|Argentina|A blackened wine,...|                null|    86| 17.0|           Other|Alto Valle del Rí...|    null|Michael Schachner|          @wineschach|Verum 2010 Malbec...|         Malbec|    Verum| 230.0| 13.0|[a, blackened, wi...|[blackened, wine,...|(10000,[228,409,6...|(10000,[228,409,6...|(10001,[228,409,6...|[-926.67461841018...|[4.14654324963475...|      13.0|\n",
      "|Argentina|A blend of charre...|       Grand Reserve|    88| 20.0|Mendoza Province|             Mendoza|    null|Michael Schachner|          @wineschach|Cruz Alta 2006 Gr...|         Malbec|Cruz Alta| 281.0| 13.0|[a, blend, of, ch...|[blend, charred, ...|(10000,[656,912,1...|(10000,[656,912,1...|(10001,[656,912,1...|[-1185.9403984785...|[6.21762539563311...|      13.0|\n",
      "+---------+--------------------+--------------------+------+-----+----------------+--------------------+--------+-----------------+---------------------+--------------------+---------------+---------+------+-----+--------------------+--------------------+--------------------+--------------------+--------------------+--------------------+--------------------+----------+\n",
      "only showing top 5 rows\n",
      "\n"
     ]
    }
   ],
   "source": [
    "# Tranform the model with the testing data\n",
    "test_results = wine_predictor.transform(testing)\n",
    "test_results.show(5)"
   ]
  },
  {
   "cell_type": "code",
   "execution_count": 35,
   "metadata": {},
   "outputs": [
    {
     "name": "stdout",
     "output_type": "stream",
     "text": [
      "Accuracy of model at predicting wine variety was: 0.5831475350072413\n"
     ]
    }
   ],
   "source": [
    "# Use the Class Evaluator for a cleaner description\n",
    "from pyspark.ml.evaluation import MulticlassClassificationEvaluator\n",
    "\n",
    "acc_eval = MulticlassClassificationEvaluator()\n",
    "acc = acc_eval.evaluate(test_results)\n",
    "print(\"Accuracy of model at predicting wine variety was: %s\" % (acc))"
   ]
  },
  {
   "cell_type": "markdown",
   "metadata": {},
   "source": [
    "### Accuracy of model at predicting wine variety was: 0.5831475350072413"
   ]
  },
  {
   "cell_type": "code",
   "execution_count": null,
   "metadata": {
    "collapsed": true
   },
   "outputs": [],
   "source": []
  },
  {
   "cell_type": "markdown",
   "metadata": {},
   "source": [
    "# Saving a Trained Model\n",
    "We can save our trained models using model.save(\"model name\")"
   ]
  },
  {
   "cell_type": "code",
   "execution_count": 81,
   "metadata": {
    "collapsed": true
   },
   "outputs": [],
   "source": [
    "# Save the model\n",
    "# Note: model name is NOT \"nb\" \n",
    "# wine.predictor is the model name as it is trained model.\n",
    "wine_predictor.save(\"NaiveBayes_model.sav\")"
   ]
  },
  {
   "cell_type": "markdown",
   "metadata": {},
   "source": [
    "# Checking to see if the model is created with data and metadata"
   ]
  },
  {
   "cell_type": "code",
   "execution_count": 82,
   "metadata": {},
   "outputs": [
    {
     "name": "stdout",
     "output_type": "stream",
     "text": [
      "Database Engineering.ipynb\r\n",
      "\u001b[34mInputData\u001b[m\u001b[m/\r\n",
      "Logistic_Model.sav\r\n",
      "ML-DecisionTreeClassifier-&-RandomForestClassifier.ipynb\r\n",
      "NLP-NaiveBayes.ipynb\r\n",
      "\u001b[34mNaiveBayes_model\u001b[m\u001b[m/\r\n",
      "\u001b[34mNaiveBayes_model.sav\u001b[m\u001b[m/\r\n",
      "PySpark_and_NLP.pptx\r\n",
      "README\r\n",
      "app.py\r\n",
      "\u001b[34mmy_model\u001b[m\u001b[m/\r\n",
      "\u001b[34msaved_model\u001b[m\u001b[m/\r\n",
      "\u001b[34mspark-warehouse\u001b[m\u001b[m/\r\n",
      "\u001b[34mtemplates\u001b[m\u001b[m/\r\n",
      "\u001b[34mtesting\u001b[m\u001b[m/\r\n",
      "wines.sqlite\r\n"
     ]
    }
   ],
   "source": [
    "ls # current working directory\n"
   ]
  },
  {
   "cell_type": "code",
   "execution_count": 85,
   "metadata": {},
   "outputs": [
    {
     "name": "stdout",
     "output_type": "stream",
     "text": [
      "\u001b[34mdata\u001b[m\u001b[m     \u001b[34mmetadata\u001b[m\u001b[m\r\n"
     ]
    }
   ],
   "source": [
    "!ls NaiveBayes_model.sav/"
   ]
  },
  {
   "cell_type": "code",
   "execution_count": 86,
   "metadata": {
    "collapsed": true
   },
   "outputs": [],
   "source": [
    "!open NaiveBayes_model.sav/"
   ]
  },
  {
   "cell_type": "code",
   "execution_count": 87,
   "metadata": {
    "collapsed": true
   },
   "outputs": [],
   "source": [
    "#!rm -r NLP_NaiveBayes_trained/"
   ]
  },
  {
   "cell_type": "code",
   "execution_count": 88,
   "metadata": {},
   "outputs": [
    {
     "name": "stdout",
     "output_type": "stream",
     "text": [
      "Database Engineering.ipynb\r\n",
      "\u001b[34mInputData\u001b[m\u001b[m\r\n",
      "Logistic_Model.sav\r\n",
      "ML-DecisionTreeClassifier-&-RandomForestClassifier.ipynb\r\n",
      "NLP-NaiveBayes.ipynb\r\n",
      "\u001b[34mNaiveBayes_model\u001b[m\u001b[m\r\n",
      "\u001b[34mNaiveBayes_model.sav\u001b[m\u001b[m\r\n",
      "PySpark_and_NLP.pptx\r\n",
      "README\r\n",
      "app.py\r\n",
      "\u001b[34mmy_model\u001b[m\u001b[m\r\n",
      "\u001b[34msaved_model\u001b[m\u001b[m\r\n",
      "\u001b[34mspark-warehouse\u001b[m\u001b[m\r\n",
      "\u001b[34mtemplates\u001b[m\u001b[m\r\n",
      "\u001b[34mtesting\u001b[m\u001b[m\r\n",
      "wines.sqlite\r\n"
     ]
    }
   ],
   "source": [
    "!ls\n",
    "    "
   ]
  },
  {
   "cell_type": "markdown",
   "metadata": {},
   "source": [
    "# Loading the created model to test "
   ]
  },
  {
   "cell_type": "code",
   "execution_count": 89,
   "metadata": {},
   "outputs": [],
   "source": [
    "myNaiveBayes_model = NaiveBayesModel.load(\"NaiveBayes_model.sav\")"
   ]
  },
  {
   "cell_type": "code",
   "execution_count": 90,
   "metadata": {},
   "outputs": [
    {
     "name": "stdout",
     "output_type": "stream",
     "text": [
      "+---------+--------------------+--------------------+------+-----+----------------+--------------------+--------+-----------------+---------------------+--------------------+---------------+---------+------+-----+--------------------+--------------------+--------------------+--------------------+--------------------+--------------------+--------------------+----------+\n",
      "|  country|         description|         designation|points|price|        province|            region_1|region_2|      taster_name|taster_twitter_handle|               title|        variety|   winery|length|label|          token_text|         stop_tokens|          hash_token|           idf_token|            features|       rawPrediction|         probability|prediction|\n",
      "+---------+--------------------+--------------------+------+-----+----------------+--------------------+--------+-----------------+---------------------+--------------------+---------------+---------+------+-----+--------------------+--------------------+--------------------+--------------------+--------------------+--------------------+--------------------+----------+\n",
      "|     null|Balanced aromas o...|      Aliwen Reserva|    87| 12.0|            null|                null|    null|Michael Schachner|          @wineschach|Undurraga 2016 Al...|Sauvignon Blanc|Undurraga| 273.0|  6.0|[balanced, aromas...|[balanced, aromas...|(10000,[200,357,4...|(10000,[200,357,4...|(10001,[200,357,4...|[-1184.6902216330...|[2.44438814379681...|       6.0|\n",
      "|     null|This mouthwaterin...|Theopetra Malagou...|    92| 28.0|            null|                null|    null|  Susan Kostrzewa|        @suskostrzewa|Tsililis 2015 The...|    White Blend| Tsililis| 257.0| 15.0|[this, mouthwater...|[mouthwatering, b...|(10000,[409,972,1...|(10000,[409,972,1...|(10001,[409,972,1...|[-1211.5516457965...|[1.67141191051688...|      15.0|\n",
      "|     null|This orange-style...|Orange Nikolaevo ...|    89| 28.0|            null|                null|    null|     Jeff Jenssen|       @worldwineguys|Ross-idi 2015 Ora...|     Chardonnay| Ross-idi| 334.0|  1.0|[this, orange-sty...|[orange-style, wi...|(10000,[409,419,5...|(10000,[409,419,5...|(10001,[409,419,5...|[-1541.6116394510...|[1.09588864856799...|       6.0|\n",
      "|Argentina|A blackened wine,...|                null|    86| 17.0|           Other|Alto Valle del Rí...|    null|Michael Schachner|          @wineschach|Verum 2010 Malbec...|         Malbec|    Verum| 230.0| 13.0|[a, blackened, wi...|[blackened, wine,...|(10000,[228,409,6...|(10000,[228,409,6...|(10001,[228,409,6...|[-926.67461841018...|[4.14654324963475...|      13.0|\n",
      "|Argentina|A blend of charre...|       Grand Reserve|    88| 20.0|Mendoza Province|             Mendoza|    null|Michael Schachner|          @wineschach|Cruz Alta 2006 Gr...|         Malbec|Cruz Alta| 281.0| 13.0|[a, blend, of, ch...|[blend, charred, ...|(10000,[656,912,1...|(10000,[656,912,1...|(10001,[656,912,1...|[-1185.9403984785...|[6.21762539563311...|      13.0|\n",
      "+---------+--------------------+--------------------+------+-----+----------------+--------------------+--------+-----------------+---------------------+--------------------+---------------+---------+------+-----+--------------------+--------------------+--------------------+--------------------+--------------------+--------------------+--------------------+----------+\n",
      "only showing top 5 rows\n",
      "\n"
     ]
    }
   ],
   "source": [
    "test_model_results = myNaiveBayes_model.transform(testing)\n",
    "test_model_results.show(5)\n",
    "\n",
    " "
   ]
  },
  {
   "cell_type": "markdown",
   "metadata": {},
   "source": [
    "# Predicting the model"
   ]
  },
  {
   "cell_type": "code",
   "execution_count": 91,
   "metadata": {},
   "outputs": [],
   "source": [
    "from sklearn.cross_validation import train_test_split\n",
    "from sklearn.preprocessing import LabelEncoder"
   ]
  },
  {
   "cell_type": "code",
   "execution_count": 92,
   "metadata": {
    "collapsed": true
   },
   "outputs": [],
   "source": [
    "le = LabelEncoder()\n",
    "y = le.fit_transform(top_wines_df['variety'])"
   ]
  },
  {
   "cell_type": "code",
   "execution_count": 93,
   "metadata": {
    "collapsed": true
   },
   "outputs": [],
   "source": [
    "# term frequency–inverse document frequency, is a numerical statistic that is intended to reflect how important \n",
    "# a word is to a document in a collections\n",
    "from sklearn.feature_extraction.text import TfidfVectorizer\n",
    "\n",
    "\n",
    "#Here, we use the Tfidf Vectorizer to figure out the importance of the words that make up the descriptions given\n",
    "from sklearn.linear_model import LogisticRegression  \n",
    "vect = TfidfVectorizer()\n",
    "X = vect.fit_transform(top_wines_df['description'])"
   ]
  },
  {
   "cell_type": "code",
   "execution_count": 94,
   "metadata": {
    "collapsed": true
   },
   "outputs": [],
   "source": [
    "X_train, X_test, y_train, y_test = train_test_split(X,y,test_size=0.3, random_state = 101)"
   ]
  },
  {
   "cell_type": "code",
   "execution_count": 95,
   "metadata": {},
   "outputs": [
    {
     "data": {
      "text/plain": [
       "array(['Pinot Noir', 'Cabernet Sauvignon', 'Red Blend',\n",
       "       'Cabernet Sauvignon', 'Bordeaux-style Red Blend', 'Chardonnay',\n",
       "       'Pinot Noir', 'Pinot Noir', 'Chardonnay', 'Chardonnay', 'Red Blend',\n",
       "       'Chardonnay', 'Bordeaux-style Red Blend', 'Cabernet Sauvignon',\n",
       "       'Red Blend', 'Chardonnay', 'Cabernet Sauvignon', 'Chardonnay',\n",
       "       'Cabernet Sauvignon', 'Chardonnay'], dtype=object)"
      ]
     },
     "execution_count": 95,
     "metadata": {},
     "output_type": "execute_result"
    }
   ],
   "source": [
    "import numpy as np\n",
    "from sklearn.naive_bayes import MultinomialNB\n",
    "NBmodel = MultinomialNB()\n",
    "NBmodel.fit(X_train, y_train)\n",
    "NBmodel.predict(X_test)\n",
    "le.classes_[NBmodel.predict(X_test)[0:20]]"
   ]
  },
  {
   "cell_type": "code",
   "execution_count": null,
   "metadata": {
    "collapsed": true
   },
   "outputs": [],
   "source": []
  },
  {
   "cell_type": "code",
   "execution_count": null,
   "metadata": {
    "collapsed": true
   },
   "outputs": [],
   "source": []
  }
 ],
 "metadata": {
  "kernelspec": {
   "display_name": "Python 3",
   "language": "python",
   "name": "python3"
  },
  "language_info": {
   "codemirror_mode": {
    "name": "ipython",
    "version": 3
   },
   "file_extension": ".py",
   "mimetype": "text/x-python",
   "name": "python",
   "nbconvert_exporter": "python",
   "pygments_lexer": "ipython3",
   "version": "3.6.3"
  }
 },
 "nbformat": 4,
 "nbformat_minor": 2
}
