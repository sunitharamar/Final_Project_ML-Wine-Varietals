{
 "cells": [
  {
   "cell_type": "code",
   "execution_count": 1,
   "metadata": {
    "collapsed": true
   },
   "outputs": [],
   "source": [
    "from pyspark.sql import SparkSession\n",
    "from pyspark.ml.feature import Tokenizer, StopWordsRemover, HashingTF, IDF\n",
    " "
   ]
  },
  {
   "cell_type": "code",
   "execution_count": 2,
   "metadata": {
    "collapsed": true
   },
   "outputs": [],
   "source": [
    "# Spark session created . Basically it is important to manage the DB session, as there are limited threads to these sessions\n",
    "spark = SparkSession.builder.appName(\"nlp\").getOrCreate()"
   ]
  },
  {
   "cell_type": "code",
   "execution_count": 27,
   "metadata": {
    "collapsed": true
   },
   "outputs": [],
   "source": [
    "# Read in data and store in dataframe\n",
    "# Pyspark can infer schema types by setting inferSchema and header to True\n",
    "#df = spark.read.csv(\"./InputData/winemag-data-130k-v2.csv\", inferSchema=True, header=True)\n",
    "df = spark.read.csv(\"test.csv\", inferSchema=True, header=True)"
   ]
  },
  {
   "cell_type": "code",
   "execution_count": 28,
   "metadata": {},
   "outputs": [
    {
     "data": {
      "text/plain": [
       "Tokenizer_48138d3e96ad3d9dce05"
      ]
     },
     "execution_count": 28,
     "metadata": {},
     "output_type": "execute_result"
    }
   ],
   "source": [
    "tokened = Tokenizer(inputCol=\"description\", outputCol=\"words\")\n",
    "tokened"
   ]
  },
  {
   "cell_type": "code",
   "execution_count": 29,
   "metadata": {},
   "outputs": [
    {
     "name": "stdout",
     "output_type": "stream",
     "text": [
      "+-------------------------------------------------------------------------------------------------------------------------------------------------------------------------------------------------------------------------------------------------------------------------------------------------------+\n",
      "|words                                                                                                                                                                                                                                                                                                  |\n",
      "+-------------------------------------------------------------------------------------------------------------------------------------------------------------------------------------------------------------------------------------------------------------------------------------------------------+\n",
      "|[aromas, include, tropical, fruit, broom, brimstone, and, dried, herb, the, palate, isn't, overly, expressive, offering, unripened, apple, citrus, and, dried, sage, alongside, brisk, acidity]                                                                                                        |\n",
      "|[this, is, ripe, and, fruity, a, wine, that, is, smooth, while, still, structured, firm, tannins, are, filled, out, with, juicy, red, berry, fruits, and, freshened, with, acidity, it's, , already, drinkable, although, it, will, certainly, be, better, from, 2016]                                 |\n",
      "|[tart, and, snappy, the, flavors, of, lime, flesh, and, rind, dominate, some, green, pineapple, pokes, through, with, crisp, acidity, underscoring, the, flavors, the, wine, was, all, stainless-steel, fermented]                                                                                     |\n",
      "|[pineapple, rind, lemon, pith, and, orange, blossom, start, off, the, aromas, the, palate, is, a, bit, more, opulent, with, notes, of, honey-drizzled, guava, and, mango, giving, way, to, a, slightly, astringent, semidry, finish]                                                                   |\n",
      "|[much, like, the, regular, bottling, from, 2012, this, comes, across, as, rather, rough, and, tannic, with, rustic, earthy, herbal, characteristics, nonetheless, if, you, think, of, it, as, a, pleasantly, unfussy, country, wine, it's, a, good, companion, to, a, hearty, winter, stew]            |\n",
      "|[blackberry, and, raspberry, aromas, show, a, typical, navarran, whiff, of, green, herbs, and, in, this, case, horseradish, in, the, mouth, this, is, fairly, full, bodied, with, tomatoey, acidity, spicy, herbal, flavors, complement, dark, plum, fruit, while, the, finish, is, fresh, but, grabby]|\n",
      "|[here's, a, bright, informal, red, that, opens, with, aromas, of, candied, berry, white, pepper, and, savory, herb, that, carry, over, to, the, palate, it's, balanced, with, fresh, acidity, and, soft, tannins]                                                                                      |\n",
      "|[this, dry, and, restrained, wine, offers, spice, in, profusion, balanced, with, acidity, and, a, firm, texture, it's, very, much, for, food]                                                                                                                                                          |\n",
      "|[savory, dried, thyme, notes, accent, sunnier, flavors, of, preserved, peach, in, this, brisk, off-dry, wine, it's, fruity, and, fresh, with, an, elegant, sprightly, footprint]                                                                                                                       |\n",
      "|[this, has, great, depth, of, flavor, with, its, fresh, apple, and, pear, fruits, and, touch, of, spice, it's, off, dry, while, balanced, with, acidity, and, a, crisp, texture, drink, now]                                                                                                           |\n",
      "+-------------------------------------------------------------------------------------------------------------------------------------------------------------------------------------------------------------------------------------------------------------------------------------------------------+\n",
      "\n"
     ]
    }
   ],
   "source": [
    "# Transform and show dataframe\n",
    "tokened_transformed = tokened.transform(df )\n",
    "tokened_transformed.select('words').show(truncate=False)"
   ]
  },
  {
   "cell_type": "code",
   "execution_count": 30,
   "metadata": {},
   "outputs": [
    {
     "name": "stdout",
     "output_type": "stream",
     "text": [
      "+---+------------------------------------------------------------------------------------------------------------------------------------------------------------------------------------------------------------------------------------------------------------+------------------+-------------------------------------------------------------------------------------------------------------------------------------------------------------------------------------------------------------------------------------------------------------------------------------------------------+-------------------------------------------------------------------------------------------------------------------------------------------------------------------------------------------------------------------------------------------------------------------------------------------------------+\n",
      "|_c0|description                                                                                                                                                                                                                                                 |variety           |words                                                                                                                                                                                                                                                                                                  |filtered                                                                                                                                                                                                                                                                                               |\n",
      "+---+------------------------------------------------------------------------------------------------------------------------------------------------------------------------------------------------------------------------------------------------------------+------------------+-------------------------------------------------------------------------------------------------------------------------------------------------------------------------------------------------------------------------------------------------------------------------------------------------------+-------------------------------------------------------------------------------------------------------------------------------------------------------------------------------------------------------------------------------------------------------------------------------------------------------+\n",
      "|0  |Aromas include tropical fruit broom brimstone and dried herb The palate isn't overly expressive offering unripened apple citrus and dried sage alongside brisk acidity                                                                                      |White Blend       |[aromas, include, tropical, fruit, broom, brimstone, and, dried, herb, the, palate, isn't, overly, expressive, offering, unripened, apple, citrus, and, dried, sage, alongside, brisk, acidity]                                                                                                        |[aromas, include, tropical, fruit, broom, brimstone, and, dried, herb, the, palate, isn't, overly, expressive, offering, unripened, apple, citrus, and, dried, sage, alongside, brisk, acidity]                                                                                                        |\n",
      "|1  |This is ripe and fruity a wine that is smooth while still structured Firm tannins are filled out with juicy red berry fruits and freshened with acidity It's  already drinkable although it will certainly be better from 2016                              |Portuguese Red    |[this, is, ripe, and, fruity, a, wine, that, is, smooth, while, still, structured, firm, tannins, are, filled, out, with, juicy, red, berry, fruits, and, freshened, with, acidity, it's, , already, drinkable, although, it, will, certainly, be, better, from, 2016]                                 |[this, is, ripe, and, fruity, a, wine, that, is, smooth, while, still, structured, firm, tannins, are, filled, out, with, juicy, red, berry, fruits, and, freshened, with, acidity, it's, , already, drinkable, although, it, will, certainly, be, better, from, 2016]                                 |\n",
      "|2  |Tart and snappy the flavors of lime flesh and rind dominate Some green pineapple pokes through with crisp acidity underscoring the flavors The wine was all stainless-steel fermented                                                                       |Pinot Gris        |[tart, and, snappy, the, flavors, of, lime, flesh, and, rind, dominate, some, green, pineapple, pokes, through, with, crisp, acidity, underscoring, the, flavors, the, wine, was, all, stainless-steel, fermented]                                                                                     |[tart, and, snappy, the, flavors, of, lime, flesh, and, rind, dominate, some, green, pineapple, pokes, through, with, crisp, acidity, underscoring, the, flavors, the, wine, was, all, stainless-steel, fermented]                                                                                     |\n",
      "|3  |Pineapple rind lemon pith and orange blossom start off the aromas The palate is a bit more opulent with notes of honey-drizzled guava and mango giving way to a slightly astringent semidry finish                                                          |Riesling          |[pineapple, rind, lemon, pith, and, orange, blossom, start, off, the, aromas, the, palate, is, a, bit, more, opulent, with, notes, of, honey-drizzled, guava, and, mango, giving, way, to, a, slightly, astringent, semidry, finish]                                                                   |[pineapple, rind, lemon, pith, and, orange, blossom, start, off, the, aromas, the, palate, is, a, bit, more, opulent, with, notes, of, honey-drizzled, guava, and, mango, giving, way, to, a, slightly, astringent, semidry, finish]                                                                   |\n",
      "|4  |Much like the regular bottling from 2012 this comes across as rather rough and tannic with rustic earthy herbal characteristics Nonetheless if you think of it as a pleasantly unfussy country wine it's a good companion to a hearty winter stew           |Pinot Noir        |[much, like, the, regular, bottling, from, 2012, this, comes, across, as, rather, rough, and, tannic, with, rustic, earthy, herbal, characteristics, nonetheless, if, you, think, of, it, as, a, pleasantly, unfussy, country, wine, it's, a, good, companion, to, a, hearty, winter, stew]            |[much, like, the, regular, bottling, from, 2012, this, comes, across, as, rather, rough, and, tannic, with, rustic, earthy, herbal, characteristics, nonetheless, if, you, think, of, it, as, a, pleasantly, unfussy, country, wine, it's, a, good, companion, to, a, hearty, winter, stew]            |\n",
      "|5  |Blackberry and raspberry aromas show a typical Navarran whiff of green herbs and in this case horseradish In the mouth this is fairly full bodied with tomatoey acidity Spicy herbal flavors complement dark plum fruit while the finish is fresh but grabby|Tempranillo-Merlot|[blackberry, and, raspberry, aromas, show, a, typical, navarran, whiff, of, green, herbs, and, in, this, case, horseradish, in, the, mouth, this, is, fairly, full, bodied, with, tomatoey, acidity, spicy, herbal, flavors, complement, dark, plum, fruit, while, the, finish, is, fresh, but, grabby]|[blackberry, and, raspberry, aromas, show, a, typical, navarran, whiff, of, green, herbs, and, in, this, case, horseradish, in, the, mouth, this, is, fairly, full, bodied, with, tomatoey, acidity, spicy, herbal, flavors, complement, dark, plum, fruit, while, the, finish, is, fresh, but, grabby]|\n",
      "|6  |Here's a bright informal red that opens with aromas of candied berry white pepper and savory herb that carry over to the palate It's balanced with fresh acidity and soft tannins                                                                           |Frappato          |[here's, a, bright, informal, red, that, opens, with, aromas, of, candied, berry, white, pepper, and, savory, herb, that, carry, over, to, the, palate, it's, balanced, with, fresh, acidity, and, soft, tannins]                                                                                      |[here's, a, bright, informal, red, that, opens, with, aromas, of, candied, berry, white, pepper, and, savory, herb, that, carry, over, to, the, palate, it's, balanced, with, fresh, acidity, and, soft, tannins]                                                                                      |\n",
      "|7  |This dry and restrained wine offers spice in profusion Balanced with acidity and a firm texture it's very much for food                                                                                                                                     |Gewürztraminer    |[this, dry, and, restrained, wine, offers, spice, in, profusion, balanced, with, acidity, and, a, firm, texture, it's, very, much, for, food]                                                                                                                                                          |[this, dry, and, restrained, wine, offers, spice, in, profusion, balanced, with, acidity, and, a, firm, texture, it's, very, much, for, food]                                                                                                                                                          |\n",
      "|8  |Savory dried thyme notes accent sunnier flavors of preserved peach in this brisk off-dry wine It's fruity and fresh with an elegant sprightly footprint                                                                                                     |Gewürztraminer    |[savory, dried, thyme, notes, accent, sunnier, flavors, of, preserved, peach, in, this, brisk, off-dry, wine, it's, fruity, and, fresh, with, an, elegant, sprightly, footprint]                                                                                                                       |[savory, dried, thyme, notes, accent, sunnier, flavors, of, preserved, peach, in, this, brisk, off-dry, wine, it's, fruity, and, fresh, with, an, elegant, sprightly, footprint]                                                                                                                       |\n",
      "|9  |This has great depth of flavor with its fresh apple and pear fruits and touch of spice It's off dry while balanced with acidity and a crisp texture Drink now                                                                                               |Pinot Gris        |[this, has, great, depth, of, flavor, with, its, fresh, apple, and, pear, fruits, and, touch, of, spice, it's, off, dry, while, balanced, with, acidity, and, a, crisp, texture, drink, now]                                                                                                           |[this, has, great, depth, of, flavor, with, its, fresh, apple, and, pear, fruits, and, touch, of, spice, it's, off, dry, while, balanced, with, acidity, and, a, crisp, texture, drink, now]                                                                                                           |\n",
      "+---+------------------------------------------------------------------------------------------------------------------------------------------------------------------------------------------------------------------------------------------------------------+------------------+-------------------------------------------------------------------------------------------------------------------------------------------------------------------------------------------------------------------------------------------------------------------------------------------------------+-------------------------------------------------------------------------------------------------------------------------------------------------------------------------------------------------------------------------------------------------------------------------------------------------------+\n",
      "\n"
     ]
    }
   ],
   "source": [
    "stop_list = [\"box\"]\n",
    "remover = StopWordsRemover(inputCol=\"words\", outputCol=\"filtered\", stopWords=stop_list)\n",
    "removed_frame = remover.transform(tokened_transformed)\n",
    "removed_frame.show(truncate=False)"
   ]
  },
  {
   "cell_type": "code",
   "execution_count": null,
   "metadata": {
    "collapsed": true
   },
   "outputs": [],
   "source": []
  },
  {
   "cell_type": "code",
   "execution_count": 31,
   "metadata": {},
   "outputs": [
    {
     "data": {
      "text/plain": [
       "HashingTF_4b75b5e1090fe0a877ec"
      ]
     },
     "execution_count": 31,
     "metadata": {},
     "output_type": "execute_result"
    }
   ],
   "source": [
    "# Run the hashing term frequency\n",
    "hashing = HashingTF(inputCol=\"filtered\", outputCol=\"hashedValues\")\n",
    "hashing"
   ]
  },
  {
   "cell_type": "code",
   "execution_count": null,
   "metadata": {
    "collapsed": true
   },
   "outputs": [],
   "source": []
  },
  {
   "cell_type": "code",
   "execution_count": 32,
   "metadata": {},
   "outputs": [
    {
     "name": "stdout",
     "output_type": "stream",
     "text": [
      "+--------------------+--------------------+--------------------+--------------------+\n",
      "|         description|               words|            filtered|        hashedValues|\n",
      "+--------------------+--------------------+--------------------+--------------------+\n",
      "|Aromas include tr...|[aromas, include,...|[aromas, include,...|(262144,[11076,21...|\n",
      "|This is ripe and ...|[this, is, ripe, ...|[this, is, ripe, ...|(262144,[5460,158...|\n",
      "|Tart and snappy t...|[tart, and, snapp...|[tart, and, snapp...|(262144,[2650,963...|\n",
      "|Pineapple rind le...|[pineapple, rind,...|[pineapple, rind,...|(262144,[9639,158...|\n",
      "|Much like the reg...|[much, like, the,...|[much, like, the,...|(262144,[9639,164...|\n",
      "|Blackberry and ra...|[blackberry, and,...|[blackberry, and,...|(262144,[3521,963...|\n",
      "|Here's a bright i...|[here's, a, brigh...|[here's, a, brigh...|(262144,[9639,110...|\n",
      "|This dry and rest...|[this, dry, and, ...|[this, dry, and, ...|(262144,[16332,21...|\n",
      "|Savory dried thym...|[savory, dried, t...|[savory, dried, t...|(262144,[5358,963...|\n",
      "|This has great de...|[this, has, great...|[this, has, great...|(262144,[5460,963...|\n",
      "+--------------------+--------------------+--------------------+--------------------+\n",
      "\n"
     ]
    }
   ],
   "source": [
    "# Transform into a DF\n",
    "hashed_df = hashing.transform(removed_frame)\n",
    "hashed_df.select(\"description\", \"words\", \"filtered\",\"hashedValues\").show()"
   ]
  },
  {
   "cell_type": "code",
   "execution_count": 33,
   "metadata": {},
   "outputs": [],
   "source": [
    "idf = IDF(inputCol=\"hashedValues\", outputCol=\"features\")\n",
    "idfModel = idf.fit(hashed_df)"
   ]
  },
  {
   "cell_type": "code",
   "execution_count": 34,
   "metadata": {
    "collapsed": true
   },
   "outputs": [],
   "source": [
    "# idfModel = idf.fit(hashed_df)\n",
    "rescaledData = idfModel.transform(hashed_df)"
   ]
  },
  {
   "cell_type": "code",
   "execution_count": 35,
   "metadata": {},
   "outputs": [
    {
     "name": "stdout",
     "output_type": "stream",
     "text": [
      "+------------------------------------------------------------------------------------------------------------------------------------------------------------------------------------------------------------------------------------------------------------+----------------------------------------------------------------------------------------------------------------------------------------------------------------------------------------------------------------------------------------------------------------------------------------------------------------------------------------------------------------------------------------------------------------------------------------------------------------------------------------------------------------------------------------------------------------------------------------------------------------------------------------------------------------------------------------------------------------------------------------------------------------------------------------------------------------------------------------------------------------------------------------------------------------------------------------------------------------------------------------------------------+\n",
      "|description                                                                                                                                                                                                                                                 |features                                                                                                                                                                                                                                                                                                                                                                                                                                                                                                                                                                                                                                                                                                                                                                                                                                                                                                                                                                                                  |\n",
      "+------------------------------------------------------------------------------------------------------------------------------------------------------------------------------------------------------------------------------------------------------------+----------------------------------------------------------------------------------------------------------------------------------------------------------------------------------------------------------------------------------------------------------------------------------------------------------------------------------------------------------------------------------------------------------------------------------------------------------------------------------------------------------------------------------------------------------------------------------------------------------------------------------------------------------------------------------------------------------------------------------------------------------------------------------------------------------------------------------------------------------------------------------------------------------------------------------------------------------------------------------------------------------+\n",
      "|Aromas include tropical fruit broom brimstone and dried herb The palate isn't overly expressive offering unripened apple citrus and dried sage alongside brisk acidity                                                                                      |(262144,[11076,21336,28485,47702,57914,74257,77080,86234,88244,91677,97913,103838,121726,126381,136793,147786,178126,193671,194767,200223,240012,247139],[1.2992829841302609,0.3184537311185346,1.7047480922384253,1.7047480922384253,2.5985659682605218,1.7047480922384253,1.7047480922384253,1.7047480922384253,1.2992829841302609,0.0,1.7047480922384253,0.4519851237430572,1.7047480922384253,1.7047480922384253,1.0116009116784799,0.7884573603642703,1.7047480922384253,1.2992829841302609,1.7047480922384253,1.2992829841302609,1.7047480922384253,1.7047480922384253])                                                                                                                                                                                                                                                                                                                                                                                                                            |\n",
      "|This is ripe and fruity a wine that is smooth while still structured Firm tannins are filled out with juicy red berry fruits and freshened with acidity It's  already drinkable although it will certainly be better from 2016                              |(262144,[5460,15889,21336,26214,28177,36200,48448,50323,55709,58227,62713,79323,82846,84547,86175,89356,91677,95805,101169,102663,108541,108793,115917,119533,126466,140390,167122,167152,169118,169800,178737,195459,211190,223329,227410,249180],[1.2992829841302609,2.0232018233569597,0.3184537311185346,1.7047480922384253,1.7047480922384253,1.7047480922384253,1.2992829841302609,1.7047480922384253,1.7047480922384253,1.7047480922384253,1.7047480922384253,1.0116009116784799,1.7047480922384253,1.2992829841302609,1.2992829841302609,1.7047480922384253,0.0,0.4519851237430572,1.2992829841302609,1.7047480922384253,0.4519851237430572,1.7047480922384253,1.7047480922384253,1.2992829841302609,0.19062035960864987,1.7047480922384253,1.7047480922384253,1.7047480922384253,1.2992829841302609,1.7047480922384253,1.7047480922384253,1.2992829841302609,1.2992829841302609,0.6061358035703155,0.3184537311185346,1.7047480922384253])                                                       |\n",
      "|Tart and snappy the flavors of lime flesh and rind dominate Some green pineapple pokes through with crisp acidity underscoring the flavors The wine was all stainless-steel fermented                                                                       |(262144,[2650,9639,19208,21336,25175,25570,35149,36017,70527,75479,86641,91677,103838,117273,126466,131881,135560,183787,217740,223329,237656,244503,250193,255766],[1.7047480922384253,0.3184537311185346,1.7047480922384253,0.3184537311185346,1.2992829841302609,1.7047480922384253,1.2992829841302609,1.7047480922384253,1.7047480922384253,1.7047480922384253,1.7047480922384253,0.0,1.3559553712291716,1.2992829841302609,0.09531017980432493,2.0232018233569597,1.7047480922384253,1.7047480922384253,1.7047480922384253,0.6061358035703155,1.7047480922384253,1.7047480922384253,1.2992829841302609,1.7047480922384253])                                                                                                                                                                                                                                                                                                                                                                          |\n",
      "|Pineapple rind lemon pith and orange blossom start off the aromas The palate is a bit more opulent with notes of honey-drizzled guava and mango giving way to a slightly astringent semidry finish                                                          |(262144,[9639,15889,25175,27397,35149,38371,50265,56749,58240,67781,76068,86577,91677,103838,118244,126466,136793,141854,147786,158845,172428,172978,193889,199255,205044,212740,227410,235704,239029,248178],[0.3184537311185346,1.0116009116784799,1.2992829841302609,1.7047480922384253,1.2992829841302609,1.7047480922384253,1.7047480922384253,1.7047480922384253,1.7047480922384253,1.7047480922384253,1.7047480922384253,1.7047480922384253,0.0,0.9039702474861144,1.7047480922384253,0.09531017980432493,1.0116009116784799,1.7047480922384253,0.7884573603642703,1.2992829841302609,1.2992829841302609,1.7047480922384253,1.2992829841302609,1.7047480922384253,1.0116009116784799,1.7047480922384253,0.6369074622370692,1.7047480922384253,1.7047480922384253,1.7047480922384253])                                                                                                                                                                                                              |\n",
      "|Much like the regular bottling from 2012 this comes across as rather rough and tannic with rustic earthy herbal characteristics Nonetheless if you think of it as a pleasantly unfussy country wine it's a good companion to a hearty winter stew           |(262144,[9639,16422,32734,50940,55242,56715,62293,70028,74238,76764,82461,86175,91677,95805,96532,101169,103838,108541,113432,126466,129582,150324,152433,162015,162130,167781,187067,205044,208258,215550,223329,227410,232404,242832,252801,254428,257304,261721],[0.3184537311185346,1.7047480922384253,1.7047480922384253,3.4094961844768505,1.7047480922384253,1.7047480922384253,1.7047480922384253,1.7047480922384253,1.7047480922384253,1.2992829841302609,1.7047480922384253,1.2992829841302609,0.0,0.4519851237430572,1.7047480922384253,1.2992829841302609,0.4519851237430572,0.4519851237430572,1.7047480922384253,0.09531017980432493,1.7047480922384253,1.7047480922384253,1.7047480922384253,1.7047480922384253,1.7047480922384253,1.7047480922384253,1.7047480922384253,1.0116009116784799,1.7047480922384253,1.7047480922384253,0.6061358035703155,0.9553611933556038,1.7047480922384253,1.2992829841302609,1.7047480922384253,1.7047480922384253,1.7047480922384253,1.7047480922384253])|\n",
      "|Blackberry and raspberry aromas show a typical Navarran whiff of green herbs and in this case horseradish In the mouth this is fairly full bodied with tomatoey acidity Spicy herbal flavors complement dark plum fruit while the finish is fresh but grabby|(262144,[3521,9639,14894,15889,17182,21336,36301,51045,60002,69811,79323,79846,88244,91677,93329,93481,97830,100946,103838,108541,126466,131881,147786,151393,152610,158845,165400,189683,192310,199014,222453,227410,229305,242832,245731,250193,261628],[1.7047480922384253,0.3184537311185346,1.7047480922384253,2.0232018233569597,1.7047480922384253,0.3184537311185346,1.7047480922384253,1.7047480922384253,1.7047480922384253,1.7047480922384253,1.0116009116784799,1.7047480922384253,1.2992829841302609,0.0,1.7047480922384253,1.7047480922384253,1.7047480922384253,1.7047480922384253,0.9039702474861144,0.9039702474861144,0.09531017980432493,1.0116009116784799,0.7884573603642703,1.7047480922384253,1.7047480922384253,1.2992829841302609,1.7047480922384253,1.7047480922384253,1.7047480922384253,0.7884573603642703,2.0232018233569597,0.3184537311185346,1.7047480922384253,1.2992829841302609,1.7047480922384253,1.2992829841302609,1.7047480922384253])                             |\n",
      "|Here's a bright informal red that opens with aromas of candied berry white pepper and savory herb that carry over to the palate It's balanced with fresh acidity and soft tannins                                                                           |(262144,[9639,11076,12531,16155,19995,21336,48448,57341,67194,84547,91677,95805,103838,111868,119533,126466,136793,147786,159247,179832,195459,199014,203214,205044,214076,216393,227410,234825],[0.3184537311185346,1.2992829841302609,1.7047480922384253,1.7047480922384253,1.7047480922384253,0.3184537311185346,2.5985659682605218,1.7047480922384253,1.2992829841302609,1.2992829841302609,0.0,0.4519851237430572,0.4519851237430572,1.7047480922384253,1.2992829841302609,0.19062035960864987,1.0116009116784799,0.7884573603642703,1.7047480922384253,1.7047480922384253,1.2992829841302609,0.7884573603642703,1.0116009116784799,1.0116009116784799,1.7047480922384253,1.7047480922384253,0.3184537311185346,1.7047480922384253])                                                                                                                                                                                                                                                                 |\n",
      "|This dry and restrained wine offers spice in profusion Balanced with acidity and a firm texture it's very much for food                                                                                                                                     |(262144,[16332,21336,51394,63367,76764,77049,91677,95805,108541,121133,126466,169118,186753,203214,210040,220960,222453,223329,227410,232761],[1.7047480922384253,0.3184537311185346,1.7047480922384253,1.2992829841302609,1.2992829841302609,1.7047480922384253,0.0,0.4519851237430572,0.4519851237430572,1.7047480922384253,0.09531017980432493,1.2992829841302609,1.7047480922384253,1.0116009116784799,1.7047480922384253,1.2992829841302609,1.0116009116784799,0.6061358035703155,0.3184537311185346,1.2992829841302609])                                                                                                                                                                                                                                                                                                                                                                                                                                                                            |\n",
      "|Savory dried thyme notes accent sunnier flavors of preserved peach in this brisk off-dry wine It's fruity and fresh with an elegant sprightly footprint                                                                                                     |(262144,[5358,9639,15583,53884,57914,65007,67194,74203,91677,95805,108541,126466,131881,172428,173676,193671,194536,199014,211190,222453,223329,226197,232022,240780],[1.7047480922384253,0.3184537311185346,1.7047480922384253,1.7047480922384253,1.2992829841302609,1.7047480922384253,1.2992829841302609,1.7047480922384253,0.0,0.4519851237430572,0.4519851237430572,0.09531017980432493,1.0116009116784799,1.2992829841302609,1.7047480922384253,1.2992829841302609,1.7047480922384253,0.7884573603642703,1.2992829841302609,1.0116009116784799,0.6061358035703155,1.7047480922384253,1.7047480922384253,1.7047480922384253])                                                                                                                                                                                                                                                                                                                                                                        |\n",
      "|This has great depth of flavor with its fresh apple and pear fruits and touch of spice It's off dry while balanced with acidity and a crisp texture Drink now                                                                                               |(262144,[5460,9639,21336,28402,33977,63367,79323,91677,95805,108541,113764,117273,120904,126466,138356,167735,182061,193889,199014,200223,203214,205876,220960,227410,232761,238819],[1.2992829841302609,0.6369074622370692,0.3184537311185346,1.7047480922384253,1.7047480922384253,1.2992829841302609,1.0116009116784799,0.0,0.4519851237430572,0.4519851237430572,1.7047480922384253,1.2992829841302609,1.7047480922384253,0.19062035960864987,1.7047480922384253,1.7047480922384253,1.7047480922384253,1.2992829841302609,0.7884573603642703,1.2992829841302609,1.0116009116784799,1.7047480922384253,1.2992829841302609,0.3184537311185346,1.2992829841302609,1.7047480922384253])                                                                                                                                                                                                                                                                                                                   |\n",
      "+------------------------------------------------------------------------------------------------------------------------------------------------------------------------------------------------------------------------------------------------------------+----------------------------------------------------------------------------------------------------------------------------------------------------------------------------------------------------------------------------------------------------------------------------------------------------------------------------------------------------------------------------------------------------------------------------------------------------------------------------------------------------------------------------------------------------------------------------------------------------------------------------------------------------------------------------------------------------------------------------------------------------------------------------------------------------------------------------------------------------------------------------------------------------------------------------------------------------------------------------------------------------------+\n",
      "\n"
     ]
    }
   ],
   "source": [
    "rescaledData.select(\"description\", \"features\").show(truncate=False)"
   ]
  },
  {
   "cell_type": "markdown",
   "metadata": {},
   "source": [
    "# Feature Transformations"
   ]
  },
  {
   "cell_type": "code",
   "execution_count": null,
   "metadata": {
    "collapsed": true
   },
   "outputs": [],
   "source": []
  },
  {
   "cell_type": "code",
   "execution_count": null,
   "metadata": {
    "collapsed": true
   },
   "outputs": [],
   "source": [
    "start_data = "
   ]
  }
 ],
 "metadata": {
  "kernelspec": {
   "display_name": "Python 3",
   "language": "python",
   "name": "python3"
  },
  "language_info": {
   "codemirror_mode": {
    "name": "ipython",
    "version": 3
   },
   "file_extension": ".py",
   "mimetype": "text/x-python",
   "name": "python",
   "nbconvert_exporter": "python",
   "pygments_lexer": "ipython3",
   "version": "3.6.3"
  }
 },
 "nbformat": 4,
 "nbformat_minor": 2
}
