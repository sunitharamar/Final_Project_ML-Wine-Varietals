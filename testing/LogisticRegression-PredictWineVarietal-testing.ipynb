{
 "cells": [
  {
   "cell_type": "markdown",
   "metadata": {},
   "source": [
    "### Can we predict which variety of wine a review is describing?\n",
    "Zack posted a cool dataset of 130k reviews from [WineMag](http://winemag.com), proposing we try to predict a wine's variety using the words in the review text. Given my sister says she'd make up words when selling wine, I thought it'd be fun to try out my first document classifier (and kaggle!) to see if there are any real patterns behind wine descriptions.\n",
    "\n",
    "In this notebook I try out the following:\n",
    "\n",
    " - A quick look & clean of the data\n",
    " - Creating term frequency inverse document frequency (Tfidf) vectors of the review descriptions\n",
    " - Running Logistic Regression Classifier on our bag-of-words vectors\n",
    " - Hyperparameter tuning with grid search\n",
    " - Lastly, a check for any interesting topics with Latent Dirichlet Allocation\n",
    " \n",
    "I was a little surprised by some of the results, feedback is most welcome!"
   ]
  },
  {
   "cell_type": "code",
   "execution_count": 1,
   "metadata": {},
   "outputs": [
    {
     "data": {
      "text/html": [
       "<div>\n",
       "<style>\n",
       "    .dataframe thead tr:only-child th {\n",
       "        text-align: right;\n",
       "    }\n",
       "\n",
       "    .dataframe thead th {\n",
       "        text-align: left;\n",
       "    }\n",
       "\n",
       "    .dataframe tbody tr th {\n",
       "        vertical-align: top;\n",
       "    }\n",
       "</style>\n",
       "<table border=\"1\" class=\"dataframe\">\n",
       "  <thead>\n",
       "    <tr style=\"text-align: right;\">\n",
       "      <th></th>\n",
       "      <th>Unnamed: 0</th>\n",
       "      <th>country</th>\n",
       "      <th>description</th>\n",
       "      <th>designation</th>\n",
       "      <th>points</th>\n",
       "      <th>price</th>\n",
       "      <th>province</th>\n",
       "      <th>region_1</th>\n",
       "      <th>region_2</th>\n",
       "      <th>taster_name</th>\n",
       "      <th>taster_twitter_handle</th>\n",
       "      <th>title</th>\n",
       "      <th>variety</th>\n",
       "      <th>winery</th>\n",
       "    </tr>\n",
       "  </thead>\n",
       "  <tbody>\n",
       "    <tr>\n",
       "      <th>0</th>\n",
       "      <td>0</td>\n",
       "      <td>Italy</td>\n",
       "      <td>Aromas include tropical fruit, broom, brimston...</td>\n",
       "      <td>Vulkà Bianco</td>\n",
       "      <td>87</td>\n",
       "      <td>NaN</td>\n",
       "      <td>Sicily &amp; Sardinia</td>\n",
       "      <td>Etna</td>\n",
       "      <td>NaN</td>\n",
       "      <td>Kerin O’Keefe</td>\n",
       "      <td>@kerinokeefe</td>\n",
       "      <td>Nicosia 2013 Vulkà Bianco  (Etna)</td>\n",
       "      <td>White Blend</td>\n",
       "      <td>Nicosia</td>\n",
       "    </tr>\n",
       "    <tr>\n",
       "      <th>1</th>\n",
       "      <td>1</td>\n",
       "      <td>Portugal</td>\n",
       "      <td>This is ripe and fruity, a wine that is smooth...</td>\n",
       "      <td>Avidagos</td>\n",
       "      <td>87</td>\n",
       "      <td>15.0</td>\n",
       "      <td>Douro</td>\n",
       "      <td>NaN</td>\n",
       "      <td>NaN</td>\n",
       "      <td>Roger Voss</td>\n",
       "      <td>@vossroger</td>\n",
       "      <td>Quinta dos Avidagos 2011 Avidagos Red (Douro)</td>\n",
       "      <td>Portuguese Red</td>\n",
       "      <td>Quinta dos Avidagos</td>\n",
       "    </tr>\n",
       "    <tr>\n",
       "      <th>2</th>\n",
       "      <td>2</td>\n",
       "      <td>US</td>\n",
       "      <td>Tart and snappy, the flavors of lime flesh and...</td>\n",
       "      <td>NaN</td>\n",
       "      <td>87</td>\n",
       "      <td>14.0</td>\n",
       "      <td>Oregon</td>\n",
       "      <td>Willamette Valley</td>\n",
       "      <td>Willamette Valley</td>\n",
       "      <td>Paul Gregutt</td>\n",
       "      <td>@paulgwine</td>\n",
       "      <td>Rainstorm 2013 Pinot Gris (Willamette Valley)</td>\n",
       "      <td>Pinot Gris</td>\n",
       "      <td>Rainstorm</td>\n",
       "    </tr>\n",
       "    <tr>\n",
       "      <th>3</th>\n",
       "      <td>3</td>\n",
       "      <td>US</td>\n",
       "      <td>Pineapple rind, lemon pith and orange blossom ...</td>\n",
       "      <td>Reserve Late Harvest</td>\n",
       "      <td>87</td>\n",
       "      <td>13.0</td>\n",
       "      <td>Michigan</td>\n",
       "      <td>Lake Michigan Shore</td>\n",
       "      <td>NaN</td>\n",
       "      <td>Alexander Peartree</td>\n",
       "      <td>NaN</td>\n",
       "      <td>St. Julian 2013 Reserve Late Harvest Riesling ...</td>\n",
       "      <td>Riesling</td>\n",
       "      <td>St. Julian</td>\n",
       "    </tr>\n",
       "    <tr>\n",
       "      <th>4</th>\n",
       "      <td>4</td>\n",
       "      <td>US</td>\n",
       "      <td>Much like the regular bottling from 2012, this...</td>\n",
       "      <td>Vintner's Reserve Wild Child Block</td>\n",
       "      <td>87</td>\n",
       "      <td>65.0</td>\n",
       "      <td>Oregon</td>\n",
       "      <td>Willamette Valley</td>\n",
       "      <td>Willamette Valley</td>\n",
       "      <td>Paul Gregutt</td>\n",
       "      <td>@paulgwine</td>\n",
       "      <td>Sweet Cheeks 2012 Vintner's Reserve Wild Child...</td>\n",
       "      <td>Pinot Noir</td>\n",
       "      <td>Sweet Cheeks</td>\n",
       "    </tr>\n",
       "  </tbody>\n",
       "</table>\n",
       "</div>"
      ],
      "text/plain": [
       "   Unnamed: 0   country                                        description  \\\n",
       "0           0     Italy  Aromas include tropical fruit, broom, brimston...   \n",
       "1           1  Portugal  This is ripe and fruity, a wine that is smooth...   \n",
       "2           2        US  Tart and snappy, the flavors of lime flesh and...   \n",
       "3           3        US  Pineapple rind, lemon pith and orange blossom ...   \n",
       "4           4        US  Much like the regular bottling from 2012, this...   \n",
       "\n",
       "                          designation  points  price           province  \\\n",
       "0                        Vulkà Bianco      87    NaN  Sicily & Sardinia   \n",
       "1                            Avidagos      87   15.0              Douro   \n",
       "2                                 NaN      87   14.0             Oregon   \n",
       "3                Reserve Late Harvest      87   13.0           Michigan   \n",
       "4  Vintner's Reserve Wild Child Block      87   65.0             Oregon   \n",
       "\n",
       "              region_1           region_2         taster_name  \\\n",
       "0                 Etna                NaN       Kerin O’Keefe   \n",
       "1                  NaN                NaN          Roger Voss   \n",
       "2    Willamette Valley  Willamette Valley        Paul Gregutt   \n",
       "3  Lake Michigan Shore                NaN  Alexander Peartree   \n",
       "4    Willamette Valley  Willamette Valley        Paul Gregutt   \n",
       "\n",
       "  taster_twitter_handle                                              title  \\\n",
       "0          @kerinokeefe                  Nicosia 2013 Vulkà Bianco  (Etna)   \n",
       "1            @vossroger      Quinta dos Avidagos 2011 Avidagos Red (Douro)   \n",
       "2           @paulgwine       Rainstorm 2013 Pinot Gris (Willamette Valley)   \n",
       "3                   NaN  St. Julian 2013 Reserve Late Harvest Riesling ...   \n",
       "4           @paulgwine   Sweet Cheeks 2012 Vintner's Reserve Wild Child...   \n",
       "\n",
       "          variety               winery  \n",
       "0     White Blend              Nicosia  \n",
       "1  Portuguese Red  Quinta dos Avidagos  \n",
       "2      Pinot Gris            Rainstorm  \n",
       "3        Riesling           St. Julian  \n",
       "4      Pinot Noir         Sweet Cheeks  "
      ]
     },
     "execution_count": 1,
     "metadata": {},
     "output_type": "execute_result"
    }
   ],
   "source": [
    "import pandas as pd\n",
    "df = pd.read_csv('./InputData/winemag-data-130k-v2.csv')\n",
    "df.head()"
   ]
  },
  {
   "cell_type": "code",
   "execution_count": 2,
   "metadata": {},
   "outputs": [
    {
     "data": {
      "text/html": [
       "<div>\n",
       "<style>\n",
       "    .dataframe thead tr:only-child th {\n",
       "        text-align: right;\n",
       "    }\n",
       "\n",
       "    .dataframe thead th {\n",
       "        text-align: left;\n",
       "    }\n",
       "\n",
       "    .dataframe tbody tr th {\n",
       "        vertical-align: top;\n",
       "    }\n",
       "</style>\n",
       "<table border=\"1\" class=\"dataframe\">\n",
       "  <thead>\n",
       "    <tr style=\"text-align: right;\">\n",
       "      <th></th>\n",
       "      <th>country</th>\n",
       "      <th>description</th>\n",
       "      <th>designation</th>\n",
       "      <th>points</th>\n",
       "      <th>price</th>\n",
       "      <th>province</th>\n",
       "      <th>region_1</th>\n",
       "      <th>region_2</th>\n",
       "      <th>taster_name</th>\n",
       "      <th>taster_twitter_handle</th>\n",
       "      <th>title</th>\n",
       "      <th>variety</th>\n",
       "      <th>winery</th>\n",
       "    </tr>\n",
       "  </thead>\n",
       "  <tbody>\n",
       "    <tr>\n",
       "      <th>count</th>\n",
       "      <td>129908</td>\n",
       "      <td>129971</td>\n",
       "      <td>92506</td>\n",
       "      <td>129971.000000</td>\n",
       "      <td>120975.000000</td>\n",
       "      <td>129908</td>\n",
       "      <td>108724</td>\n",
       "      <td>50511</td>\n",
       "      <td>103727</td>\n",
       "      <td>98758</td>\n",
       "      <td>129971</td>\n",
       "      <td>129970</td>\n",
       "      <td>129971</td>\n",
       "    </tr>\n",
       "    <tr>\n",
       "      <th>unique</th>\n",
       "      <td>43</td>\n",
       "      <td>119955</td>\n",
       "      <td>37979</td>\n",
       "      <td>NaN</td>\n",
       "      <td>NaN</td>\n",
       "      <td>425</td>\n",
       "      <td>1229</td>\n",
       "      <td>17</td>\n",
       "      <td>19</td>\n",
       "      <td>15</td>\n",
       "      <td>118840</td>\n",
       "      <td>707</td>\n",
       "      <td>16757</td>\n",
       "    </tr>\n",
       "    <tr>\n",
       "      <th>top</th>\n",
       "      <td>US</td>\n",
       "      <td>Cigar box, café au lait, and dried tobacco aro...</td>\n",
       "      <td>Reserve</td>\n",
       "      <td>NaN</td>\n",
       "      <td>NaN</td>\n",
       "      <td>California</td>\n",
       "      <td>Napa Valley</td>\n",
       "      <td>Central Coast</td>\n",
       "      <td>Roger Voss</td>\n",
       "      <td>@vossroger</td>\n",
       "      <td>Gloria Ferrer NV Sonoma Brut Sparkling (Sonoma...</td>\n",
       "      <td>Pinot Noir</td>\n",
       "      <td>Wines &amp; Winemakers</td>\n",
       "    </tr>\n",
       "    <tr>\n",
       "      <th>freq</th>\n",
       "      <td>54504</td>\n",
       "      <td>3</td>\n",
       "      <td>2009</td>\n",
       "      <td>NaN</td>\n",
       "      <td>NaN</td>\n",
       "      <td>36247</td>\n",
       "      <td>4480</td>\n",
       "      <td>11065</td>\n",
       "      <td>25514</td>\n",
       "      <td>25514</td>\n",
       "      <td>11</td>\n",
       "      <td>13272</td>\n",
       "      <td>222</td>\n",
       "    </tr>\n",
       "    <tr>\n",
       "      <th>mean</th>\n",
       "      <td>NaN</td>\n",
       "      <td>NaN</td>\n",
       "      <td>NaN</td>\n",
       "      <td>88.447138</td>\n",
       "      <td>35.363389</td>\n",
       "      <td>NaN</td>\n",
       "      <td>NaN</td>\n",
       "      <td>NaN</td>\n",
       "      <td>NaN</td>\n",
       "      <td>NaN</td>\n",
       "      <td>NaN</td>\n",
       "      <td>NaN</td>\n",
       "      <td>NaN</td>\n",
       "    </tr>\n",
       "    <tr>\n",
       "      <th>std</th>\n",
       "      <td>NaN</td>\n",
       "      <td>NaN</td>\n",
       "      <td>NaN</td>\n",
       "      <td>3.039730</td>\n",
       "      <td>41.022218</td>\n",
       "      <td>NaN</td>\n",
       "      <td>NaN</td>\n",
       "      <td>NaN</td>\n",
       "      <td>NaN</td>\n",
       "      <td>NaN</td>\n",
       "      <td>NaN</td>\n",
       "      <td>NaN</td>\n",
       "      <td>NaN</td>\n",
       "    </tr>\n",
       "    <tr>\n",
       "      <th>min</th>\n",
       "      <td>NaN</td>\n",
       "      <td>NaN</td>\n",
       "      <td>NaN</td>\n",
       "      <td>80.000000</td>\n",
       "      <td>4.000000</td>\n",
       "      <td>NaN</td>\n",
       "      <td>NaN</td>\n",
       "      <td>NaN</td>\n",
       "      <td>NaN</td>\n",
       "      <td>NaN</td>\n",
       "      <td>NaN</td>\n",
       "      <td>NaN</td>\n",
       "      <td>NaN</td>\n",
       "    </tr>\n",
       "    <tr>\n",
       "      <th>25%</th>\n",
       "      <td>NaN</td>\n",
       "      <td>NaN</td>\n",
       "      <td>NaN</td>\n",
       "      <td>86.000000</td>\n",
       "      <td>17.000000</td>\n",
       "      <td>NaN</td>\n",
       "      <td>NaN</td>\n",
       "      <td>NaN</td>\n",
       "      <td>NaN</td>\n",
       "      <td>NaN</td>\n",
       "      <td>NaN</td>\n",
       "      <td>NaN</td>\n",
       "      <td>NaN</td>\n",
       "    </tr>\n",
       "    <tr>\n",
       "      <th>50%</th>\n",
       "      <td>NaN</td>\n",
       "      <td>NaN</td>\n",
       "      <td>NaN</td>\n",
       "      <td>88.000000</td>\n",
       "      <td>25.000000</td>\n",
       "      <td>NaN</td>\n",
       "      <td>NaN</td>\n",
       "      <td>NaN</td>\n",
       "      <td>NaN</td>\n",
       "      <td>NaN</td>\n",
       "      <td>NaN</td>\n",
       "      <td>NaN</td>\n",
       "      <td>NaN</td>\n",
       "    </tr>\n",
       "    <tr>\n",
       "      <th>75%</th>\n",
       "      <td>NaN</td>\n",
       "      <td>NaN</td>\n",
       "      <td>NaN</td>\n",
       "      <td>91.000000</td>\n",
       "      <td>42.000000</td>\n",
       "      <td>NaN</td>\n",
       "      <td>NaN</td>\n",
       "      <td>NaN</td>\n",
       "      <td>NaN</td>\n",
       "      <td>NaN</td>\n",
       "      <td>NaN</td>\n",
       "      <td>NaN</td>\n",
       "      <td>NaN</td>\n",
       "    </tr>\n",
       "    <tr>\n",
       "      <th>max</th>\n",
       "      <td>NaN</td>\n",
       "      <td>NaN</td>\n",
       "      <td>NaN</td>\n",
       "      <td>100.000000</td>\n",
       "      <td>3300.000000</td>\n",
       "      <td>NaN</td>\n",
       "      <td>NaN</td>\n",
       "      <td>NaN</td>\n",
       "      <td>NaN</td>\n",
       "      <td>NaN</td>\n",
       "      <td>NaN</td>\n",
       "      <td>NaN</td>\n",
       "      <td>NaN</td>\n",
       "    </tr>\n",
       "  </tbody>\n",
       "</table>\n",
       "</div>"
      ],
      "text/plain": [
       "       country                                        description designation  \\\n",
       "count   129908                                             129971       92506   \n",
       "unique      43                                             119955       37979   \n",
       "top         US  Cigar box, café au lait, and dried tobacco aro...     Reserve   \n",
       "freq     54504                                                  3        2009   \n",
       "mean       NaN                                                NaN         NaN   \n",
       "std        NaN                                                NaN         NaN   \n",
       "min        NaN                                                NaN         NaN   \n",
       "25%        NaN                                                NaN         NaN   \n",
       "50%        NaN                                                NaN         NaN   \n",
       "75%        NaN                                                NaN         NaN   \n",
       "max        NaN                                                NaN         NaN   \n",
       "\n",
       "               points          price    province     region_1       region_2  \\\n",
       "count   129971.000000  120975.000000      129908       108724          50511   \n",
       "unique            NaN            NaN         425         1229             17   \n",
       "top               NaN            NaN  California  Napa Valley  Central Coast   \n",
       "freq              NaN            NaN       36247         4480          11065   \n",
       "mean        88.447138      35.363389         NaN          NaN            NaN   \n",
       "std          3.039730      41.022218         NaN          NaN            NaN   \n",
       "min         80.000000       4.000000         NaN          NaN            NaN   \n",
       "25%         86.000000      17.000000         NaN          NaN            NaN   \n",
       "50%         88.000000      25.000000         NaN          NaN            NaN   \n",
       "75%         91.000000      42.000000         NaN          NaN            NaN   \n",
       "max        100.000000    3300.000000         NaN          NaN            NaN   \n",
       "\n",
       "       taster_name taster_twitter_handle  \\\n",
       "count       103727                 98758   \n",
       "unique          19                    15   \n",
       "top     Roger Voss            @vossroger   \n",
       "freq         25514                 25514   \n",
       "mean           NaN                   NaN   \n",
       "std            NaN                   NaN   \n",
       "min            NaN                   NaN   \n",
       "25%            NaN                   NaN   \n",
       "50%            NaN                   NaN   \n",
       "75%            NaN                   NaN   \n",
       "max            NaN                   NaN   \n",
       "\n",
       "                                                    title     variety  \\\n",
       "count                                              129971      129970   \n",
       "unique                                             118840         707   \n",
       "top     Gloria Ferrer NV Sonoma Brut Sparkling (Sonoma...  Pinot Noir   \n",
       "freq                                                   11       13272   \n",
       "mean                                                  NaN         NaN   \n",
       "std                                                   NaN         NaN   \n",
       "min                                                   NaN         NaN   \n",
       "25%                                                   NaN         NaN   \n",
       "50%                                                   NaN         NaN   \n",
       "75%                                                   NaN         NaN   \n",
       "max                                                   NaN         NaN   \n",
       "\n",
       "                    winery  \n",
       "count               129971  \n",
       "unique               16757  \n",
       "top     Wines & Winemakers  \n",
       "freq                   222  \n",
       "mean                   NaN  \n",
       "std                    NaN  \n",
       "min                    NaN  \n",
       "25%                    NaN  \n",
       "50%                    NaN  \n",
       "75%                    NaN  \n",
       "max                    NaN  "
      ]
     },
     "execution_count": 2,
     "metadata": {},
     "output_type": "execute_result"
    }
   ],
   "source": [
    "df.drop(df.columns[[0]], axis=1, inplace=True) # ditch that unnamed row numbers column\n",
    "df.describe(include='all')"
   ]
  },
  {
   "cell_type": "markdown",
   "metadata": {},
   "source": [
    "  So, we care about description and variety. Hm, description... uniques and counts don't add up. if there are ~120k unique descriptions and 130k total, we may have some duplicates. Let's take a look at one just to be sure they're actually just duplicates:"
   ]
  },
  {
   "cell_type": "code",
   "execution_count": 3,
   "metadata": {},
   "outputs": [
    {
     "data": {
      "text/html": [
       "<div>\n",
       "<style>\n",
       "    .dataframe thead tr:only-child th {\n",
       "        text-align: right;\n",
       "    }\n",
       "\n",
       "    .dataframe thead th {\n",
       "        text-align: left;\n",
       "    }\n",
       "\n",
       "    .dataframe tbody tr th {\n",
       "        vertical-align: top;\n",
       "    }\n",
       "</style>\n",
       "<table border=\"1\" class=\"dataframe\">\n",
       "  <thead>\n",
       "    <tr style=\"text-align: right;\">\n",
       "      <th></th>\n",
       "      <th>country</th>\n",
       "      <th>description</th>\n",
       "      <th>designation</th>\n",
       "      <th>points</th>\n",
       "      <th>price</th>\n",
       "      <th>province</th>\n",
       "      <th>region_1</th>\n",
       "      <th>region_2</th>\n",
       "      <th>taster_name</th>\n",
       "      <th>taster_twitter_handle</th>\n",
       "      <th>title</th>\n",
       "      <th>variety</th>\n",
       "      <th>winery</th>\n",
       "    </tr>\n",
       "  </thead>\n",
       "  <tbody>\n",
       "    <tr>\n",
       "      <th>23271</th>\n",
       "      <td>Italy</td>\n",
       "      <td>‘Na Vota is a fresh and easygoing wine that is...</td>\n",
       "      <td>'Na Vota</td>\n",
       "      <td>85</td>\n",
       "      <td>18.0</td>\n",
       "      <td>Piedmont</td>\n",
       "      <td>Ruché di Castagnole Monferrato</td>\n",
       "      <td>NaN</td>\n",
       "      <td>NaN</td>\n",
       "      <td>NaN</td>\n",
       "      <td>Cantine Sant'Agata 2007 'Na Vota  (Ruché di Ca...</td>\n",
       "      <td>Ruché</td>\n",
       "      <td>Cantine Sant'Agata</td>\n",
       "    </tr>\n",
       "    <tr>\n",
       "      <th>103573</th>\n",
       "      <td>New Zealand</td>\n",
       "      <td>this medium-bodied Sauvignon Blanc shows only ...</td>\n",
       "      <td>NaN</td>\n",
       "      <td>88</td>\n",
       "      <td>15.0</td>\n",
       "      <td>New Zealand</td>\n",
       "      <td>NaN</td>\n",
       "      <td>NaN</td>\n",
       "      <td>Joe Czerwinski</td>\n",
       "      <td>@JoeCz</td>\n",
       "      <td>Tussock Jumper 2016 Sauvignon Blanc (New Zealand)</td>\n",
       "      <td>Sauvignon Blanc</td>\n",
       "      <td>Tussock Jumper</td>\n",
       "    </tr>\n",
       "    <tr>\n",
       "      <th>121126</th>\n",
       "      <td>US</td>\n",
       "      <td>lean and zesty Chardonnay with a burst of mout...</td>\n",
       "      <td>NaN</td>\n",
       "      <td>84</td>\n",
       "      <td>7.0</td>\n",
       "      <td>California</td>\n",
       "      <td>California</td>\n",
       "      <td>California Other</td>\n",
       "      <td>NaN</td>\n",
       "      <td>NaN</td>\n",
       "      <td>Eye Candy 2012 Chardonnay (California)</td>\n",
       "      <td>Chardonnay</td>\n",
       "      <td>Eye Candy</td>\n",
       "    </tr>\n",
       "    <tr>\n",
       "      <th>109172</th>\n",
       "      <td>Austria</td>\n",
       "      <td>Zweigelt can do easy-drinking styles but in th...</td>\n",
       "      <td>Heideboden</td>\n",
       "      <td>90</td>\n",
       "      <td>26.0</td>\n",
       "      <td>Burgenland</td>\n",
       "      <td>NaN</td>\n",
       "      <td>NaN</td>\n",
       "      <td>Anne Krebiehl MW</td>\n",
       "      <td>@AnneInVino</td>\n",
       "      <td>Nittnaus Hans und Christine 2013 Heideboden Zw...</td>\n",
       "      <td>Zweigelt</td>\n",
       "      <td>Nittnaus Hans und Christine</td>\n",
       "    </tr>\n",
       "  </tbody>\n",
       "</table>\n",
       "</div>"
      ],
      "text/plain": [
       "            country                                        description  \\\n",
       "23271         Italy  ‘Na Vota is a fresh and easygoing wine that is...   \n",
       "103573  New Zealand  this medium-bodied Sauvignon Blanc shows only ...   \n",
       "121126           US  lean and zesty Chardonnay with a burst of mout...   \n",
       "109172      Austria  Zweigelt can do easy-drinking styles but in th...   \n",
       "\n",
       "       designation  points  price     province  \\\n",
       "23271     'Na Vota      85   18.0     Piedmont   \n",
       "103573         NaN      88   15.0  New Zealand   \n",
       "121126         NaN      84    7.0   California   \n",
       "109172  Heideboden      90   26.0   Burgenland   \n",
       "\n",
       "                              region_1          region_2       taster_name  \\\n",
       "23271   Ruché di Castagnole Monferrato               NaN               NaN   \n",
       "103573                             NaN               NaN    Joe Czerwinski   \n",
       "121126                      California  California Other               NaN   \n",
       "109172                             NaN               NaN  Anne Krebiehl MW   \n",
       "\n",
       "       taster_twitter_handle  \\\n",
       "23271                    NaN   \n",
       "103573                @JoeCz   \n",
       "121126                   NaN   \n",
       "109172           @AnneInVino   \n",
       "\n",
       "                                                    title          variety  \\\n",
       "23271   Cantine Sant'Agata 2007 'Na Vota  (Ruché di Ca...            Ruché   \n",
       "103573  Tussock Jumper 2016 Sauvignon Blanc (New Zealand)  Sauvignon Blanc   \n",
       "121126             Eye Candy 2012 Chardonnay (California)       Chardonnay   \n",
       "109172  Nittnaus Hans und Christine 2013 Heideboden Zw...         Zweigelt   \n",
       "\n",
       "                             winery  \n",
       "23271            Cantine Sant'Agata  \n",
       "103573               Tussock Jumper  \n",
       "121126                    Eye Candy  \n",
       "109172  Nittnaus Hans und Christine  "
      ]
     },
     "execution_count": 3,
     "metadata": {},
     "output_type": "execute_result"
    }
   ],
   "source": [
    "dups = df[df.duplicated('description')]\n",
    "dups.sort_values('description', ascending=False).iloc[3:7]"
   ]
  },
  {
   "cell_type": "markdown",
   "metadata": {},
   "source": [
    "Well good. I was a little worried reviewers were re-using their descriptions on different wines.... There are no duplicates to drop "
   ]
  },
  {
   "cell_type": "code",
   "execution_count": 4,
   "metadata": {
    "collapsed": true
   },
   "outputs": [],
   "source": [
    "# dedupped_df = df.drop_duplicates(subset='description')\n",
    "# print('Total unique reviews:', len(dedupped_df))\n",
    "# print('\\nVariety description \\n', dedupped_df['variety'].describe())"
   ]
  },
  {
   "cell_type": "markdown",
   "metadata": {},
   "source": [
    "Variety will be our class label, and 632 labels seems like a lot for <100k documents. Well maybe they're evenly balanced classes?!"
   ]
  },
  {
   "cell_type": "code",
   "execution_count": 5,
   "metadata": {},
   "outputs": [
    {
     "data": {
      "text/plain": [
       "Pinot Noir                      13272\n",
       "Chardonnay                      11753\n",
       "Cabernet Sauvignon               9472\n",
       "Red Blend                        8946\n",
       "Bordeaux-style Red Blend         6915\n",
       "Riesling                         5189\n",
       "Sauvignon Blanc                  4967\n",
       "Syrah                            4142\n",
       "Rosé                             3564\n",
       "Merlot                           3102\n",
       "Nebbiolo                         2804\n",
       "Zinfandel                        2714\n",
       "Sangiovese                       2707\n",
       "Malbec                           2652\n",
       "Portuguese Red                   2466\n",
       "White Blend                      2360\n",
       "Sparkling Blend                  2153\n",
       "Tempranillo                      1810\n",
       "Rhône-style Red Blend            1471\n",
       "Pinot Gris                       1455\n",
       "Champagne Blend                  1396\n",
       "Cabernet Franc                   1353\n",
       "Grüner Veltliner                 1345\n",
       "Portuguese White                 1159\n",
       "Bordeaux-style White Blend       1066\n",
       "Pinot Grigio                     1052\n",
       "Gamay                            1025\n",
       "Gewürztraminer                   1012\n",
       "Viognier                          996\n",
       "Shiraz                            836\n",
       "                                ...  \n",
       "Torontel                            1\n",
       "Gamza                               1\n",
       "Roscetto                            1\n",
       "Bobal-Cabernet Sauvignon            1\n",
       "Maria Gomes-Bical                   1\n",
       "Doña Blanca                         1\n",
       "Muscadel                            1\n",
       "Catalanesca                         1\n",
       "Malagouzia-Chardonnay               1\n",
       "Diamond                             1\n",
       "Syrah-Grenache-Viognier             1\n",
       "Pinot Grigio-Sauvignon Blanc        1\n",
       "Biancale                            1\n",
       "Teroldego Rotaliano                 1\n",
       "Francisa                            1\n",
       "Graševina                           1\n",
       "Schwartzriesling                    1\n",
       "Vital                               1\n",
       "Merlot-Petite Verdot                1\n",
       "Pinot Blanc-Pinot Noir              1\n",
       "Macabeo-Moscatel                    1\n",
       "Xinisteri                           1\n",
       "Blatina                             1\n",
       "Loureiro-Arinto                     1\n",
       "Tinta Negra Mole                    1\n",
       "Sauvignon Musqué                    1\n",
       "Kotsifali                           1\n",
       "Bombino Nero                        1\n",
       "Verdil                              1\n",
       "Chardonnay-Pinot Gris               1\n",
       "Name: variety, Length: 707, dtype: int64"
      ]
     },
     "execution_count": 5,
     "metadata": {},
     "output_type": "execute_result"
    }
   ],
   "source": [
    "varieties =  df['variety'].value_counts()\n",
    "varieties"
   ]
  },
  {
   "cell_type": "code",
   "execution_count": 6,
   "metadata": {},
   "outputs": [
    {
     "data": {
      "text/plain": [
       "count      707.000000\n",
       "mean       183.833098\n",
       "std        976.188990\n",
       "min          1.000000\n",
       "25%          2.000000\n",
       "50%          6.000000\n",
       "75%         28.500000\n",
       "max      13272.000000\n",
       "Name: variety, dtype: float64"
      ]
     },
     "execution_count": 6,
     "metadata": {},
     "output_type": "execute_result"
    }
   ],
   "source": [
    "varieties.describe()"
   ]
  },
  {
   "cell_type": "markdown",
   "metadata": {},
   "source": [
    "No cigar. You'd be right 10% of the time if your model just labeled everything \"Pinot Noir\", and the majority of labels have less than 5 reviews each. On the bright side, unbalanced labels seems to be the norm in many datasets, and the distribution on the top wines isn't as bad as it could be.\n",
    "\n",
    "So what to do?\n",
    "\n",
    "Sometime I'd love to try the \"shove in similar, computer generated fake data\" technique to balance the labels, but for now I'm going to try something quicker. Let's just look at the top 20 varieties. That may not be great for a production classifier of every [WineMag](http://winemag.com) review in history, but I kinda doubt my sister's restaurant carried over 600 varieties of wine (ever order a \"Teroldego Rotaliano\"?)"
   ]
  },
  {
   "cell_type": "code",
   "execution_count": 7,
   "metadata": {},
   "outputs": [
    {
     "data": {
      "text/plain": [
       "count          93914\n",
       "unique            20\n",
       "top       Pinot Noir\n",
       "freq           13272\n",
       "Name: variety, dtype: object"
      ]
     },
     "execution_count": 7,
     "metadata": {},
     "output_type": "execute_result"
    }
   ],
   "source": [
    "top_wines_df =  df.loc[ df['variety'].isin(varieties.axes[0][:20])] # first column[0],  rows :20  \n",
    "top_wines_df['variety'].describe()"
   ]
  },
  {
   "cell_type": "code",
   "execution_count": 8,
   "metadata": {},
   "outputs": [
    {
     "data": {
      "text/plain": [
       "0                      White Blend\n",
       "1                   Portuguese Red\n",
       "2                       Pinot Gris\n",
       "3                         Riesling\n",
       "4                       Pinot Noir\n",
       "9                       Pinot Gris\n",
       "10              Cabernet Sauvignon\n",
       "12              Cabernet Sauvignon\n",
       "14                      Chardonnay\n",
       "15                        Riesling\n",
       "16                          Malbec\n",
       "17                          Malbec\n",
       "20                       Red Blend\n",
       "21                      Pinot Noir\n",
       "22                     White Blend\n",
       "23                          Merlot\n",
       "25                      Pinot Noir\n",
       "26                     White Blend\n",
       "28                       Red Blend\n",
       "31                       Red Blend\n",
       "32                     White Blend\n",
       "33                       Red Blend\n",
       "34                 Sauvignon Blanc\n",
       "35                      Pinot Noir\n",
       "37              Cabernet Sauvignon\n",
       "41                      Pinot Noir\n",
       "43                 Sauvignon Blanc\n",
       "44                          Merlot\n",
       "45                       Red Blend\n",
       "47                        Riesling\n",
       "                    ...           \n",
       "129926                       Syrah\n",
       "129928                   Red Blend\n",
       "129931                  Pinot Noir\n",
       "129932                   Red Blend\n",
       "129933                 White Blend\n",
       "129935                       Syrah\n",
       "129936                  Pinot Noir\n",
       "129938                      Malbec\n",
       "129939                 White Blend\n",
       "129940                  Chardonnay\n",
       "129941                  Chardonnay\n",
       "129942          Cabernet Sauvignon\n",
       "129943                   Red Blend\n",
       "129946                    Riesling\n",
       "129947                   Red Blend\n",
       "129948                      Malbec\n",
       "129949                  Chardonnay\n",
       "129950                   Zinfandel\n",
       "129952                   Zinfandel\n",
       "129954                  Pinot Gris\n",
       "129955                  Chardonnay\n",
       "129956    Bordeaux-style Red Blend\n",
       "129958    Bordeaux-style Red Blend\n",
       "129959                  Pinot Gris\n",
       "129960                  Pinot Noir\n",
       "129963          Cabernet Sauvignon\n",
       "129965                  Pinot Gris\n",
       "129966                    Riesling\n",
       "129967                  Pinot Noir\n",
       "129969                  Pinot Gris\n",
       "Name: variety, Length: 93914, dtype: object"
      ]
     },
     "execution_count": 8,
     "metadata": {},
     "output_type": "execute_result"
    }
   ],
   "source": [
    "top_wines_df['variety']"
   ]
  },
  {
   "cell_type": "markdown",
   "metadata": {},
   "source": [
    "Now we've got ~93k reviews, 20 labels, and an unbalanced but much more manageable distribution of labels across our documents. Let's make some vectors & do some classifying!"
   ]
  },
  {
   "cell_type": "code",
   "execution_count": 9,
   "metadata": {},
   "outputs": [
    {
     "data": {
      "text/plain": [
       "array([18,  8,  6, ..., 11,  7,  6])"
      ]
     },
     "execution_count": 9,
     "metadata": {},
     "output_type": "execute_result"
    }
   ],
   "source": [
    "# our labels, as numbers. \n",
    "\n",
    "from sklearn.preprocessing import LabelEncoder\n",
    "le = LabelEncoder()\n",
    "y = le.fit_transform(top_wines_df['variety'])\n",
    "y"
   ]
  },
  {
   "cell_type": "code",
   "execution_count": 10,
   "metadata": {},
   "outputs": [
    {
     "data": {
      "text/plain": [
       "<93914x27105 sparse matrix of type '<class 'numpy.float64'>'\n",
       "\twith 3261558 stored elements in Compressed Sparse Row format>"
      ]
     },
     "execution_count": 10,
     "metadata": {},
     "output_type": "execute_result"
    }
   ],
   "source": [
    "from sklearn.feature_extraction.text import TfidfVectorizer\n",
    "from sklearn.linear_model import LogisticRegression\n",
    "vect = TfidfVectorizer()\n",
    "x = vect.fit_transform(top_wines_df['description'])\n",
    "x"
   ]
  },
  {
   "cell_type": "markdown",
   "metadata": {},
   "source": [
    "Now we've got a sparse matrix of our ~70k docs with ~26k columns. \n",
    "Let's have a go at learning, using a basic train test split, accuracy_score, and a <br>                             **Logistic Regression classifier**."
   ]
  },
  {
   "cell_type": "code",
   "execution_count": 20,
   "metadata": {
    "collapsed": true
   },
   "outputs": [],
   "source": [
    "from sklearn.model_selection import train_test_split\n",
    "from sklearn.metrics import accuracy_score\n",
    "x_train, x_test, y_train, y_test = train_test_split(x, y, test_size=0.25, random_state=10)"
   ]
  },
  {
   "cell_type": "code",
   "execution_count": 23,
   "metadata": {},
   "outputs": [
    {
     "name": "stdout",
     "output_type": "stream",
     "text": [
      "11.073572874069214\n"
     ]
    }
   ],
   "source": [
    "import time\n",
    "start = time.time()\n",
    "clf = LogisticRegression()\n",
    "clf.fit(x_train, y_train)\n",
    "pred = clf.predict(x_test)\n",
    "print(time.time() - start)"
   ]
  },
  {
   "cell_type": "code",
   "execution_count": 22,
   "metadata": {},
   "outputs": [
    {
     "data": {
      "text/plain": [
       "0.72136396831638672"
      ]
     },
     "execution_count": 22,
     "metadata": {},
     "output_type": "execute_result"
    }
   ],
   "source": [
    "accuracy_score(y_test, pred)"
   ]
  },
  {
   "cell_type": "markdown",
   "metadata": {},
   "source": [
    "~72% accuracy? Not bad! However, probably a good call to be skeptical and think through why this might be a little too optimistic. In terms of model performance, I've read that using a holdout method with train_test_split isn't as trusty as using a cross validation assessment.\n",
    "\n",
    "But in terms of our subject material, is there anything obvious I missed? One thing that came to mind was the names of the varieties: what if they're in the actual review? Our classifier would probably be pretty pleased with that set of features, and while it would be a reality of the data and therefore \"fair game\", it feels a bit like cheating the spirit of my original objective (... imagine, reviewer: \"This lovely pinot noir tastes like berries!\" classifier: \"it's pinot noir!\" reviewer: \"you're so smart!\" )\n",
    "\n",
    "Let's try again, with any variety names removed:"
   ]
  },
  {
   "cell_type": "code",
   "execution_count": 25,
   "metadata": {
    "collapsed": true
   },
   "outputs": [],
   "source": [
    "wine_stop_words = []\n",
    "for variety in top_wines_df['variety'].unique():\n",
    "    for word in variety.split(' '):\n",
    "        wine_stop_words.append(word.lower())\n",
    " "
   ]
  },
  {
   "cell_type": "code",
   "execution_count": 26,
   "metadata": {},
   "outputs": [
    {
     "data": {
      "text/plain": [
       "array(['cabernet', 'sauvignon', 'blanc', 'pinot', 'noir', 'chardonnay',\n",
       "       'tempranillo', 'malbec', 'rosé', 'syrah', 'sangiovese', 'sparkling',\n",
       "       'blend', 'red', 'riesling', 'portuguese', 'nebbiolo', 'white',\n",
       "       'zinfandel', 'bordeaux-style', 'merlot', 'shiraz', 'corvina,',\n",
       "       'rondinella,', 'molinara'], dtype=object)"
      ]
     },
     "execution_count": 26,
     "metadata": {},
     "output_type": "execute_result"
    }
   ],
   "source": [
    "wine_stop_words = pd.Series(data=wine_stop_words).unique()\n",
    "wine_stop_words"
   ]
  },
  {
   "cell_type": "code",
   "execution_count": 27,
   "metadata": {},
   "outputs": [
    {
     "data": {
      "text/plain": [
       "<71202x26565 sparse matrix of type '<class 'numpy.float64'>'\n",
       "\twith 2392650 stored elements in Compressed Sparse Row format>"
      ]
     },
     "execution_count": 27,
     "metadata": {},
     "output_type": "execute_result"
    }
   ],
   "source": [
    "vect2 = TfidfVectorizer(stop_words=list(wine_stop_words))\n",
    "x2 = vect2.fit_transform(top_wines_df['description'])\n",
    "x2"
   ]
  },
  {
   "cell_type": "markdown",
   "metadata": {},
   "source": [
    "Double checking that I understand things here: before removing our variety name-like list, our matrix had 26587 columns. Now it's at 26565, and the difference is 22, the length of our stop words. Lovely. That means our reviews did include every one of those words.\n",
    "\n",
    "Note that it's likely a better move to check if each variety name mentioned in reviews is always equal with the review's actual label classifier, but I'll save that one for another day. Let's classify our new stuff:"
   ]
  },
  {
   "cell_type": "code",
   "execution_count": 28,
   "metadata": {},
   "outputs": [
    {
     "data": {
      "text/plain": [
       "0.62973990225268239"
      ]
     },
     "execution_count": 28,
     "metadata": {},
     "output_type": "execute_result"
    }
   ],
   "source": [
    "x_train2, x_test2, y_train2, y_test2 = train_test_split(x2, y, test_size=0.25, random_state=10)\n",
    "clf = LogisticRegression()\n",
    "clf.fit(x_train2, y_train2)\n",
    "pred = clf.predict(x_test2)\n",
    "accuracy_score(y_test, pred)"
   ]
  },
  {
   "cell_type": "markdown",
   "metadata": {},
   "source": [
    "Huzzah. We've dropped our accuracy nearly 10%, meaning we were right about the importance of those variety presences in the reviews.\n",
    "\n",
    "Let's see how much we can get back up with some hyperparameter tuning."
   ]
  },
  {
   "cell_type": "code",
   "execution_count": 29,
   "metadata": {
    "collapsed": true
   },
   "outputs": [],
   "source": [
    "from sklearn.pipeline import Pipeline\n",
    "from sklearn.model_selection import GridSearchCV\n",
    "\n",
    "x_train3, x_test3, y_train3, y_test3 = train_test_split(\n",
    "    top_wines_df['description'].values, y, test_size=0.25, random_state=10)\n",
    "\n",
    "pipe = Pipeline([\n",
    "    ('vect', TfidfVectorizer(stop_words=list(wine_stop_words))), \n",
    "    ('clf', LogisticRegression(random_state=0))\n",
    "])\n",
    "\n",
    "param_grid = [\n",
    "  {\n",
    "    'vect__ngram_range': [(1, 2)],\n",
    "    'clf__penalty': ['l1', 'l2'],\n",
    "    'clf__C': [1.0, 10.0, 100.0]\n",
    "  },\n",
    "  {\n",
    "    'vect__ngram_range': [(1, 2)],\n",
    "    'vect__use_idf':[False],\n",
    "    'clf__penalty': ['l1', 'l2'],\n",
    "    'clf__C': [1.0, 10.0, 100.0]\n",
    "    },\n",
    "]\n",
    "\n",
    "grid = GridSearchCV(pipe, param_grid, scoring='accuracy', cv=3, verbose=1, n_jobs=-1)"
   ]
  },
  {
   "cell_type": "markdown",
   "metadata": {},
   "source": [
    "We did another train test split, as this time we'll be feeding the raw reviews as our \"X\" into our pipeline. I'm looking to see if IDF is helping or hurting, and what happens when we up our \"grams\" (number of words per column) from 1 to 2. With unigram we see \"smokey\" and \"finish\" as unrelated, but bigram we'll look for the whole phrase \"smokey finish\" in reviews.\n",
    "\n",
    "We're also checking if L1 or L2 penalties could help us ignore some unnecessary word columns. Let's try this out!"
   ]
  },
  {
   "cell_type": "code",
   "execution_count": null,
   "metadata": {
    "collapsed": true
   },
   "outputs": [],
   "source": [
    "grid.fit(x_train3, y_train3)\n",
    "\n",
    "Fitting 5 folds for each of 12 candidates, totalling 60 fits\n",
    "[Parallel(n_jobs=-1)]: Done  42 tasks      | elapsed: 18.8min\n",
    "[Parallel(n_jobs=-1)]: Done  60 out of  60 | elapsed: 32.9min finished\n",
    "\n",
    "print(grid.best_params_, grid.best_score_)\n",
    "{'clf__C': 10.0, 'clf__penalty': 'l2', 'vect__ngram_range': (1, 2)} 0.63607423082\n",
    "\n",
    "grid.best_estimator_.score(x_test3, y_test3)\n",
    "0.6463681815628336"
   ]
  },
  {
   "cell_type": "markdown",
   "metadata": {},
   "source": [
    "(Copied & pasted in above the results from my home computer)\n",
    "\n",
    "Alright, we brought the score back up a bit! Usint tfidf was in the best params (assuming they don't show the defaults, or it could be because I didn't list it explicitly), L2 penalty may have helped and putting bigrams into play also probably helped. ~65% accuracy isn't half bad, and it could probably be brought up more were we to dig into those hyperparams.\n",
    "\n",
    "Lastly, let's see if there are any interesting topics across reviews from **Latent Dirichlet Allocation** decomposition. For this one I'm going to replace our previous stop list of wine varieties and instead use sklearn's basic english set, so our topics aren't mucked up."
   ]
  },
  {
   "cell_type": "code",
   "execution_count": 31,
   "metadata": {
    "collapsed": true
   },
   "outputs": [],
   "source": [
    "from sklearn.decomposition import LatentDirichletAllocation as LDA\n",
    "from sklearn.feature_extraction import text\n",
    "stop_words = text.ENGLISH_STOP_WORDS.union(wine_stop_words)\n",
    "vect = TfidfVectorizer(stop_words=stop_words)\n",
    "x = vect.fit_transform(top_wines_df['description'])\n",
    "lda = LDA(learning_method='batch')\n",
    "topics = lda.fit_transform(x)"
   ]
  },
  {
   "cell_type": "markdown",
   "metadata": {},
   "source": [
    "There doesn't seem to be a great way to print topics built in, so we'll borrow this handy print function found in Muller & Guido's intro to ML with Python:"
   ]
  },
  {
   "cell_type": "code",
   "execution_count": 42,
   "metadata": {},
   "outputs": [
    {
     "name": "stdout",
     "output_type": "stream",
     "text": [
      "topic 0       topic 1       topic 2       topic 3       topic 4       \n",
      "--------      --------      --------      --------      --------      \n",
      "aromas        palate        fruit         flavors       spice         \n",
      "flavors       nose          vineyard      citrus        aromas        \n",
      "finish        finish        new           apple         wine          \n",
      "palate        notes         wine          acidity       cherry        \n",
      "berry         acidity       mix           pineapple     fruit         \n",
      "plum          lemon         cherry        crisp         bright        \n",
      "nose          flavors       flavors       wine          pair          \n",
      "fruit         dry           oak           peach         offers        \n",
      "herbal        fresh         barrel        finish        tones         \n",
      "cherry        lime          french        fruit         almond        \n",
      "\n",
      "\n",
      "topic 5       topic 6       topic 7       topic 8       topic 9       \n",
      "--------      --------      --------      --------      --------      \n",
      "fruit         wine          black         vegetal       flavors       \n",
      "wine          acidity       tannins       asparagus     dry           \n",
      "black         fruits        cherry        unripe        cherry        \n",
      "tannins       tannins       palate        useful        wine          \n",
      "finish        ripe          wine          mar           sweet         \n",
      "flavors       wood          fruit         disagreeable  cherries      \n",
      "time          fruit         aromas        mistake       blackberry    \n",
      "cherry        character     flavors       manseng       soft          \n",
      "vineyard      drink         drink         compromise    drink         \n",
      "dark          rich          years         detectable    oak           \n",
      "\n",
      "\n"
     ]
    }
   ],
   "source": [
    "import numpy as np\n",
    "def print_topics(topics, feature_names, sorting, topics_per_chunk=5,\n",
    "                 n_words=10):\n",
    "    for i in range(0, len(topics), topics_per_chunk):\n",
    "        # for each chunk:\n",
    "        these_topics = topics[i: i + topics_per_chunk]\n",
    "        # maybe we have less than topics_per_chunk left\n",
    "        len_this_chunk = len(these_topics)\n",
    "        # print topic headers\n",
    "        print((\"topic {!s:<8}\" * len_this_chunk).format(*these_topics))\n",
    "        print((\"-------- {0:<5}\" * len_this_chunk).format(\"\"))\n",
    "        # print top n_words frequent words\n",
    "        for i in range(n_words):\n",
    "            try:\n",
    "                print((\"{!s:<14}\" * len_this_chunk).format(\n",
    "                    *feature_names[sorting[these_topics, i]]))\n",
    "            except:\n",
    "                pass\n",
    "        print(\"\\n\")\n",
    "        \n",
    "\n",
    "sorting = np.argsort(lda.components_, axis=1)[:, ::-1]\n",
    "feature_names = np.array(vect.get_feature_names())\n",
    "        \n",
    "print_topics(topics=range(10), feature_names=feature_names, sorting=sorting)"
   ]
  },
  {
   "cell_type": "markdown",
   "metadata": {},
   "source": [
    "Nothing crazy jumps out at me, but thinking about topic 0: \"sweet, peach, & honey\", maybe these would be white wines or roses? Topic 1 & 4 I could see being topics about reds: \"wood, spice, firm, tannins, black...\"\n",
    "\n",
    "I would love to add a topics column next to each document for the topic the document is most likely a member of, no doubt some interesting patterns could up. I couldn't find any great examples of how to do that online, so if anyone knows of one please let me know!\n",
    "\n",
    "One last interesting thing: when I first ran LDA topics on the original .json file of reviews, \"cheeseburger\" popped up as topic term..."
   ]
  },
  {
   "cell_type": "code",
   "execution_count": 43,
   "metadata": {},
   "outputs": [
    {
     "data": {
      "text/plain": [
       "array([['US',\n",
       "        'This dry, country-style Cab has some sharp, green tannins that bring astringency to the blackberry, cherry and cola flavors. Will go fine with a cheeseburger.',\n",
       "        nan, 84, 18.0, 'California', 'Paso Robles', 'Central Coast',\n",
       "        'Cabernet Sauvignon', \"Bishop's Peak\"],\n",
       "       ['US',\n",
       "        'This is a soft, easy wine, with sweet black raspberry, cherry and spice flavors. Drink now with a nice homemade cheeseburger.',\n",
       "        nan, 84, 25.0, 'California', 'Santa Barbara County',\n",
       "        'Central Coast', 'Syrah', 'Curtis'],\n",
       "       ['Italy',\n",
       "        \"You absolutely can't go wrong with a wine like this. Valpolicella Torre d'Orti is an easy, fresh wine that would pair with anything from lasagna to cheeseburgers. It's crisp and thin with a nice quality of cherry, raspberry and cassis fruit.\",\n",
       "        \"Torre d'Orti\", 86, nan, 'Veneto', 'Valpolicella Superiore', nan,\n",
       "        'Corvina, Rondinella, Molinara', 'Cavalchina'],\n",
       "       ['US',\n",
       "        'A strong Zinfandel, tannic, high in alcohol and fruity, and brimming with wild forest cherry and raspberry liqueur, exotic spices and sweet sandalwood. Drink it with a juicy cheeseburger, a spicy beef burrito and just a nice roast chicken.',\n",
       "        'Old Vines', 86, 22.0, 'California', 'Sonoma County', 'Sonoma',\n",
       "        'Zinfandel', 'St. Francis'],\n",
       "       ['US',\n",
       "        \"Overripe notes of raisins and prunes detract from this wine's enjoyment. Its tannins are augmented by a hint of bitterness and it's a bit hot on the finish, but a juicy cheeseburger will resolve any of these problems.\",\n",
       "        'Sandpiper', 84, 49.0, 'California', 'Coombsville', 'Napa',\n",
       "        'Bordeaux-style Red Blend', 'Porter Family Vineyards'],\n",
       "       ['US',\n",
       "        \"Just what you want a California Merlot to be. It's soft in the mouth, with silky tannins framing easy flavors of cherries, red currants, mocha and cinnamon spice. Great with cheeseburgers, lamb curry, beef tartare.\",\n",
       "        nan, 88, 17.0, 'California', 'Paso Robles', 'Central Coast',\n",
       "        'Merlot', 'Ancient Peaks'],\n",
       "       ['US',\n",
       "        'A big, sweet wine, heavy in the mouth, with fabulously ripe blackberry, cherry and chocolate flavors. Bring on the lasagna and cheeseburgers. The blend is Merlot, Cabernet Sauvignon and Petite Sirah.',\n",
       "        \"Reserve Winemaker's\", 84, 14.0, 'California', 'California',\n",
       "        'California Other', 'Red Blend', 'Red Rock'],\n",
       "       ['US',\n",
       "        \"This has ripe blackberry and oak flavors. It's dry, full bodied and tannic enough to cut through a rich, ketchup-strewn cheeseburger.\",\n",
       "        nan, 84, 10.0, 'California', 'California', 'California Other',\n",
       "        'Cabernet Sauvignon', 'Lost Angel'],\n",
       "       ['US',\n",
       "        \"With cherry, mocha and spice flavors, this is a good wine for drinking with a great cheeseburger. The price is fair for the quality. It's a blend of Petite Sirah and Syrah.\",\n",
       "        nan, 83, 13.0, 'California', 'California', 'California Other',\n",
       "        'Red Blend', 'LoveThisLife'],\n",
       "       ['US',\n",
       "        \"Ripe cherry and blackberry fruit stars in this easy-drinking wine, with oak providing toasty sweetness. It's an everyday, cheeseburger-friendly Merlot.\",\n",
       "        nan, 84, 15.0, 'California', 'Monterey County', 'Central Coast',\n",
       "        'Merlot', 'Five Rivers'],\n",
       "       ['US',\n",
       "        \"A simple but likeable Pinot Noir, with ripe raspberry and cherry fruit. It's dry and silky, and worth drinking with a world-class bacon cheeseburger.\",\n",
       "        nan, 86, 25.0, 'California', 'Carneros', 'Napa-Sonoma',\n",
       "        'Pinot Noir', 'Artesa'],\n",
       "       ['US',\n",
       "        \"There's a sharpness to this Syrah that cuts across the palate like a knife. Even so, it has ripe flavors of berries, cherries and currants. Pair it with rich, fatty foods, like cheeseburgers, to help tame the acids.\",\n",
       "        'Saddle-Up', 85, 22.0, 'California', 'Sonoma Coast', 'Sonoma',\n",
       "        'Syrah', 'Flocchini'],\n",
       "       ['US',\n",
       "        'Rustic and a little sweet tasting, this has flavors of cherry pie, red currant and toast. Drink it with cheeseburgers.',\n",
       "        nan, 84, 10.0, 'California', 'California', 'California Other',\n",
       "        'Red Blend', 'Insomnia'],\n",
       "       ['US',\n",
       "        'A sound, everyday-style Merlot, juicy and soft, with jammy raspberry and cherry flavors. Easy to drink with a cheeseburger.',\n",
       "        'Wildcreek Canyon', 83, 7.0, 'California', 'California',\n",
       "        'California Other', 'Merlot', 'CK Mondavi'],\n",
       "       ['US',\n",
       "        \"A tough, gritty wine, dry and tannic, with some decent berry and cherry flavors. It's the kind of red wine that will happily wash down a cheeseburger.\",\n",
       "        'Rosso di Napa', 83, 11.0, 'California', 'Napa Valley', 'Napa',\n",
       "        'Red Blend', \"Ca' Momi\"],\n",
       "       ['US',\n",
       "        'A bit soft and sweet, with Lifesaver candy flavors of cherries and blackberries, and a spicy finish. Okay with everyday cheeseburgers, pasta.',\n",
       "        nan, 84, 22.0, 'California', 'Sonoma County', 'Sonoma',\n",
       "        'Zinfandel', 'Blockheadia Ringnosii'],\n",
       "       ['US',\n",
       "        'Aromas and flavors of fennel, black cherries, raspberries and chocolate mark this soft, easy Zin. Nice with a juicy cheeseburger slathered with ketchup.',\n",
       "        'Old Vine', 84, 18.0, 'California', 'Lodi', 'Central Valley',\n",
       "        'Zinfandel', 'Klinker Brick'],\n",
       "       ['US',\n",
       "        'Classic Dry Creek Zin, dry, tannic and spicy. Shows ripe, jammy flavors of cherries, raspberries and blackberries that finish a little sweet. Drink now with barbecue, Mexican beef dishes or just a great cheeseburger.',\n",
       "        'Treborce Vineyard', 89, 30.0, 'California', 'Dry Creek Valley',\n",
       "        'Sonoma', 'Zinfandel', 'Hobo'],\n",
       "       ['US',\n",
       "        'The shade of this Kathy Joseph creation is that of rosé-colored sunglasses. Such comfort is furthered with a cherry cola and maraschino cherry nose. A slight effervescent zing on the palate accompanies pomegranate flavors followed by an impressively long finish. Great with a fresh garden salad, but able to handle more substantial fare too, such as  breaded chicken cutlets or a cheeseburger.',\n",
       "        'Rosé', 89, 22.0, 'California', 'Sta. Rita Hills', 'Central Coast',\n",
       "        'Pinot Noir', 'Fiddlehead'],\n",
       "       ['US',\n",
       "        \"A sound wine, dry and full-bodied, that can't quite shake off its country-cousin personality. With strong tannins and berry-cherry and herb flavors, all it needs is a rich cheeseburger to make it happy.\",\n",
       "        nan, 85, 20.0, 'California', 'Yolo County', 'Central Valley',\n",
       "        'Syrah', 'Rominger West'],\n",
       "       ['US',\n",
       "        \"One of the first 2008 Pinots to be released, this fresh young wine has Beaujolais Nouveau-like flavors of freshly crushed cherries, with tangy acidity. It's a fun wine to drink with a juicy cheeseburger.\",\n",
       "        nan, 85, 16.0, 'California', 'California', 'California Other',\n",
       "        'Pinot Noir', 'Stephen Vincent'],\n",
       "       ['US',\n",
       "        \"This is a good, standard-issue Zinfandel. It's spicy and dry, with red cherry, licorice, cola and tobacco flavors, wrapped into firm tannins. Bring on the cheeseburgers, and don't forget the ketchup.\",\n",
       "        nan, 86, 16.0, 'California', 'Sonoma County', 'Sonoma',\n",
       "        'Zinfandel', 'Sebastiani'],\n",
       "       ['US',\n",
       "        'This Merlot is soft, simple and seemingly sweet in fruit and oak. With ripe cherry, mocha and spice flavors, it will partner well with a cheeseburger.',\n",
       "        nan, 85, 15.0, 'California', 'Sonoma County', 'Sonoma', 'Merlot',\n",
       "        'Buena Vista'],\n",
       "       ['US',\n",
       "        'This blend of Zinfandel, Syrah and Petite Sirah is soft and ripe with jammy raspberry and cherry flavors. Simple on its own, but pair it with a fabulous cheeseburger and enjoy.',\n",
       "        nan, 84, 10.0, 'California', 'Napa Valley', 'Napa', 'Red Blend',\n",
       "        'Posh'],\n",
       "       ['US',\n",
       "        'Jammy raspberry, currant and caramel flavors are countered with acidic sharpness and high alcohol in this Zinfandel. It tastes a bit unbalanced, but a juicy cheeseburger will handle it well.',\n",
       "        nan, 85, 19.0, 'California', 'Russian River Valley', 'Sonoma',\n",
       "        'Zinfandel', 'Novy'],\n",
       "       ['US',\n",
       "        \"A common, country-style wine, rich in cherries, cola and spices, with lusty tannins. It's lush and simple, but will rise to the occasion with a cheeseburger. The blend is Zinfandel, Petite Sirah and Graciano.\",\n",
       "        'Lot 362', 84, 16.0, 'California', 'California',\n",
       "        'California Other', 'Red Blend', 'Cameron Hughes'],\n",
       "       ['US',\n",
       "        'A thin little country style wine, tart and tannic, with cherry and currant fruit flavors. Fine for drinking with a big, gooey cheeseburger.',\n",
       "        'Lonely Oak', 84, 12.0, 'California', 'Paso Robles',\n",
       "        'Central Coast', 'Red Blend', 'Project Paso'],\n",
       "       ['US',\n",
       "        'A simple, rather sweet Pinot Noir. Shows candied raspberry, cherry and blackberry flavors. Nice with a lamb cheeseburger.',\n",
       "        nan, 85, 20.0, 'California', 'Sonoma Coast', 'Sonoma',\n",
       "        'Pinot Noir', 'Stickybeak'],\n",
       "       ['US',\n",
       "        \"Sharp acidity gives the cherry flavor cut; the finish is dry and clean. It's a simple wine for drinking with easy fare, like a pizza or a great cheeseburger.\",\n",
       "        'Grand Premio Three Creek Vineyard', 83, 30.0, 'California',\n",
       "        'Happy Canyon of Santa Barbara', 'Central Coast', 'Sangiovese',\n",
       "        'Cimarone'],\n",
       "       ['US',\n",
       "        'Hot in alcohol and seemingly sweet in black currant and chocolate flavors, this is big and powerful, but rustic. Drink it with a cheeseburger.',\n",
       "        'Estate Grown', 83, 30.0, 'California', 'Dry Creek Valley',\n",
       "        'Sonoma', 'Malbec', 'Mounts'],\n",
       "       ['US',\n",
       "        'Big, strong and lusty in flavor, this Syrah floods the mouth with berry-cherry fruit, and will stand up to equally strong fare, such as a ketchup-smothered cheeseburger.',\n",
       "        nan, 85, 16.0, 'California', 'Dunnigan Hills', 'Central Valley',\n",
       "        'Syrah', 'Matchbook'],\n",
       "       ['US',\n",
       "        'Soft, simple and rather sweet, like a chewy candy bar of cherries, currants, cocoa and crunchy granola. High alcohol makes it a little hot and unbalanced, but it will stand up well beside a fabulous cheeseburger.',\n",
       "        'Old Vine', 84, 26.0, 'California', 'Shenandoah Valley (CA)',\n",
       "        'Sierra Foothills', 'Zinfandel', 'Villa Toscano'],\n",
       "       ['US',\n",
       "        \"This young, fresh, fruity Zin tastes like raspberry and cherry jam and bubblegum. It's an effusively easy wine, and very dry and soft. Okay with everyday fare like ham or a juicy cheeseburger.\",\n",
       "        \"Liar's Dice\", 84, 21.0, 'California', 'Sonoma County', 'Sonoma',\n",
       "        'Zinfandel', 'Murphy-Goode'],\n",
       "       ['US',\n",
       "        \"Bring on the cheeseburgers! This is an outrageously delicious, easy-drinking Zin that will fall in love with charbroiled beef and melted cheese. It's not a terribly complicated wine, but perfect for immediate enjoyment with comfort foods.\",\n",
       "        'Rancho Bello Vineyard', 88, 26.0, 'California',\n",
       "        'Russian River Valley', 'Sonoma', 'Zinfandel', 'Ottimino Vineyards'],\n",
       "       ['Italy',\n",
       "        'Bright and lively, with cherry and blueberry nuances, this would pair well with pizzas or simple cheeseburgers. It delivers loads of fresh berry intensity and soft, smooth tannins.',\n",
       "        'Campomaccione', 87, 15.0, 'Tuscany', 'Morellino di Scansano', nan,\n",
       "        'Sangiovese', 'Rocca delle Macìe'],\n",
       "       ['US',\n",
       "        'Sweet, tannic and superfruity, this blend of Dolcetto, Zin, Merlot, Tempranillo and Carignane is rustic and clean. With its flood of blackberry, cherry, chocolate and spice flavors, it will happily wash down simple fare, like cheeseburgers.',\n",
       "        'Rosso', 84, 12.0, 'California', 'California', 'California Other',\n",
       "        'Red Blend', 'Bargetto'],\n",
       "       ['US',\n",
       "        \"Sure, it's sharp and rustic, but it explodes in fresh cherry, blackberry jam and chocolate flavors, with a white pepper edge, and is smooth and mostly dry. At this price, let it wash down lasagna, cheeseburgers and gravy-smothered fried chicken.\",\n",
       "        nan, 84, 7.0, 'California', 'California', 'California Other',\n",
       "        'Shiraz', 'Delicato'],\n",
       "       ['US',\n",
       "        \"Just barely good. Raspingly dry, with a sharp cut of acid and some green flavors, but it'll be fine with a cheeseburger.\",\n",
       "        \"Harry's Patio\", 83, 15.0, 'California', 'Paso Robles',\n",
       "        'Central Coast', 'Red Blend', 'Fralich'],\n",
       "       ['US',\n",
       "        'Jammy, grapey and fresh, with blackberry and cherry flavors that taste right out of the fermenter. Richness comes from notes of coffee, leather and spice. So easy to imagine drinking this wine with a cheeseburger.',\n",
       "        nan, 86, 13.0, 'California', 'Central Coast', 'Central Coast',\n",
       "        'Syrah', 'Liberty School'],\n",
       "       ['US',\n",
       "        'Hot and rustic, but clean, with earth, coffee and berry flavors and strong tannins. Drink this dry, tart wine with simple picnic foods, like pizza and cheeseburgers.',\n",
       "        'Lucca Red Wine', 83, 10.0, 'California', 'California',\n",
       "        'California Other', 'Red Blend', 'Mosby'],\n",
       "       ['US',\n",
       "        \"Sharp and jammy, with blackberry and cherry flavors. It's a simple, direct wine that needs a big, juicy cheeseburger.\",\n",
       "        nan, 83, 12.0, 'California', 'California', 'California Other',\n",
       "        'Merlot', 'Cartlidge & Browne']], dtype=object)"
      ]
     },
     "execution_count": 43,
     "metadata": {},
     "output_type": "execute_result"
    }
   ],
   "source": [
    "top_wines_df[top_wines_df['description'].str.contains('cheeseburger')].values"
   ]
  },
  {
   "cell_type": "code",
   "execution_count": 44,
   "metadata": {},
   "outputs": [
    {
     "data": {
      "text/plain": [
       "count    50.000000\n",
       "mean     84.800000\n",
       "std       1.551826\n",
       "min      83.000000\n",
       "25%      84.000000\n",
       "50%      84.000000\n",
       "75%      86.000000\n",
       "max      89.000000\n",
       "Name: points, dtype: float64"
      ]
     },
     "execution_count": 44,
     "metadata": {},
     "output_type": "execute_result"
    }
   ],
   "source": [
    "dedupped_df[dedupped_df['description'].str.contains('cheeseburger')]['points'].describe()"
   ]
  },
  {
   "cell_type": "code",
   "execution_count": 45,
   "metadata": {},
   "outputs": [
    {
     "data": {
      "text/plain": [
       "count    97821.000000\n",
       "mean        87.956819\n",
       "std          3.217883\n",
       "min         80.000000\n",
       "25%         86.000000\n",
       "50%         88.000000\n",
       "75%         90.000000\n",
       "max        100.000000\n",
       "Name: points, dtype: float64"
      ]
     },
     "execution_count": 45,
     "metadata": {},
     "output_type": "execute_result"
    }
   ],
   "source": [
    "dedupped_df['points'].describe()"
   ]
  },
  {
   "cell_type": "markdown",
   "metadata": {},
   "source": [
    "Some 50 reviews use the word cheeseburger (\"it will happily wash down simple fare, like cheeseburgers\"), and on average their review rating points are ~84, about a full standard deviation lower than the overall average.\n",
    "\n",
    "I guess bad wine goes with good cheeseburgers?"
   ]
  },
  {
   "cell_type": "code",
   "execution_count": null,
   "metadata": {
    "collapsed": true
   },
   "outputs": [],
   "source": []
  },
  {
   "cell_type": "code",
   "execution_count": null,
   "metadata": {
    "collapsed": true
   },
   "outputs": [],
   "source": []
  },
  {
   "cell_type": "code",
   "execution_count": null,
   "metadata": {
    "collapsed": true
   },
   "outputs": [],
   "source": []
  },
  {
   "cell_type": "code",
   "execution_count": null,
   "metadata": {
    "collapsed": true
   },
   "outputs": [],
   "source": []
  },
  {
   "cell_type": "code",
   "execution_count": null,
   "metadata": {
    "collapsed": true
   },
   "outputs": [],
   "source": []
  },
  {
   "cell_type": "code",
   "execution_count": null,
   "metadata": {
    "collapsed": true
   },
   "outputs": [],
   "source": []
  }
 ],
 "metadata": {
  "kernelspec": {
   "display_name": "Python 3",
   "language": "python",
   "name": "python3"
  },
  "language_info": {
   "codemirror_mode": {
    "name": "ipython",
    "version": 3
   },
   "file_extension": ".py",
   "mimetype": "text/x-python",
   "name": "python",
   "nbconvert_exporter": "python",
   "pygments_lexer": "ipython3",
   "version": "3.6.3"
  }
 },
 "nbformat": 4,
 "nbformat_minor": 2
}
