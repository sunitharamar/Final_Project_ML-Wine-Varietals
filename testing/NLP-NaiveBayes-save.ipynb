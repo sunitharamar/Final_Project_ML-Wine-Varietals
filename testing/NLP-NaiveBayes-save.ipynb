{
 "cells": [
  {
   "cell_type": "code",
   "execution_count": 8,
   "metadata": {
    "collapsed": true
   },
   "outputs": [],
   "source": [
    "from pyspark.sql import SparkSession\n",
    "import pandas as pd"
   ]
  },
  {
   "cell_type": "code",
   "execution_count": 9,
   "metadata": {
    "collapsed": true
   },
   "outputs": [],
   "source": [
    "spark = SparkSession.builder.appName('test').getOrCreate()"
   ]
  },
  {
   "cell_type": "code",
   "execution_count": 10,
   "metadata": {},
   "outputs": [
    {
     "name": "stdout",
     "output_type": "stream",
     "text": [
      "+---+------------------+--------------------+\n",
      "|_c0|           variety|         description|\n",
      "+---+------------------+--------------------+\n",
      "|  0|       White Blend|Aromas include tr...|\n",
      "|  1|    Portuguese Red|This is ripe and ...|\n",
      "|  2|        Pinot Gris|Tart and snappy t...|\n",
      "|  3|          Riesling|Pineapple rind le...|\n",
      "|  4|        Pinot Noir|Much like the reg...|\n",
      "|  5|Tempranillo-Merlot|Blackberry and ra...|\n",
      "|  6|          Frappato|Here's a bright i...|\n",
      "|  7|    Gewürztraminer|This dry and rest...|\n",
      "|  8|    Gewürztraminer|Savory dried thym...|\n",
      "|  9|        Pinot Gris|This has great de...|\n",
      "| 10|Cabernet Sauvignon|Soft supple plum ...|\n",
      "| 11|    Gewürztraminer|This is a dry win...|\n",
      "| 12|Cabernet Sauvignon|Slightly reduced ...|\n",
      "| 13| Nerello Mascalese|This is dominated...|\n",
      "| 14|        Chardonnay|Building on 150 y...|\n",
      "| 15|          Riesling|Zesty orange peel...|\n",
      "| 16|            Malbec|Baked plum molass...|\n",
      "| 17|            Malbec|Raw black-cherry ...|\n",
      "| 18| Tempranillo Blend|Desiccated blackb...|\n",
      "| 19|          Meritage|Red fruit aromas ...|\n",
      "+---+------------------+--------------------+\n",
      "only showing top 20 rows\n",
      "\n"
     ]
    },
    {
     "data": {
      "text/plain": [
       "pyspark.sql.dataframe.DataFrame"
      ]
     },
     "execution_count": 10,
     "metadata": {},
     "output_type": "execute_result"
    }
   ],
   "source": [
    "# Import csv of spam and ham (not spam)\n",
    "start_data = spark.read.format(\"csv\").option(\"header\", \"true\").load(\"./testing/test.csv\")\n",
    "start_data.show()\n",
    "type(start_data)"
   ]
  },
  {
   "cell_type": "code",
   "execution_count": 11,
   "metadata": {},
   "outputs": [
    {
     "name": "stdout",
     "output_type": "stream",
     "text": [
      "+---+------------------+--------------------+------+\n",
      "|_c0|           variety|         description|length|\n",
      "+---+------------------+--------------------+------+\n",
      "|  0|       White Blend|Aromas include tr...|   166|\n",
      "|  1|    Portuguese Red|This is ripe and ...|   222|\n",
      "|  2|        Pinot Gris|Tart and snappy t...|   181|\n",
      "|  3|          Riesling|Pineapple rind le...|   194|\n",
      "|  4|        Pinot Noir|Much like the reg...|   241|\n",
      "|  5|Tempranillo-Merlot|Blackberry and ra...|   252|\n",
      "|  6|          Frappato|Here's a bright i...|   177|\n",
      "|  7|    Gewürztraminer|This dry and rest...|   119|\n",
      "|  8|    Gewürztraminer|Savory dried thym...|   151|\n",
      "|  9|        Pinot Gris|This has great de...|   157|\n",
      "| 10|Cabernet Sauvignon|Soft supple plum ...|   237|\n",
      "| 11|    Gewürztraminer|This is a dry win...|   174|\n",
      "| 12|Cabernet Sauvignon|Slightly reduced ...|   167|\n",
      "| 13| Nerello Mascalese|This is dominated...|   228|\n",
      "| 14|        Chardonnay|Building on 150 y...|   303|\n",
      "| 15|          Riesling|Zesty orange peel...|   170|\n",
      "| 16|            Malbec|Baked plum molass...|   278|\n",
      "| 17|            Malbec|Raw black-cherry ...|   241|\n",
      "| 18| Tempranillo Blend|Desiccated blackb...|   268|\n",
      "| 19|          Meritage|Red fruit aromas ...|   309|\n",
      "+---+------------------+--------------------+------+\n",
      "only showing top 20 rows\n",
      "\n"
     ]
    }
   ],
   "source": [
    "# Create a length column to be used as a future feature \n",
    "from pyspark.sql.functions import length\n",
    "data = start_data.withColumn('length', length(start_data['description']))\n",
    "# data.show(truncate = False)\n",
    "data.show()\n"
   ]
  },
  {
   "cell_type": "code",
   "execution_count": 12,
   "metadata": {},
   "outputs": [
    {
     "data": {
      "text/html": [
       "<div>\n",
       "<style>\n",
       "    .dataframe thead tr:only-child th {\n",
       "        text-align: right;\n",
       "    }\n",
       "\n",
       "    .dataframe thead th {\n",
       "        text-align: left;\n",
       "    }\n",
       "\n",
       "    .dataframe tbody tr th {\n",
       "        vertical-align: top;\n",
       "    }\n",
       "</style>\n",
       "<table border=\"1\" class=\"dataframe\">\n",
       "  <thead>\n",
       "    <tr style=\"text-align: right;\">\n",
       "      <th></th>\n",
       "      <th>_c0</th>\n",
       "      <th>variety</th>\n",
       "      <th>description</th>\n",
       "      <th>length</th>\n",
       "    </tr>\n",
       "  </thead>\n",
       "  <tbody>\n",
       "    <tr>\n",
       "      <th>0</th>\n",
       "      <td>0</td>\n",
       "      <td>White Blend</td>\n",
       "      <td>Aromas include tropical fruit broom brimstone ...</td>\n",
       "      <td>166.0</td>\n",
       "    </tr>\n",
       "    <tr>\n",
       "      <th>1</th>\n",
       "      <td>1</td>\n",
       "      <td>Portuguese Red</td>\n",
       "      <td>This is ripe and fruity a wine that is smooth ...</td>\n",
       "      <td>222.0</td>\n",
       "    </tr>\n",
       "    <tr>\n",
       "      <th>2</th>\n",
       "      <td>2</td>\n",
       "      <td>Pinot Gris</td>\n",
       "      <td>Tart and snappy the flavors of lime flesh and ...</td>\n",
       "      <td>181.0</td>\n",
       "    </tr>\n",
       "    <tr>\n",
       "      <th>3</th>\n",
       "      <td>3</td>\n",
       "      <td>Riesling</td>\n",
       "      <td>Pineapple rind lemon pith and orange blossom s...</td>\n",
       "      <td>194.0</td>\n",
       "    </tr>\n",
       "    <tr>\n",
       "      <th>4</th>\n",
       "      <td>4</td>\n",
       "      <td>Pinot Noir</td>\n",
       "      <td>Much like the regular bottling from 2012 this ...</td>\n",
       "      <td>241.0</td>\n",
       "    </tr>\n",
       "    <tr>\n",
       "      <th>5</th>\n",
       "      <td>5</td>\n",
       "      <td>Tempranillo-Merlot</td>\n",
       "      <td>Blackberry and raspberry aromas show a typical...</td>\n",
       "      <td>252.0</td>\n",
       "    </tr>\n",
       "    <tr>\n",
       "      <th>6</th>\n",
       "      <td>6</td>\n",
       "      <td>Frappato</td>\n",
       "      <td>Here's a bright informal red that opens with a...</td>\n",
       "      <td>177.0</td>\n",
       "    </tr>\n",
       "    <tr>\n",
       "      <th>7</th>\n",
       "      <td>7</td>\n",
       "      <td>Gewürztraminer</td>\n",
       "      <td>This dry and restrained wine offers spice in p...</td>\n",
       "      <td>119.0</td>\n",
       "    </tr>\n",
       "    <tr>\n",
       "      <th>8</th>\n",
       "      <td>8</td>\n",
       "      <td>Gewürztraminer</td>\n",
       "      <td>Savory dried thyme notes accent sunnier flavor...</td>\n",
       "      <td>151.0</td>\n",
       "    </tr>\n",
       "    <tr>\n",
       "      <th>9</th>\n",
       "      <td>9</td>\n",
       "      <td>Pinot Gris</td>\n",
       "      <td>This has great depth of flavor with its fresh ...</td>\n",
       "      <td>157.0</td>\n",
       "    </tr>\n",
       "    <tr>\n",
       "      <th>10</th>\n",
       "      <td>10</td>\n",
       "      <td>Cabernet Sauvignon</td>\n",
       "      <td>Soft supple plum envelopes an oaky structure i...</td>\n",
       "      <td>237.0</td>\n",
       "    </tr>\n",
       "    <tr>\n",
       "      <th>11</th>\n",
       "      <td>11</td>\n",
       "      <td>Gewürztraminer</td>\n",
       "      <td>This is a dry wine very spicy with a tight tau...</td>\n",
       "      <td>174.0</td>\n",
       "    </tr>\n",
       "    <tr>\n",
       "      <th>12</th>\n",
       "      <td>12</td>\n",
       "      <td>Cabernet Sauvignon</td>\n",
       "      <td>Slightly reduced this wine offers a chalky tan...</td>\n",
       "      <td>167.0</td>\n",
       "    </tr>\n",
       "    <tr>\n",
       "      <th>13</th>\n",
       "      <td>13</td>\n",
       "      <td>Nerello Mascalese</td>\n",
       "      <td>This is dominated by oak and oak-driven aromas...</td>\n",
       "      <td>228.0</td>\n",
       "    </tr>\n",
       "    <tr>\n",
       "      <th>14</th>\n",
       "      <td>14</td>\n",
       "      <td>Chardonnay</td>\n",
       "      <td>Building on 150 years and six generations of w...</td>\n",
       "      <td>303.0</td>\n",
       "    </tr>\n",
       "    <tr>\n",
       "      <th>15</th>\n",
       "      <td>15</td>\n",
       "      <td>Riesling</td>\n",
       "      <td>Zesty orange peels and apple notes abound in t...</td>\n",
       "      <td>170.0</td>\n",
       "    </tr>\n",
       "    <tr>\n",
       "      <th>16</th>\n",
       "      <td>16</td>\n",
       "      <td>Malbec</td>\n",
       "      <td>Baked plum molasses balsamic vinegar and chees...</td>\n",
       "      <td>278.0</td>\n",
       "    </tr>\n",
       "    <tr>\n",
       "      <th>17</th>\n",
       "      <td>17</td>\n",
       "      <td>Malbec</td>\n",
       "      <td>Raw black-cherry aromas are direct and simple ...</td>\n",
       "      <td>241.0</td>\n",
       "    </tr>\n",
       "    <tr>\n",
       "      <th>18</th>\n",
       "      <td>18</td>\n",
       "      <td>Tempranillo Blend</td>\n",
       "      <td>Desiccated blackberry leather charred wood and...</td>\n",
       "      <td>268.0</td>\n",
       "    </tr>\n",
       "    <tr>\n",
       "      <th>19</th>\n",
       "      <td>19</td>\n",
       "      <td>Meritage</td>\n",
       "      <td>Red fruit aromas pervade on the nose with ciga...</td>\n",
       "      <td>309.0</td>\n",
       "    </tr>\n",
       "    <tr>\n",
       "      <th>20</th>\n",
       "      <td>20</td>\n",
       "      <td>Red Blend</td>\n",
       "      <td>Ripe aromas of dark berries mingle with ample ...</td>\n",
       "      <td>205.0</td>\n",
       "    </tr>\n",
       "    <tr>\n",
       "      <th>21</th>\n",
       "      <td>21</td>\n",
       "      <td>Pinot Noir</td>\n",
       "      <td>A sleek mix of tart berry stem and herb along ...</td>\n",
       "      <td>226.0</td>\n",
       "    </tr>\n",
       "    <tr>\n",
       "      <th>22</th>\n",
       "      <td>22</td>\n",
       "      <td>White Blend</td>\n",
       "      <td>Delicate aromas recall white flower and citrus...</td>\n",
       "      <td>147.0</td>\n",
       "    </tr>\n",
       "    <tr>\n",
       "      <th>23</th>\n",
       "      <td>23</td>\n",
       "      <td>Merlot</td>\n",
       "      <td>This wine from the Geneseo district offers aro...</td>\n",
       "      <td>247.0</td>\n",
       "    </tr>\n",
       "    <tr>\n",
       "      <th>24</th>\n",
       "      <td>24</td>\n",
       "      <td>Nero d'Avola</td>\n",
       "      <td>Aromas of prune blackcurrant toast and oak car...</td>\n",
       "      <td>186.0</td>\n",
       "    </tr>\n",
       "    <tr>\n",
       "      <th>25</th>\n",
       "      <td>25</td>\n",
       "      <td>Pinot Noir</td>\n",
       "      <td>Oak and earth intermingle around robust aromas...</td>\n",
       "      <td>255.0</td>\n",
       "    </tr>\n",
       "    <tr>\n",
       "      <th>26</th>\n",
       "      <td>26</td>\n",
       "      <td>White Blend</td>\n",
       "      <td>Pretty aromas of yellow flower and stone fruit...</td>\n",
       "      <td>180.0</td>\n",
       "    </tr>\n",
       "    <tr>\n",
       "      <th>27</th>\n",
       "      <td>27</td>\n",
       "      <td>Nero d'Avola</td>\n",
       "      <td>Aromas recall ripe dark berry toast and a whif...</td>\n",
       "      <td>171.0</td>\n",
       "    </tr>\n",
       "    <tr>\n",
       "      <th>28</th>\n",
       "      <td>28</td>\n",
       "      <td>Red Blend</td>\n",
       "      <td>Aromas suggest mature berry scorched earth ani...</td>\n",
       "      <td>155.0</td>\n",
       "    </tr>\n",
       "    <tr>\n",
       "      <th>29</th>\n",
       "      <td>29</td>\n",
       "      <td>Chenin Blanc</td>\n",
       "      <td>Clarksburg is becoming a haven for Chenin Blan...</td>\n",
       "      <td>295.0</td>\n",
       "    </tr>\n",
       "    <tr>\n",
       "      <th>...</th>\n",
       "      <td>...</td>\n",
       "      <td>...</td>\n",
       "      <td>...</td>\n",
       "      <td>...</td>\n",
       "    </tr>\n",
       "    <tr>\n",
       "      <th>129943</th>\n",
       "      <td>129941</td>\n",
       "      <td>Chardonnay</td>\n",
       "      <td>A Chardonnay with an unusual companion 8% Sémi...</td>\n",
       "      <td>237.0</td>\n",
       "    </tr>\n",
       "    <tr>\n",
       "      <th>129944</th>\n",
       "      <td>129942</td>\n",
       "      <td>Cabernet Sauvignon</td>\n",
       "      <td>This is classic in herbaceous aromas and flavo...</td>\n",
       "      <td>259.0</td>\n",
       "    </tr>\n",
       "    <tr>\n",
       "      <th>129945</th>\n",
       "      <td>129943</td>\n",
       "      <td>Red Blend</td>\n",
       "      <td>A blend of Nero d'Avola and Syrah this conveys...</td>\n",
       "      <td>228.0</td>\n",
       "    </tr>\n",
       "    <tr>\n",
       "      <th>129946</th>\n",
       "      <td>129944</td>\n",
       "      <td>Shiraz</td>\n",
       "      <td>Deep garnet in the glass this has a nose of bl...</td>\n",
       "      <td>309.0</td>\n",
       "    </tr>\n",
       "    <tr>\n",
       "      <th>129947</th>\n",
       "      <td>129945</td>\n",
       "      <td>Chenin Blanc</td>\n",
       "      <td>Hailing from one of the more popular vineyards...</td>\n",
       "      <td>378.0</td>\n",
       "    </tr>\n",
       "    <tr>\n",
       "      <th>129948</th>\n",
       "      <td>129946</td>\n",
       "      <td>Riesling</td>\n",
       "      <td>Plump clingy peach and honey notes are cut wit...</td>\n",
       "      <td>208.0</td>\n",
       "    </tr>\n",
       "    <tr>\n",
       "      <th>129949</th>\n",
       "      <td>129947</td>\n",
       "      <td>Red Blend</td>\n",
       "      <td>A blend of 65% Cabernet Sauvignon 30% Merlot a...</td>\n",
       "      <td>245.0</td>\n",
       "    </tr>\n",
       "    <tr>\n",
       "      <th>129950</th>\n",
       "      <td>129948</td>\n",
       "      <td>Malbec</td>\n",
       "      <td>Raspberry and cassis aromas are fresh and upri...</td>\n",
       "      <td>252.0</td>\n",
       "    </tr>\n",
       "    <tr>\n",
       "      <th>129951</th>\n",
       "      <td>129949</td>\n",
       "      <td>Chardonnay</td>\n",
       "      <td>There's no bones about the use of oak in this ...</td>\n",
       "      <td>287.0</td>\n",
       "    </tr>\n",
       "    <tr>\n",
       "      <th>129952</th>\n",
       "      <td>129950</td>\n",
       "      <td>Zinfandel</td>\n",
       "      <td>This opens with herbaceous dollops of thyme an...</td>\n",
       "      <td>213.0</td>\n",
       "    </tr>\n",
       "    <tr>\n",
       "      <th>129953</th>\n",
       "      <td>129951</td>\n",
       "      <td>Gewürztraminer</td>\n",
       "      <td>Hugely spicy this rich wine is described as sw...</td>\n",
       "      <td>207.0</td>\n",
       "    </tr>\n",
       "    <tr>\n",
       "      <th>129954</th>\n",
       "      <td>129952</td>\n",
       "      <td>Zinfandel</td>\n",
       "      <td>This Zinfandel from the eastern section of Nap...</td>\n",
       "      <td>232.0</td>\n",
       "    </tr>\n",
       "    <tr>\n",
       "      <th>129955</th>\n",
       "      <td>129953</td>\n",
       "      <td>Cabernet Merlot</td>\n",
       "      <td>Roughly two-thirds Cabernet and one-third Merl...</td>\n",
       "      <td>175.0</td>\n",
       "    </tr>\n",
       "    <tr>\n",
       "      <th>129956</th>\n",
       "      <td>129954</td>\n",
       "      <td>Pinot Gris</td>\n",
       "      <td>One of the more characterful Pinot Gris for th...</td>\n",
       "      <td>258.0</td>\n",
       "    </tr>\n",
       "    <tr>\n",
       "      <th>129957</th>\n",
       "      <td>129955</td>\n",
       "      <td>Chardonnay</td>\n",
       "      <td>Like Dog Point's 2011 Chardonnay this wine is ...</td>\n",
       "      <td>254.0</td>\n",
       "    </tr>\n",
       "    <tr>\n",
       "      <th>129958</th>\n",
       "      <td>129956</td>\n",
       "      <td>Bordeaux-style Red Blend</td>\n",
       "      <td>The blend is 44% Merlot 33% Cabernet Sauvignon...</td>\n",
       "      <td>246.0</td>\n",
       "    </tr>\n",
       "    <tr>\n",
       "      <th>129959</th>\n",
       "      <td>129957</td>\n",
       "      <td>Tempranillo Blend</td>\n",
       "      <td>Lightly baked berry aromas vie for attention w...</td>\n",
       "      <td>355.0</td>\n",
       "    </tr>\n",
       "    <tr>\n",
       "      <th>129960</th>\n",
       "      <td>129958</td>\n",
       "      <td>Bordeaux-style Red Blend</td>\n",
       "      <td>This blend of Cabernet Sauvignon-Merlot and Ca...</td>\n",
       "      <td>203.0</td>\n",
       "    </tr>\n",
       "    <tr>\n",
       "      <th>129961</th>\n",
       "      <td>129959</td>\n",
       "      <td>Pinot Gris</td>\n",
       "      <td>The granite soil of the Brand Grand Cru vineya...</td>\n",
       "      <td>283.0</td>\n",
       "    </tr>\n",
       "    <tr>\n",
       "      <th>129962</th>\n",
       "      <td>129960</td>\n",
       "      <td>Pinot Noir</td>\n",
       "      <td>Fresh and fruity this is full of red cherry fl...</td>\n",
       "      <td>199.0</td>\n",
       "    </tr>\n",
       "    <tr>\n",
       "      <th>129963</th>\n",
       "      <td>129961</td>\n",
       "      <td>Frappato</td>\n",
       "      <td>Intense aromas of wild cherry baking spice til...</td>\n",
       "      <td>285.0</td>\n",
       "    </tr>\n",
       "    <tr>\n",
       "      <th>129964</th>\n",
       "      <td>129962</td>\n",
       "      <td>Nero d'Avola</td>\n",
       "      <td>Blackberry cassis grilled herb and toasted aro...</td>\n",
       "      <td>213.0</td>\n",
       "    </tr>\n",
       "    <tr>\n",
       "      <th>129965</th>\n",
       "      <td>129963</td>\n",
       "      <td>Cabernet Sauvignon</td>\n",
       "      <td>A bouquet of black cherry tart cranberry and c...</td>\n",
       "      <td>337.0</td>\n",
       "    </tr>\n",
       "    <tr>\n",
       "      <th>129966</th>\n",
       "      <td>129964</td>\n",
       "      <td>Gewürztraminer</td>\n",
       "      <td>Initially quite muted this wine slowly develop...</td>\n",
       "      <td>237.0</td>\n",
       "    </tr>\n",
       "    <tr>\n",
       "      <th>129967</th>\n",
       "      <td>129965</td>\n",
       "      <td>Pinot Gris</td>\n",
       "      <td>While it's rich this beautiful dry wine also o...</td>\n",
       "      <td>206.0</td>\n",
       "    </tr>\n",
       "    <tr>\n",
       "      <th>129968</th>\n",
       "      <td>129966</td>\n",
       "      <td>Riesling</td>\n",
       "      <td>Notes of honeysuckle and cantaloupe sweeten th...</td>\n",
       "      <td>223.0</td>\n",
       "    </tr>\n",
       "    <tr>\n",
       "      <th>129969</th>\n",
       "      <td>129967</td>\n",
       "      <td>Pinot Noir</td>\n",
       "      <td>Citation is given as much as a decade of bottl...</td>\n",
       "      <td>227.0</td>\n",
       "    </tr>\n",
       "    <tr>\n",
       "      <th>129970</th>\n",
       "      <td>129968</td>\n",
       "      <td>Gewürztraminer</td>\n",
       "      <td>Well-drained gravel soil gives this wine its c...</td>\n",
       "      <td>220.0</td>\n",
       "    </tr>\n",
       "    <tr>\n",
       "      <th>129971</th>\n",
       "      <td>129969</td>\n",
       "      <td>Pinot Gris</td>\n",
       "      <td>A dry style of Pinot Gris this is crisp with s...</td>\n",
       "      <td>209.0</td>\n",
       "    </tr>\n",
       "    <tr>\n",
       "      <th>129972</th>\n",
       "      <td>129970</td>\n",
       "      <td>Gewürztraminer</td>\n",
       "      <td>Big rich and off-dry this is powered by intens...</td>\n",
       "      <td>163.0</td>\n",
       "    </tr>\n",
       "  </tbody>\n",
       "</table>\n",
       "<p>129973 rows × 4 columns</p>\n",
       "</div>"
      ],
      "text/plain": [
       "           _c0                   variety  \\\n",
       "0            0               White Blend   \n",
       "1            1            Portuguese Red   \n",
       "2            2                Pinot Gris   \n",
       "3            3                  Riesling   \n",
       "4            4                Pinot Noir   \n",
       "5            5        Tempranillo-Merlot   \n",
       "6            6                  Frappato   \n",
       "7            7            Gewürztraminer   \n",
       "8            8            Gewürztraminer   \n",
       "9            9                Pinot Gris   \n",
       "10          10        Cabernet Sauvignon   \n",
       "11          11            Gewürztraminer   \n",
       "12          12        Cabernet Sauvignon   \n",
       "13          13         Nerello Mascalese   \n",
       "14          14                Chardonnay   \n",
       "15          15                  Riesling   \n",
       "16          16                    Malbec   \n",
       "17          17                    Malbec   \n",
       "18          18         Tempranillo Blend   \n",
       "19          19                  Meritage   \n",
       "20          20                 Red Blend   \n",
       "21          21                Pinot Noir   \n",
       "22          22               White Blend   \n",
       "23          23                    Merlot   \n",
       "24          24              Nero d'Avola   \n",
       "25          25                Pinot Noir   \n",
       "26          26               White Blend   \n",
       "27          27              Nero d'Avola   \n",
       "28          28                 Red Blend   \n",
       "29          29              Chenin Blanc   \n",
       "...        ...                       ...   \n",
       "129943  129941                Chardonnay   \n",
       "129944  129942        Cabernet Sauvignon   \n",
       "129945  129943                 Red Blend   \n",
       "129946  129944                    Shiraz   \n",
       "129947  129945              Chenin Blanc   \n",
       "129948  129946                  Riesling   \n",
       "129949  129947                 Red Blend   \n",
       "129950  129948                    Malbec   \n",
       "129951  129949                Chardonnay   \n",
       "129952  129950                 Zinfandel   \n",
       "129953  129951            Gewürztraminer   \n",
       "129954  129952                 Zinfandel   \n",
       "129955  129953           Cabernet Merlot   \n",
       "129956  129954                Pinot Gris   \n",
       "129957  129955                Chardonnay   \n",
       "129958  129956  Bordeaux-style Red Blend   \n",
       "129959  129957         Tempranillo Blend   \n",
       "129960  129958  Bordeaux-style Red Blend   \n",
       "129961  129959                Pinot Gris   \n",
       "129962  129960                Pinot Noir   \n",
       "129963  129961                  Frappato   \n",
       "129964  129962              Nero d'Avola   \n",
       "129965  129963        Cabernet Sauvignon   \n",
       "129966  129964            Gewürztraminer   \n",
       "129967  129965                Pinot Gris   \n",
       "129968  129966                  Riesling   \n",
       "129969  129967                Pinot Noir   \n",
       "129970  129968            Gewürztraminer   \n",
       "129971  129969                Pinot Gris   \n",
       "129972  129970            Gewürztraminer   \n",
       "\n",
       "                                              description  length  \n",
       "0       Aromas include tropical fruit broom brimstone ...   166.0  \n",
       "1       This is ripe and fruity a wine that is smooth ...   222.0  \n",
       "2       Tart and snappy the flavors of lime flesh and ...   181.0  \n",
       "3       Pineapple rind lemon pith and orange blossom s...   194.0  \n",
       "4       Much like the regular bottling from 2012 this ...   241.0  \n",
       "5       Blackberry and raspberry aromas show a typical...   252.0  \n",
       "6       Here's a bright informal red that opens with a...   177.0  \n",
       "7       This dry and restrained wine offers spice in p...   119.0  \n",
       "8       Savory dried thyme notes accent sunnier flavor...   151.0  \n",
       "9       This has great depth of flavor with its fresh ...   157.0  \n",
       "10      Soft supple plum envelopes an oaky structure i...   237.0  \n",
       "11      This is a dry wine very spicy with a tight tau...   174.0  \n",
       "12      Slightly reduced this wine offers a chalky tan...   167.0  \n",
       "13      This is dominated by oak and oak-driven aromas...   228.0  \n",
       "14      Building on 150 years and six generations of w...   303.0  \n",
       "15      Zesty orange peels and apple notes abound in t...   170.0  \n",
       "16      Baked plum molasses balsamic vinegar and chees...   278.0  \n",
       "17      Raw black-cherry aromas are direct and simple ...   241.0  \n",
       "18      Desiccated blackberry leather charred wood and...   268.0  \n",
       "19      Red fruit aromas pervade on the nose with ciga...   309.0  \n",
       "20      Ripe aromas of dark berries mingle with ample ...   205.0  \n",
       "21      A sleek mix of tart berry stem and herb along ...   226.0  \n",
       "22      Delicate aromas recall white flower and citrus...   147.0  \n",
       "23      This wine from the Geneseo district offers aro...   247.0  \n",
       "24      Aromas of prune blackcurrant toast and oak car...   186.0  \n",
       "25      Oak and earth intermingle around robust aromas...   255.0  \n",
       "26      Pretty aromas of yellow flower and stone fruit...   180.0  \n",
       "27      Aromas recall ripe dark berry toast and a whif...   171.0  \n",
       "28      Aromas suggest mature berry scorched earth ani...   155.0  \n",
       "29      Clarksburg is becoming a haven for Chenin Blan...   295.0  \n",
       "...                                                   ...     ...  \n",
       "129943  A Chardonnay with an unusual companion 8% Sémi...   237.0  \n",
       "129944  This is classic in herbaceous aromas and flavo...   259.0  \n",
       "129945  A blend of Nero d'Avola and Syrah this conveys...   228.0  \n",
       "129946  Deep garnet in the glass this has a nose of bl...   309.0  \n",
       "129947  Hailing from one of the more popular vineyards...   378.0  \n",
       "129948  Plump clingy peach and honey notes are cut wit...   208.0  \n",
       "129949  A blend of 65% Cabernet Sauvignon 30% Merlot a...   245.0  \n",
       "129950  Raspberry and cassis aromas are fresh and upri...   252.0  \n",
       "129951  There's no bones about the use of oak in this ...   287.0  \n",
       "129952  This opens with herbaceous dollops of thyme an...   213.0  \n",
       "129953  Hugely spicy this rich wine is described as sw...   207.0  \n",
       "129954  This Zinfandel from the eastern section of Nap...   232.0  \n",
       "129955  Roughly two-thirds Cabernet and one-third Merl...   175.0  \n",
       "129956  One of the more characterful Pinot Gris for th...   258.0  \n",
       "129957  Like Dog Point's 2011 Chardonnay this wine is ...   254.0  \n",
       "129958  The blend is 44% Merlot 33% Cabernet Sauvignon...   246.0  \n",
       "129959  Lightly baked berry aromas vie for attention w...   355.0  \n",
       "129960  This blend of Cabernet Sauvignon-Merlot and Ca...   203.0  \n",
       "129961  The granite soil of the Brand Grand Cru vineya...   283.0  \n",
       "129962  Fresh and fruity this is full of red cherry fl...   199.0  \n",
       "129963  Intense aromas of wild cherry baking spice til...   285.0  \n",
       "129964  Blackberry cassis grilled herb and toasted aro...   213.0  \n",
       "129965  A bouquet of black cherry tart cranberry and c...   337.0  \n",
       "129966  Initially quite muted this wine slowly develop...   237.0  \n",
       "129967  While it's rich this beautiful dry wine also o...   206.0  \n",
       "129968  Notes of honeysuckle and cantaloupe sweeten th...   223.0  \n",
       "129969  Citation is given as much as a decade of bottl...   227.0  \n",
       "129970  Well-drained gravel soil gives this wine its c...   220.0  \n",
       "129971  A dry style of Pinot Gris this is crisp with s...   209.0  \n",
       "129972  Big rich and off-dry this is powered by intens...   163.0  \n",
       "\n",
       "[129973 rows x 4 columns]"
      ]
     },
     "execution_count": 12,
     "metadata": {},
     "output_type": "execute_result"
    }
   ],
   "source": [
    "sparktoPD = data.toPandas()\n",
    "sparktoPD"
   ]
  },
  {
   "cell_type": "code",
   "execution_count": 13,
   "metadata": {},
   "outputs": [
    {
     "data": {
      "text/html": [
       "<div>\n",
       "<style>\n",
       "    .dataframe thead tr:only-child th {\n",
       "        text-align: right;\n",
       "    }\n",
       "\n",
       "    .dataframe thead th {\n",
       "        text-align: left;\n",
       "    }\n",
       "\n",
       "    .dataframe tbody tr th {\n",
       "        vertical-align: top;\n",
       "    }\n",
       "</style>\n",
       "<table border=\"1\" class=\"dataframe\">\n",
       "  <thead>\n",
       "    <tr style=\"text-align: right;\">\n",
       "      <th></th>\n",
       "      <th>variety</th>\n",
       "      <th>description</th>\n",
       "      <th>length</th>\n",
       "    </tr>\n",
       "  </thead>\n",
       "  <tbody>\n",
       "    <tr>\n",
       "      <th>count</th>\n",
       "      <td>129970</td>\n",
       "      <td>129971</td>\n",
       "      <td>129971.000000</td>\n",
       "    </tr>\n",
       "    <tr>\n",
       "      <th>unique</th>\n",
       "      <td>707</td>\n",
       "      <td>119950</td>\n",
       "      <td>NaN</td>\n",
       "    </tr>\n",
       "    <tr>\n",
       "      <th>top</th>\n",
       "      <td>Pinot Noir</td>\n",
       "      <td>Ripe plum game truffle leather and menthol are...</td>\n",
       "      <td>NaN</td>\n",
       "    </tr>\n",
       "    <tr>\n",
       "      <th>freq</th>\n",
       "      <td>13272</td>\n",
       "      <td>3</td>\n",
       "      <td>NaN</td>\n",
       "    </tr>\n",
       "    <tr>\n",
       "      <th>mean</th>\n",
       "      <td>NaN</td>\n",
       "      <td>NaN</td>\n",
       "      <td>236.469836</td>\n",
       "    </tr>\n",
       "    <tr>\n",
       "      <th>std</th>\n",
       "      <td>NaN</td>\n",
       "      <td>NaN</td>\n",
       "      <td>65.203061</td>\n",
       "    </tr>\n",
       "    <tr>\n",
       "      <th>min</th>\n",
       "      <td>NaN</td>\n",
       "      <td>NaN</td>\n",
       "      <td>19.000000</td>\n",
       "    </tr>\n",
       "    <tr>\n",
       "      <th>25%</th>\n",
       "      <td>NaN</td>\n",
       "      <td>NaN</td>\n",
       "      <td>192.000000</td>\n",
       "    </tr>\n",
       "    <tr>\n",
       "      <th>50%</th>\n",
       "      <td>NaN</td>\n",
       "      <td>NaN</td>\n",
       "      <td>231.000000</td>\n",
       "    </tr>\n",
       "    <tr>\n",
       "      <th>75%</th>\n",
       "      <td>NaN</td>\n",
       "      <td>NaN</td>\n",
       "      <td>275.000000</td>\n",
       "    </tr>\n",
       "    <tr>\n",
       "      <th>max</th>\n",
       "      <td>NaN</td>\n",
       "      <td>NaN</td>\n",
       "      <td>809.000000</td>\n",
       "    </tr>\n",
       "  </tbody>\n",
       "</table>\n",
       "</div>"
      ],
      "text/plain": [
       "           variety                                        description  \\\n",
       "count       129970                                             129971   \n",
       "unique         707                                             119950   \n",
       "top     Pinot Noir  Ripe plum game truffle leather and menthol are...   \n",
       "freq         13272                                                  3   \n",
       "mean           NaN                                                NaN   \n",
       "std            NaN                                                NaN   \n",
       "min            NaN                                                NaN   \n",
       "25%            NaN                                                NaN   \n",
       "50%            NaN                                                NaN   \n",
       "75%            NaN                                                NaN   \n",
       "max            NaN                                                NaN   \n",
       "\n",
       "               length  \n",
       "count   129971.000000  \n",
       "unique            NaN  \n",
       "top               NaN  \n",
       "freq              NaN  \n",
       "mean       236.469836  \n",
       "std         65.203061  \n",
       "min         19.000000  \n",
       "25%        192.000000  \n",
       "50%        231.000000  \n",
       "75%        275.000000  \n",
       "max        809.000000  "
      ]
     },
     "execution_count": 13,
     "metadata": {},
     "output_type": "execute_result"
    }
   ],
   "source": [
    "sparktoPD.drop(sparktoPD.columns[[0]], axis=1, inplace=True) # ditch that unnamed row numbers column\n",
    "sparktoPD.describe(include='all')"
   ]
  },
  {
   "cell_type": "code",
   "execution_count": 14,
   "metadata": {},
   "outputs": [
    {
     "data": {
      "text/plain": [
       "Pinot Noir                    13272\n",
       "Chardonnay                    11753\n",
       "Cabernet Sauvignon             9472\n",
       "Red Blend                      8946\n",
       "Bordeaux-style Red Blend       6915\n",
       "Riesling                       5189\n",
       "Sauvignon Blanc                4967\n",
       "Syrah                          4142\n",
       "Rosé                           3564\n",
       "Merlot                         3102\n",
       "Nebbiolo                       2804\n",
       "Zinfandel                      2714\n",
       "Sangiovese                     2707\n",
       "Malbec                         2652\n",
       "Portuguese Red                 2466\n",
       "White Blend                    2360\n",
       "Sparkling Blend                2153\n",
       "Tempranillo                    1810\n",
       "Rhône-style Red Blend          1471\n",
       "Pinot Gris                     1455\n",
       "Champagne Blend                1396\n",
       "Cabernet Franc                 1353\n",
       "Grüner Veltliner               1345\n",
       "Portuguese White               1159\n",
       "Bordeaux-style White Blend     1066\n",
       "Pinot Grigio                   1052\n",
       "Gamay                          1025\n",
       "Gewürztraminer                 1012\n",
       "Viognier                        996\n",
       "Shiraz                          836\n",
       "                              ...  \n",
       "Karasakiz                         1\n",
       "Merlot-Grenache                   1\n",
       "Vespaiolo                         1\n",
       "Roussanne-Grenache Blanc          1\n",
       "Ojaleshi                          1\n",
       "Moschofilero-Chardonnay           1\n",
       "Kangoun                           1\n",
       "Malbec-Carménère                  1\n",
       "Viognier-Valdiguié                1\n",
       "Silvaner-Traminer                 1\n",
       "Cercial                           1\n",
       "Moscato di Noto                   1\n",
       "Barbera-Nebbiolo                  1\n",
       "Siegerrebe                        1\n",
       "Pinot Blanc-Pinot Noir            1\n",
       "Xinisteri                         1\n",
       "Tsolikouri                        1\n",
       "Blatina                           1\n",
       "Tsapournakos                      1\n",
       "Centesimino                       1\n",
       "Mavrotragano                      1\n",
       "Garnacha-Cabernet                 1\n",
       "Sauvignonasse                     1\n",
       "País                              1\n",
       "Macabeo-Moscatel                  1\n",
       "Ondenc                            1\n",
       "Pinot Blanc-Viognier              1\n",
       "Merseguera-Sauvignon Blanc        1\n",
       "Gamza                             1\n",
       "Chardonnay-Riesling               1\n",
       "Name: variety, Length: 707, dtype: int64"
      ]
     },
     "execution_count": 14,
     "metadata": {},
     "output_type": "execute_result"
    }
   ],
   "source": [
    "varieties =  sparktoPD['variety'].value_counts()\n",
    "varieties"
   ]
  },
  {
   "cell_type": "code",
   "execution_count": 15,
   "metadata": {},
   "outputs": [
    {
     "data": {
      "text/plain": [
       "count          93914\n",
       "unique            20\n",
       "top       Pinot Noir\n",
       "freq           13272\n",
       "Name: variety, dtype: object"
      ]
     },
     "execution_count": 15,
     "metadata": {},
     "output_type": "execute_result"
    }
   ],
   "source": [
    "top_wines_df =  sparktoPD.loc[ sparktoPD['variety'].isin(varieties.axes[0][:20])] # first column[0],  rows :20  \n",
    "top_wines_df['variety'].describe()"
   ]
  },
  {
   "cell_type": "code",
   "execution_count": 16,
   "metadata": {},
   "outputs": [
    {
     "data": {
      "text/plain": [
       "DataFrame[_c0: string, variety: string, description: string, length: int]"
      ]
     },
     "execution_count": 16,
     "metadata": {},
     "output_type": "execute_result"
    }
   ],
   "source": [
    "data "
   ]
  },
  {
   "cell_type": "code",
   "execution_count": 17,
   "metadata": {},
   "outputs": [
    {
     "data": {
      "text/plain": [
       "DataFrame[variety: string, description: string, length: double]"
      ]
     },
     "execution_count": 17,
     "metadata": {},
     "output_type": "execute_result"
    }
   ],
   "source": [
    "#convert pd to spark\n",
    "spark_df = spark.createDataFrame(top_wines_df)\n",
    "spark_df"
   ]
  },
  {
   "cell_type": "code",
   "execution_count": 18,
   "metadata": {},
   "outputs": [
    {
     "data": {
      "text/plain": [
       "708"
      ]
     },
     "execution_count": 18,
     "metadata": {},
     "output_type": "execute_result"
    }
   ],
   "source": [
    "len(sparktoPD['variety'].unique())"
   ]
  },
  {
   "cell_type": "markdown",
   "metadata": {},
   "source": [
    "# Feature Transformations"
   ]
  },
  {
   "cell_type": "code",
   "execution_count": 19,
   "metadata": {
    "collapsed": true
   },
   "outputs": [],
   "source": [
    "from pyspark.ml.feature import Tokenizer, StopWordsRemover, HashingTF, IDF, StringIndexer\n",
    "\n",
    "# Create all the features to the data set\n",
    "wine_variety_to_num = StringIndexer(inputCol= 'variety',outputCol='label')\n",
    "tokenizer = Tokenizer(inputCol=\"description\", outputCol=\"token_text\")\n",
    "stopremove = StopWordsRemover(inputCol='token_text',outputCol='stop_tokens')\n",
    "# hashingTF = HashingTF(inputCol=\"stop_tokens\", outputCol='hash_token', numFeatures=1000)\n",
    "hashingTF = HashingTF(inputCol=\"stop_tokens\", outputCol='hash_token', numFeatures=10000)\n",
    "idf = IDF(inputCol='hash_token', outputCol='idf_token')"
   ]
  },
  {
   "cell_type": "code",
   "execution_count": 20,
   "metadata": {
    "collapsed": true
   },
   "outputs": [],
   "source": [
    "from pyspark.ml.feature import VectorAssembler\n",
    "from pyspark.ml.linalg import Vector\n",
    "\n",
    "# Create feature vectors\n",
    "# See https://spark.apache.org/docs/latest/ml-features.html#vectorassembler\n",
    "# This just creates a new, single vector of features that is the concatenation\n",
    "# of tf-idf data and the length of the wine varietal\n",
    "clean_up = VectorAssembler(inputCols=['idf_token', 'length'], outputCol='features')"
   ]
  },
  {
   "cell_type": "code",
   "execution_count": 21,
   "metadata": {
    "collapsed": true
   },
   "outputs": [],
   "source": [
    "# Create a and run a data processing Pipeline\n",
    "# See https://spark.apache.org/docs/latest/ml-pipeline.html#pipeline\n",
    "from pyspark.ml import Pipeline\n",
    "data_prep_pipeline = Pipeline(stages=[wine_variety_to_num, tokenizer, stopremove, hashingTF, idf, clean_up])"
   ]
  },
  {
   "cell_type": "code",
   "execution_count": 22,
   "metadata": {
    "collapsed": true
   },
   "outputs": [],
   "source": [
    "# Fit and transform the pipeline\n",
    "cleaner = data_prep_pipeline.fit(spark_df)\n",
    "# Running the transform method here _actually_ runs the pipeline on our \n",
    "# DataFrame and returns the transformed data\n",
    "cleaned = cleaner.transform(spark_df)"
   ]
  },
  {
   "cell_type": "code",
   "execution_count": 23,
   "metadata": {},
   "outputs": [
    {
     "name": "stdout",
     "output_type": "stream",
     "text": [
      "+-----+-----------------------------------------------------------------------------------------------------------------------------------------------------------------------------------------------------------------------------------------------------------------------------------------------------------------------------------------------------------------------------------------------------------------------------------------------------------------------------------------------------------------------------------------------------------------------------------------------------------------------------------------------------------------------------------------------------------------------------------------------------------------------------------------------------------------+\n",
      "|label|features                                                                                                                                                                                                                                                                                                                                                                                                                                                                                                                                                                                                                                                                                                                                                                                                         |\n",
      "+-----+-----------------------------------------------------------------------------------------------------------------------------------------------------------------------------------------------------------------------------------------------------------------------------------------------------------------------------------------------------------------------------------------------------------------------------------------------------------------------------------------------------------------------------------------------------------------------------------------------------------------------------------------------------------------------------------------------------------------------------------------------------------------------------------------------------------------+\n",
      "|15.0 |(10001,[200,324,1368,1783,1877,1933,2634,2926,3401,3690,4548,4593,5231,7135,8297,8534,8942,9804,9818,10000],[1.3961710110374566,2.969823680207188,3.2302806549348695,3.934256311632395,5.787184916711575,5.451208834900838,1.2551456162792594,4.231968558444113,5.433988237149167,5.52136196898166,1.167399828372402,3.8507440634317054,2.43862188419449,5.243569470122593,1.284909153886116,6.098287263371454,2.685935889705517,7.712475778564152,3.656146307343525,166.0])                                                                                                                                                                                                                                                                                                                                     |\n",
      "|14.0 |(10001,[200,808,941,1469,1800,2390,3372,3389,3921,4291,4724,6201,7203,7697,7779,7878,7891,8057,8414,8894,9313,9783,10000],[1.3961710110374566,4.387097233459348,4.320847847918148,2.1796511020515905,3.144167185880219,2.694880633532837,5.38171980860341,1.6382798338587055,2.5799038295482495,1.9934138068374376,2.2124817292224472,5.957083953506972,2.5797633307773826,0.7321119503208862,3.687549348307451,4.99180711350273,1.3672572159451015,3.9822030645616686,4.9731730339578375,2.575697429627542,3.1701946811249946,7.201650154798162,222.0])                                                                                                                                                                                                                                                         |\n",
      "|19.0 |(10001,[22,200,409,571,625,1069,1320,1783,2273,2711,5370,5927,5977,7697,7756,8689,10000],[4.703733268274147,1.3961710110374566,1.5050694928228898,2.967336632293114,2.7367277434683372,4.953370406661658,3.2572982622546554,3.934256311632395,5.412274476925383,4.935432705974991,6.786706302735453,3.5830398965307815,2.495213536772823,0.7321119503208862,8.405622959124097,3.3490738937279763,181.0])                                                                                                                                                                                                                                                                                                                                                                                                         |\n",
      "|5.0  |(10001,[1,52,996,1069,1529,2146,2245,2634,3508,4400,5218,5875,5927,5948,6446,6632,8297,8309,8813,8941,9159,10000],[3.284781764373538,5.202102522339091,5.017205304108341,4.953370406661658,4.611740196000176,5.648027021470457,4.168071738754056,1.2551456162792594,7.736573330143212,4.66795334084073,4.429954688535595,6.896268505246979,3.5830398965307815,1.999293179396036,3.0585154284066287,4.720321326358045,1.284909153886116,2.893346950838924,2.7106089742878425,1.3353439887507614,3.5395547845910427,194.0])                                                                                                                                                                                                                                                                                        |\n",
      "|0.0  |(10001,[398,524,1054,1310,1437,1564,3051,3157,3330,3908,4831,5313,5388,6168,6681,6795,7412,7590,7697,7876,8037,8142,8216,9744,9810,10000],[5.1222086131183255,3.7843919649858218,5.606600979816161,3.9919592395070334,3.9867823513275,6.0340449946431,3.6939500528994027,5.743035132098645,3.09406036582604,7.119412056561189,7.461161350283247,6.805754497706148,3.4859896780065833,2.6284130159130794,5.720045613873946,5.609503739474122,7.007494140357204,4.489797667746213,0.7321119503208862,5.087117293307055,3.1852671340457728,5.952977171554319,2.9430025412847844,3.1321351193006493,5.190563932782598,241.0])                                                                                                                                                                                        |\n",
      "|19.0 |(10001,[200,295,1097,1572,3113,4260,4621,4659,4724,4798,5231,5735,5977,6256,7478,10000],[1.3961710110374566,3.061012875498801,3.894240303236174,1.4822287041557027,1.985628030976955,3.2950705090360817,2.7970236882070387,3.1035033066263225,2.2124817292224472,2.6724358010522717,2.43862188419449,2.2910983192588885,2.495213536772823,2.066776514988976,2.2160884982540217,157.0])                                                                                                                                                                                                                                                                                                                                                                                                                           |\n",
      "|2.0  |(10001,[173,254,264,295,992,1304,1688,1960,2129,2144,2751,3333,3593,3931,4099,4679,4893,6284,6312,6517,6964,7697,7938,8714,10000],[2.78470462897108,6.646124352114264,8.405622959124097,3.061012875498801,5.431552182351286,4.038589109036357,4.146302171569816,5.111551318644338,3.4026358858660988,5.743035132098645,3.385508921073298,6.552305596896609,5.209869551676751,3.7571196484296325,2.293416794319987,2.4781891256018325,5.494308027382689,4.011761866803213,3.7208497225370394,2.876382853943389,3.961292441114061,0.7321119503208862,2.276054157546459,2.7082099327533764,237.0])                                                                                                                                                                                                                  |\n",
      "|2.0  |(10001,[1,356,1009,1607,2100,5546,6027,6149,6212,6512,6875,7203,7394,7697,8216,8563,8858,8894,9607,9903,10000],[3.284781764373538,5.928684478985274,4.750645056685842,4.792134350976772,1.9989787387048201,4.812887365563063,5.405140082811509,1.6862647986978099,2.041856212191684,5.424279423022206,5.200170154588037,2.5797633307773826,2.3944725048834767,0.7321119503208862,2.9430025412847844,6.705213268484271,1.5315722068933515,2.575697429627542,4.363407462336943,5.237539301096002,167.0])                                                                                                                                                                                                                                                                                                           |\n",
      "|1.0  |(10001,[409,571,625,628,957,1000,2580,2648,2665,2860,3164,3389,3468,3613,3677,3848,3926,4659,4761,5231,5771,5852,5927,6168,7504,7552,7697,8144,8306,8461,8591,8845,9700,10000],[0.7525347464114449,2.967336632293114,2.7367277434683372,4.3692775001567385,3.178085774637108,5.080244414019293,5.859158416336664,6.7496650310551045,2.762703229871598,5.707142209038038,6.9615090271153806,1.6382798338587055,4.209495702592054,4.842144771551434,4.517697505275012,6.687971462049765,8.616932052791304,3.1035033066263225,4.382825548194045,2.43862188419449,8.192048858826038,7.260490654821095,3.5830398965307815,2.6284130159130794,6.02079976789308,4.508955341779146,0.7321119503208862,4.872284039126474,7.216038892250261,4.970100834920868,6.112607317146202,5.166011235776718,5.504724788240945,303.0])|\n",
      "|5.0  |(10001,[3,147,760,2836,3737,3744,3957,4032,4555,4717,5231,5948,6256,6426,6879,8297,8813,9348,9385,10000],[6.4803320972715195,4.439833529540292,3.652032768017733,5.733117695441298,4.88347296704428,6.314346959797259,6.029610397575235,4.051971303877055,7.984409494047794,3.6896783676341,2.43862188419449,1.999293179396036,2.066776514988976,3.727025304581189,3.96017449801272,1.284909153886116,2.7106089742878425,3.26173408876849,4.5524404537188845,170.0])                                                                                                                                                                                                                                                                                                                                             |\n",
      "|13.0 |(10001,[200,295,379,409,466,625,2031,2053,2100,2202,2634,3317,3563,4097,4436,4589,5748,6031,6356,7090,7877,7938,8297,8311,8314,8813,8941,9454,9755,10000],[1.3961710110374566,3.061012875498801,3.193538052221363,0.7525347464114449,4.799866348260099,2.7367277434683372,3.691384852689858,4.851636368233005,1.9989787387048201,6.906850614577516,1.2551456162792594,5.990559882703361,5.4636933915630825,5.99910694328182,3.124112710892442,3.6256994659699013,6.844975210859429,5.181049113141259,4.266274681785068,7.894797335358107,5.013995028478093,4.552108315092918,1.284909153886116,3.9277451654603954,5.851723437849146,2.7106089742878425,1.3353439887507614,7.461161350283247,4.771803282193189,278.0])                                                                                            |\n",
      "|13.0 |(10001,[295,328,527,919,2013,2100,2203,2231,2634,3115,3617,4557,4724,4852,5560,6168,6659,7203,7707,7980,8157,8989,9237,9292,10000],[3.061012875498801,8.192048858826038,5.829744531130371,4.956391556995834,5.787184916711575,3.9979574774096402,2.8580302789140237,4.632314825393371,1.2551456162792594,3.5369902109194524,4.637800302670041,3.553220740578656,2.2124817292224472,4.951863247371087,4.680503419995017,2.6284130159130794,5.600820616900661,2.5797633307773826,8.96523874705952,3.5719900603441963,3.328367977686446,5.217697380296998,5.936716650682539,5.412274476925383,241.0])                                                                                                                                                                                                               |\n",
      "|3.0  |(10001,[327,379,408,571,697,709,1213,2276,2634,2817,3337,3389,4291,4593,4680,5948,6149,6446,6447,6903,6919,8297,9897,10000],[5.476335784978259,3.193538052221363,2.998451187663979,2.967336632293114,2.4169002626937113,3.952938173644203,2.4837892420573993,5.5021104076668745,1.2551456162792594,3.902116426912506,3.78251930526253,1.6382798338587055,1.9934138068374376,3.8507440634317054,2.520180522140681,3.998586358792072,1.6862647986978099,3.0585154284066287,2.5765372952984107,5.961207670690834,5.367926486471075,1.284909153886116,4.2400657686767325,205.0])                                                                                                                                                                                                                                     |\n",
      "|0.0  |(10001,[324,571,768,1469,1818,1928,2100,2807,3334,3784,4026,4435,4953,5268,6621,7198,7697,7935,8259,8371,8461,8470,8502,8714,10000],[2.969823680207188,2.967336632293114,4.805054427341877,2.1796511020515905,3.781584288831623,5.811790727513775,1.9989787387048201,7.068118762173639,4.336189287281486,5.961207670690834,6.182287237784192,3.1901697370792443,5.952977171554319,5.580848483713746,6.85502554671293,5.6045497635793335,0.7321119503208862,5.595073474645093,3.162113829071056,6.320246681924447,4.970100834920868,5.227569128776152,8.192048858826038,2.7082099327533764,226.0])                                                                                                                                                                                                                |\n",
      "|15.0 |(10001,[200,613,1368,2634,4077,4548,5196,5514,6166,7394,8140,8259,8297,8689,8862,8942,9859,10000],[1.3961710110374566,3.93534563635885,3.2302806549348695,1.2551456162792594,5.452526584378068,1.167399828372402,2.644320583943914,3.851746067523557,3.0268234210413536,2.3944725048834767,5.578027607372104,3.162113829071056,1.284909153886116,3.3490738937279763,5.278444799436605,2.685935889705517,3.2545358295587454,147.0])                                                                                                                                                                                                                                                                                                                                                                               |\n",
      "|9.0  |(10001,[200,354,409,1614,1880,2439,2634,2918,3183,3660,6027,6149,6151,6167,6446,6512,7327,7338,7394,7697,8451,8911,9190,9547,10000],[1.3961710110374566,9.658385927619465,0.7525347464114449,6.875434418344137,3.8085809555865486,3.263959402621438,1.2551456162792594,5.143870109899505,3.9971630673820604,4.558519499795267,5.405140082811509,1.6862647986978099,7.951881180702792,4.42906143255838,3.0585154284066287,5.424279423022206,2.0776861753949025,9.370703855167685,2.3944725048834767,0.7321119503208862,5.940757060219544,6.235209639238535,5.274278126741759,2.822305685344219,247.0])                                                                                                                                                                                                            |\n",
      "|0.0  |(10001,[12,65,1742,2014,2100,2634,2957,3113,3921,4680,4952,4987,4997,5305,5416,5735,5737,5891,7198,7394,7499,7702,8737,8751,9006,9142,10000],[6.72275757813518,3.443777829197274,4.729925241712226,4.406985480859181,1.9989787387048201,1.2551456162792594,3.6357457630430337,1.985628030976955,2.5799038295482495,2.520180522140681,4.327278738248438,3.2913429061535187,6.213703434017571,6.8251725835632495,5.321095186786975,2.2910983192588885,4.098987170416827,5.064950997849795,2.8022748817896668,2.3944725048834767,4.550422289562648,2.3228606000086636,5.54206245867859,3.165641169589024,5.528566977203705,3.7296837022477987,255.0])                                                                                                                                                               |\n",
      "|15.0 |(10001,[55,200,613,1213,1368,2100,2634,3092,3337,4548,5196,5231,5356,5428,5514,5948,5977,5993,7327,7394,8297,8835,10000],[3.861821719512298,1.3961710110374566,3.93534563635885,2.4837892420573993,3.2302806549348695,1.9989787387048201,1.2551456162792594,3.6434490243263413,3.78251930526253,1.167399828372402,2.644320583943914,2.43862188419449,3.2359509819949572,7.629683021176212,3.851746067523557,1.999293179396036,2.495213536772823,3.6969511269631794,2.0776861753949025,2.3944725048834767,1.284909153886116,3.9261239816413958,180.0])                                                                                                                                                                                                                                                            |\n",
      "|3.0  |(10001,[65,1213,1368,1469,2100,2634,2817,3389,3698,4726,5635,6149,7154,7394,7428,7486,7497,7891,8297,9632,10000],[3.443777829197274,2.4837892420573993,3.2302806549348695,4.359302204103181,1.9989787387048201,1.2551456162792594,3.902116426912506,1.6382798338587055,5.55574256258267,3.748493034205295,3.891107141404137,1.6862647986978099,3.0403147237597823,2.3944725048834767,4.254958076668812,3.4622813007618336,3.882799720834281,1.3672572159451015,1.284909153886116,4.618191831281665,155.0])                                                                                                                                                                                                                                                                                                       |\n",
      "|3.0  |(10001,[124,372,694,760,4291,4548,4742,4929,5196,5621,6408,6517,6970,7697,8173,8340,8993,9276,9640,10000],[5.09403773615163,7.291262313487849,5.233539295762656,3.652032768017733,1.9934138068374376,1.167399828372402,5.746362922191319,4.264758381267104,2.644320583943914,5.24963622280483,4.074889618837767,2.876382853943389,5.733117695441298,0.7321119503208862,5.837017290459451,3.215580403580385,4.156447676246083,4.243768105375268,5.79765621657887,172.0])                                                                                                                                                                                                                                                                                                                                          |\n",
      "+-----+-----------------------------------------------------------------------------------------------------------------------------------------------------------------------------------------------------------------------------------------------------------------------------------------------------------------------------------------------------------------------------------------------------------------------------------------------------------------------------------------------------------------------------------------------------------------------------------------------------------------------------------------------------------------------------------------------------------------------------------------------------------------------------------------------------------------+\n",
      "only showing top 20 rows\n",
      "\n"
     ]
    }
   ],
   "source": [
    "# Show label of wine variety and resulting features\n",
    "cleaned.select(['label', 'features']).show(truncate=False)"
   ]
  },
  {
   "cell_type": "code",
   "execution_count": 24,
   "metadata": {
    "collapsed": true
   },
   "outputs": [],
   "source": [
    "# Break data down into a training set and a testing set\n",
    "(training, testing) = cleaned.randomSplit([0.7, 0.3])"
   ]
  },
  {
   "cell_type": "code",
   "execution_count": 25,
   "metadata": {},
   "outputs": [
    {
     "data": {
      "text/plain": [
       "65706"
      ]
     },
     "execution_count": 25,
     "metadata": {},
     "output_type": "execute_result"
    }
   ],
   "source": [
    "training.count()"
   ]
  },
  {
   "cell_type": "code",
   "execution_count": 26,
   "metadata": {
    "collapsed": true
   },
   "outputs": [],
   "source": [
    "from pyspark.ml.classification import NaiveBayes, NaiveBayesModel\n",
    "\n",
    "# Create a Naive Bayes model and fit training data\n",
    "nb = NaiveBayes(smoothing=1.0, modelType='multinomial')\n",
    "wine_predictor = nb.fit(training)\n",
    " "
   ]
  },
  {
   "cell_type": "code",
   "execution_count": 114,
   "metadata": {
    "collapsed": true
   },
   "outputs": [],
   "source": [
    "from pyspark.ml.classification import NaiveBayesModel"
   ]
  },
  {
   "cell_type": "code",
   "execution_count": 27,
   "metadata": {},
   "outputs": [
    {
     "name": "stdout",
     "output_type": "stream",
     "text": [
      "+--------------------+--------------------+------+-----+--------------------+--------------------+--------------------+--------------------+--------------------+--------------------+--------------------+----------+\n",
      "|             variety|         description|length|label|          token_text|         stop_tokens|          hash_token|           idf_token|            features|       rawPrediction|         probability|prediction|\n",
      "+--------------------+--------------------+------+-----+--------------------+--------------------+--------------------+--------------------+--------------------+--------------------+--------------------+----------+\n",
      "|Bordeaux-style Re...|86-88 Barrel samp...| 194.0|  4.0|[86-88, barrel, s...|[86-88, barrel, s...|(10000,[409,697,1...|(10000,[409,697,1...|(10001,[409,697,1...|[-1018.3026185241...|[3.51174243884331...|       4.0|\n",
      "|Bordeaux-style Re...|87-89 Barrel samp...| 163.0|  4.0|[87-89, barrel, s...|[87-89, barrel, s...|(10000,[161,173,1...|(10000,[161,173,1...|(10001,[161,173,1...|[-582.92773152215...|[5.43573130531407...|       4.0|\n",
      "|Bordeaux-style Re...|87–89 Barrel samp...| 152.0|  4.0|[87–89, barrel, s...|[87–89, barrel, s...|(10000,[200,597,1...|(10000,[200,597,1...|(10001,[200,597,1...|[-524.85572169286...|[8.93208282096272...|       4.0|\n",
      "|Bordeaux-style Re...|87—89 Barrel samp...| 163.0|  4.0|[87—89, barrel, s...|[87—89, barrel, s...|(10000,[157,200,5...|(10000,[157,200,5...|(10001,[157,200,5...|[-850.09143572209...|[4.0045857265319E...|       4.0|\n",
      "|Bordeaux-style Re...|88-90 Acidity and...| 153.0|  4.0|[88-90, acidity, ...|[88-90, acidity, ...|(10000,[200,3334,...|(10000,[200,3334,...|(10001,[200,3334,...|[-529.31115826440...|[8.38531879303429...|       4.0|\n",
      "+--------------------+--------------------+------+-----+--------------------+--------------------+--------------------+--------------------+--------------------+--------------------+--------------------+----------+\n",
      "only showing top 5 rows\n",
      "\n"
     ]
    }
   ],
   "source": [
    "# Tranform the model with the testing data\n",
    "test_results = wine_predictor.transform(testing)\n",
    "test_results.show(5)"
   ]
  },
  {
   "cell_type": "code",
   "execution_count": 119,
   "metadata": {},
   "outputs": [
    {
     "name": "stdout",
     "output_type": "stream",
     "text": [
      "Accuracy of model at predicting wine variety was: 0.5942089730643539\n"
     ]
    }
   ],
   "source": [
    "# Use the Class Evaluator for a cleaner description\n",
    "from pyspark.ml.evaluation import MulticlassClassificationEvaluator\n",
    "\n",
    "acc_eval = MulticlassClassificationEvaluator()\n",
    "acc = acc_eval.evaluate(test_results)\n",
    "print(\"Accuracy of model at predicting wine variety was: %s\" % (acc))"
   ]
  },
  {
   "cell_type": "markdown",
   "metadata": {},
   "source": [
    "# Saving a Trained Model\n",
    "We can save our trained models using the HDF5 binary format with the extension .h5"
   ]
  },
  {
   "cell_type": "code",
   "execution_count": 42,
   "metadata": {
    "collapsed": true
   },
   "outputs": [],
   "source": [
    "!open NLP_NaiveBayes_trained.h5/"
   ]
  },
  {
   "cell_type": "code",
   "execution_count": 52,
   "metadata": {
    "collapsed": true
   },
   "outputs": [],
   "source": [
    "!rm -r NLP_NaiveBayes_trained.h5/"
   ]
  },
  {
   "cell_type": "code",
   "execution_count": 55,
   "metadata": {
    "collapsed": true
   },
   "outputs": [],
   "source": [
    "!open NLP_NaiveBayes_trained/"
   ]
  },
  {
   "cell_type": "code",
   "execution_count": 95,
   "metadata": {
    "collapsed": true
   },
   "outputs": [],
   "source": [
    "# Save the model\n",
    "wine_predictor.save(\"my_model\")"
   ]
  },
  {
   "cell_type": "code",
   "execution_count": 99,
   "metadata": {},
   "outputs": [
    {
     "name": "stdout",
     "output_type": "stream",
     "text": [
      "\u001b[34mdata\u001b[m\u001b[m     \u001b[34mmetadata\u001b[m\u001b[m\r\n"
     ]
    }
   ],
   "source": [
    "!ls my_model/"
   ]
  },
  {
   "cell_type": "code",
   "execution_count": 116,
   "metadata": {
    "collapsed": true
   },
   "outputs": [],
   "source": [
    "myModel = NaiveBayesModel.load(\"my_model\")"
   ]
  },
  {
   "cell_type": "code",
   "execution_count": 118,
   "metadata": {},
   "outputs": [
    {
     "name": "stdout",
     "output_type": "stream",
     "text": [
      "+--------------------+--------------------+------+-----+--------------------+--------------------+--------------------+--------------------+--------------------+--------------------+--------------------+----------+\n",
      "|             variety|         description|length|label|          token_text|         stop_tokens|          hash_token|           idf_token|            features|       rawPrediction|         probability|prediction|\n",
      "+--------------------+--------------------+------+-----+--------------------+--------------------+--------------------+--------------------+--------------------+--------------------+--------------------+----------+\n",
      "|Bordeaux-style Re...|86-88 Barrel samp...| 194.0|  4.0|[86-88, barrel, s...|[86-88, barrel, s...|(10000,[409,697,1...|(10000,[409,697,1...|(10001,[409,697,1...|[-1018.3026185241...|[3.51174243884331...|       4.0|\n",
      "|Bordeaux-style Re...|87-89 Barrel samp...| 163.0|  4.0|[87-89, barrel, s...|[87-89, barrel, s...|(10000,[161,173,1...|(10000,[161,173,1...|(10001,[161,173,1...|[-582.92773152215...|[5.43573130531407...|       4.0|\n",
      "|Bordeaux-style Re...|87–89 Barrel samp...| 152.0|  4.0|[87–89, barrel, s...|[87–89, barrel, s...|(10000,[200,597,1...|(10000,[200,597,1...|(10001,[200,597,1...|[-524.85572169286...|[8.93208282096272...|       4.0|\n",
      "|Bordeaux-style Re...|87—89 Barrel samp...| 163.0|  4.0|[87—89, barrel, s...|[87—89, barrel, s...|(10000,[157,200,5...|(10000,[157,200,5...|(10001,[157,200,5...|[-850.09143572209...|[4.0045857265319E...|       4.0|\n",
      "|Bordeaux-style Re...|88-90 Acidity and...| 153.0|  4.0|[88-90, acidity, ...|[88-90, acidity, ...|(10000,[200,3334,...|(10000,[200,3334,...|(10001,[200,3334,...|[-529.31115826440...|[8.38531879303429...|       4.0|\n",
      "+--------------------+--------------------+------+-----+--------------------+--------------------+--------------------+--------------------+--------------------+--------------------+--------------------+----------+\n",
      "only showing top 5 rows\n",
      "\n"
     ]
    }
   ],
   "source": [
    "more_test_results = myModel.transform(testing)\n",
    "more_test_results.show(5)"
   ]
  },
  {
   "cell_type": "code",
   "execution_count": 39,
   "metadata": {
    "collapsed": true
   },
   "outputs": [],
   "source": [
    "import pickle"
   ]
  },
  {
   "cell_type": "code",
   "execution_count": 40,
   "metadata": {},
   "outputs": [
    {
     "ename": "IsADirectoryError",
     "evalue": "[Errno 21] Is a directory: 'NLP_NaiveBayes_trained.h5'",
     "output_type": "error",
     "traceback": [
      "\u001b[0;31m---------------------------------------------------------------------------\u001b[0m",
      "\u001b[0;31mIsADirectoryError\u001b[0m                         Traceback (most recent call last)",
      "\u001b[0;32m<ipython-input-40-cbe89b67e569>\u001b[0m in \u001b[0;36m<module>\u001b[0;34m()\u001b[0m\n\u001b[0;32m----> 1\u001b[0;31m \u001b[0mloaded_model\u001b[0m \u001b[0;34m=\u001b[0m \u001b[0mpickle\u001b[0m\u001b[0;34m.\u001b[0m\u001b[0mload\u001b[0m\u001b[0;34m(\u001b[0m\u001b[0mopen\u001b[0m\u001b[0;34m(\u001b[0m\u001b[0;34m\"NLP_NaiveBayes_trained.h5\"\u001b[0m\u001b[0;34m,\u001b[0m \u001b[0;34m'rb'\u001b[0m\u001b[0;34m)\u001b[0m\u001b[0;34m)\u001b[0m\u001b[0;34m\u001b[0m\u001b[0m\n\u001b[0m",
      "\u001b[0;31mIsADirectoryError\u001b[0m: [Errno 21] Is a directory: 'NLP_NaiveBayes_trained.h5'"
     ]
    }
   ],
   "source": [
    "loaded_model = pickle.load(open(\"NLP_NaiveBayes_trained.h5\", 'rb'))"
   ]
  },
  {
   "cell_type": "code",
   "execution_count": 28,
   "metadata": {},
   "outputs": [
    {
     "data": {
      "text/plain": [
       "pyspark.ml.classification.NaiveBayes"
      ]
     },
     "execution_count": 28,
     "metadata": {},
     "output_type": "execute_result"
    }
   ],
   "source": [
    "type(nb)"
   ]
  },
  {
   "cell_type": "code",
   "execution_count": 44,
   "metadata": {},
   "outputs": [
    {
     "data": {
      "text/plain": [
       "{'_conf': <pyspark.sql.conf.RuntimeConfig at 0x10f6eec88>,\n",
       " '_jsc': JavaObject id=o11,\n",
       " '_jsparkSession': JavaObject id=o24,\n",
       " '_jvm': <py4j.java_gateway.JVMView at 0x10a84f2e8>,\n",
       " '_jwrapped': JavaObject id=o25,\n",
       " '_sc': <SparkContext master=local[*] appName=PythonNaiveBayesExample>,\n",
       " '_wrapped': <pyspark.sql.context.SQLContext at 0x10f6eee80>}"
      ]
     },
     "execution_count": 44,
     "metadata": {},
     "output_type": "execute_result"
    }
   ],
   "source": [
    "vars(spark)"
   ]
  },
  {
   "cell_type": "code",
   "execution_count": 46,
   "metadata": {
    "collapsed": true
   },
   "outputs": [],
   "source": [
    "sc = spark._sc"
   ]
  },
  {
   "cell_type": "code",
   "execution_count": null,
   "metadata": {
    "collapsed": true
   },
   "outputs": [],
   "source": [
    "# spark.stop()"
   ]
  },
  {
   "cell_type": "code",
   "execution_count": 48,
   "metadata": {},
   "outputs": [
    {
     "ename": "TypeError",
     "evalue": "save() takes 2 positional arguments but 3 were given",
     "output_type": "error",
     "traceback": [
      "\u001b[0;31m---------------------------------------------------------------------------\u001b[0m",
      "\u001b[0;31mTypeError\u001b[0m                                 Traceback (most recent call last)",
      "\u001b[0;32m<ipython-input-48-c95fc35b01e4>\u001b[0m in \u001b[0;36m<module>\u001b[0;34m()\u001b[0m\n\u001b[1;32m      1\u001b[0m \u001b[0;31m# Save and load model\u001b[0m\u001b[0;34m\u001b[0m\u001b[0;34m\u001b[0m\u001b[0m\n\u001b[0;32m----> 2\u001b[0;31m \u001b[0mnb\u001b[0m\u001b[0;34m.\u001b[0m\u001b[0msave\u001b[0m\u001b[0;34m(\u001b[0m\u001b[0msc\u001b[0m\u001b[0;34m,\u001b[0m \u001b[0;34m\"myNaiveBayesModel\"\u001b[0m\u001b[0;34m)\u001b[0m\u001b[0;34m\u001b[0m\u001b[0m\n\u001b[0m\u001b[1;32m      3\u001b[0m \u001b[0msameModel\u001b[0m \u001b[0;34m=\u001b[0m \u001b[0mNaiveBayesModel\u001b[0m\u001b[0;34m.\u001b[0m\u001b[0mload\u001b[0m\u001b[0;34m(\u001b[0m\u001b[0msc\u001b[0m\u001b[0;34m,\u001b[0m \u001b[0;34m\"myNaiveBayesModel\"\u001b[0m\u001b[0;34m)\u001b[0m\u001b[0;34m\u001b[0m\u001b[0m\n",
      "\u001b[0;31mTypeError\u001b[0m: save() takes 2 positional arguments but 3 were given"
     ]
    }
   ],
   "source": [
    "# Save and load model\n",
    "nb.save(sc, \"myNaiveBayesModel\")\n",
    "sameModel = NaiveBayesModel.load(sc, \"myNaiveBayesModel\")"
   ]
  },
  {
   "cell_type": "code",
   "execution_count": 49,
   "metadata": {},
   "outputs": [
    {
     "data": {
      "text/plain": [
       "<bound method MLWritable.save of NaiveBayes_4cf49269be983d4d3ce1>"
      ]
     },
     "execution_count": 49,
     "metadata": {},
     "output_type": "execute_result"
    }
   ],
   "source": [
    "nb.save"
   ]
  },
  {
   "cell_type": "code",
   "execution_count": 50,
   "metadata": {},
   "outputs": [
    {
     "data": {
      "text/plain": [
       "NaiveBayes_4cf49269be983d4d3ce1"
      ]
     },
     "execution_count": 50,
     "metadata": {},
     "output_type": "execute_result"
    }
   ],
   "source": [
    "nb"
   ]
  },
  {
   "cell_type": "code",
   "execution_count": 62,
   "metadata": {},
   "outputs": [
    {
     "ename": "Py4JJavaError",
     "evalue": "An error occurred while calling z:org.apache.spark.mllib.classification.NaiveBayesModel.load.\n: org.json4s.package$MappingException: Did not find value which can be converted into java.lang.String\n\tat org.json4s.Extraction$.convert(Extraction.scala:603)\n\tat org.json4s.Extraction$.extract(Extraction.scala:350)\n\tat org.json4s.Extraction$.extract(Extraction.scala:42)\n\tat org.json4s.ExtractableJsonAstNode.extract(ExtractableJsonAstNode.scala:21)\n\tat org.apache.spark.mllib.util.Loader$.loadMetadata(modelSaveLoad.scala:131)\n\tat org.apache.spark.mllib.classification.NaiveBayesModel$.load(NaiveBayes.scala:271)\n\tat org.apache.spark.mllib.classification.NaiveBayesModel.load(NaiveBayes.scala)\n\tat sun.reflect.NativeMethodAccessorImpl.invoke0(Native Method)\n\tat sun.reflect.NativeMethodAccessorImpl.invoke(NativeMethodAccessorImpl.java:62)\n\tat sun.reflect.DelegatingMethodAccessorImpl.invoke(DelegatingMethodAccessorImpl.java:43)\n\tat java.lang.reflect.Method.invoke(Method.java:498)\n\tat py4j.reflection.MethodInvoker.invoke(MethodInvoker.java:244)\n\tat py4j.reflection.ReflectionEngine.invoke(ReflectionEngine.java:357)\n\tat py4j.Gateway.invoke(Gateway.java:282)\n\tat py4j.commands.AbstractCommand.invokeMethod(AbstractCommand.java:132)\n\tat py4j.commands.CallCommand.execute(CallCommand.java:79)\n\tat py4j.GatewayConnection.run(GatewayConnection.java:214)\n\tat java.lang.Thread.run(Thread.java:748)\n",
     "output_type": "error",
     "traceback": [
      "\u001b[0;31m---------------------------------------------------------------------------\u001b[0m",
      "\u001b[0;31mPy4JJavaError\u001b[0m                             Traceback (most recent call last)",
      "\u001b[0;32m<ipython-input-62-3fe708551598>\u001b[0m in \u001b[0;36m<module>\u001b[0;34m()\u001b[0m\n\u001b[0;32m----> 1\u001b[0;31m \u001b[0msameModel\u001b[0m \u001b[0;34m=\u001b[0m \u001b[0mNaiveBayesModel\u001b[0m\u001b[0;34m.\u001b[0m\u001b[0mload\u001b[0m\u001b[0;34m(\u001b[0m\u001b[0msc\u001b[0m\u001b[0;34m,\u001b[0m\u001b[0;34m\"NLP_NaiveBayes_trained\"\u001b[0m\u001b[0;34m)\u001b[0m\u001b[0;34m\u001b[0m\u001b[0m\n\u001b[0m",
      "\u001b[0;32m~/anaconda3/envs/PythonData/lib/python3.6/site-packages/pyspark/mllib/classification.py\u001b[0m in \u001b[0;36mload\u001b[0;34m(cls, sc, path)\u001b[0m\n\u001b[1;32m    638\u001b[0m         \"\"\"\n\u001b[1;32m    639\u001b[0m         java_model = sc._jvm.org.apache.spark.mllib.classification.NaiveBayesModel.load(\n\u001b[0;32m--> 640\u001b[0;31m             sc._jsc.sc(), path)\n\u001b[0m\u001b[1;32m    641\u001b[0m         \u001b[0;31m# Can not unpickle array.array from Pyrolite in Python3 with \"bytes\"\u001b[0m\u001b[0;34m\u001b[0m\u001b[0;34m\u001b[0m\u001b[0m\n\u001b[1;32m    642\u001b[0m         \u001b[0mpy_labels\u001b[0m \u001b[0;34m=\u001b[0m \u001b[0m_java2py\u001b[0m\u001b[0;34m(\u001b[0m\u001b[0msc\u001b[0m\u001b[0;34m,\u001b[0m \u001b[0mjava_model\u001b[0m\u001b[0;34m.\u001b[0m\u001b[0mlabels\u001b[0m\u001b[0;34m(\u001b[0m\u001b[0;34m)\u001b[0m\u001b[0;34m,\u001b[0m \u001b[0;34m\"latin1\"\u001b[0m\u001b[0;34m)\u001b[0m\u001b[0;34m\u001b[0m\u001b[0m\n",
      "\u001b[0;32m~/anaconda3/envs/PythonData/lib/python3.6/site-packages/py4j/java_gateway.py\u001b[0m in \u001b[0;36m__call__\u001b[0;34m(self, *args)\u001b[0m\n\u001b[1;32m   1158\u001b[0m         \u001b[0manswer\u001b[0m \u001b[0;34m=\u001b[0m \u001b[0mself\u001b[0m\u001b[0;34m.\u001b[0m\u001b[0mgateway_client\u001b[0m\u001b[0;34m.\u001b[0m\u001b[0msend_command\u001b[0m\u001b[0;34m(\u001b[0m\u001b[0mcommand\u001b[0m\u001b[0;34m)\u001b[0m\u001b[0;34m\u001b[0m\u001b[0m\n\u001b[1;32m   1159\u001b[0m         return_value = get_return_value(\n\u001b[0;32m-> 1160\u001b[0;31m             answer, self.gateway_client, self.target_id, self.name)\n\u001b[0m\u001b[1;32m   1161\u001b[0m \u001b[0;34m\u001b[0m\u001b[0m\n\u001b[1;32m   1162\u001b[0m         \u001b[0;32mfor\u001b[0m \u001b[0mtemp_arg\u001b[0m \u001b[0;32min\u001b[0m \u001b[0mtemp_args\u001b[0m\u001b[0;34m:\u001b[0m\u001b[0;34m\u001b[0m\u001b[0m\n",
      "\u001b[0;32m~/anaconda3/envs/PythonData/lib/python3.6/site-packages/pyspark/sql/utils.py\u001b[0m in \u001b[0;36mdeco\u001b[0;34m(*a, **kw)\u001b[0m\n\u001b[1;32m     61\u001b[0m     \u001b[0;32mdef\u001b[0m \u001b[0mdeco\u001b[0m\u001b[0;34m(\u001b[0m\u001b[0;34m*\u001b[0m\u001b[0ma\u001b[0m\u001b[0;34m,\u001b[0m \u001b[0;34m**\u001b[0m\u001b[0mkw\u001b[0m\u001b[0;34m)\u001b[0m\u001b[0;34m:\u001b[0m\u001b[0;34m\u001b[0m\u001b[0m\n\u001b[1;32m     62\u001b[0m         \u001b[0;32mtry\u001b[0m\u001b[0;34m:\u001b[0m\u001b[0;34m\u001b[0m\u001b[0m\n\u001b[0;32m---> 63\u001b[0;31m             \u001b[0;32mreturn\u001b[0m \u001b[0mf\u001b[0m\u001b[0;34m(\u001b[0m\u001b[0;34m*\u001b[0m\u001b[0ma\u001b[0m\u001b[0;34m,\u001b[0m \u001b[0;34m**\u001b[0m\u001b[0mkw\u001b[0m\u001b[0;34m)\u001b[0m\u001b[0;34m\u001b[0m\u001b[0m\n\u001b[0m\u001b[1;32m     64\u001b[0m         \u001b[0;32mexcept\u001b[0m \u001b[0mpy4j\u001b[0m\u001b[0;34m.\u001b[0m\u001b[0mprotocol\u001b[0m\u001b[0;34m.\u001b[0m\u001b[0mPy4JJavaError\u001b[0m \u001b[0;32mas\u001b[0m \u001b[0me\u001b[0m\u001b[0;34m:\u001b[0m\u001b[0;34m\u001b[0m\u001b[0m\n\u001b[1;32m     65\u001b[0m             \u001b[0ms\u001b[0m \u001b[0;34m=\u001b[0m \u001b[0me\u001b[0m\u001b[0;34m.\u001b[0m\u001b[0mjava_exception\u001b[0m\u001b[0;34m.\u001b[0m\u001b[0mtoString\u001b[0m\u001b[0;34m(\u001b[0m\u001b[0;34m)\u001b[0m\u001b[0;34m\u001b[0m\u001b[0m\n",
      "\u001b[0;32m~/anaconda3/envs/PythonData/lib/python3.6/site-packages/py4j/protocol.py\u001b[0m in \u001b[0;36mget_return_value\u001b[0;34m(answer, gateway_client, target_id, name)\u001b[0m\n\u001b[1;32m    318\u001b[0m                 raise Py4JJavaError(\n\u001b[1;32m    319\u001b[0m                     \u001b[0;34m\"An error occurred while calling {0}{1}{2}.\\n\"\u001b[0m\u001b[0;34m.\u001b[0m\u001b[0;34m\u001b[0m\u001b[0m\n\u001b[0;32m--> 320\u001b[0;31m                     format(target_id, \".\", name), value)\n\u001b[0m\u001b[1;32m    321\u001b[0m             \u001b[0;32melse\u001b[0m\u001b[0;34m:\u001b[0m\u001b[0;34m\u001b[0m\u001b[0m\n\u001b[1;32m    322\u001b[0m                 raise Py4JError(\n",
      "\u001b[0;31mPy4JJavaError\u001b[0m: An error occurred while calling z:org.apache.spark.mllib.classification.NaiveBayesModel.load.\n: org.json4s.package$MappingException: Did not find value which can be converted into java.lang.String\n\tat org.json4s.Extraction$.convert(Extraction.scala:603)\n\tat org.json4s.Extraction$.extract(Extraction.scala:350)\n\tat org.json4s.Extraction$.extract(Extraction.scala:42)\n\tat org.json4s.ExtractableJsonAstNode.extract(ExtractableJsonAstNode.scala:21)\n\tat org.apache.spark.mllib.util.Loader$.loadMetadata(modelSaveLoad.scala:131)\n\tat org.apache.spark.mllib.classification.NaiveBayesModel$.load(NaiveBayes.scala:271)\n\tat org.apache.spark.mllib.classification.NaiveBayesModel.load(NaiveBayes.scala)\n\tat sun.reflect.NativeMethodAccessorImpl.invoke0(Native Method)\n\tat sun.reflect.NativeMethodAccessorImpl.invoke(NativeMethodAccessorImpl.java:62)\n\tat sun.reflect.DelegatingMethodAccessorImpl.invoke(DelegatingMethodAccessorImpl.java:43)\n\tat java.lang.reflect.Method.invoke(Method.java:498)\n\tat py4j.reflection.MethodInvoker.invoke(MethodInvoker.java:244)\n\tat py4j.reflection.ReflectionEngine.invoke(ReflectionEngine.java:357)\n\tat py4j.Gateway.invoke(Gateway.java:282)\n\tat py4j.commands.AbstractCommand.invokeMethod(AbstractCommand.java:132)\n\tat py4j.commands.CallCommand.execute(CallCommand.java:79)\n\tat py4j.GatewayConnection.run(GatewayConnection.java:214)\n\tat java.lang.Thread.run(Thread.java:748)\n"
     ]
    }
   ],
   "source": [
    "sameModel = NaiveBayes.load(sc,\"NLP_NaiveBayes_trained\")"
   ]
  },
  {
   "cell_type": "code",
   "execution_count": null,
   "metadata": {
    "collapsed": true
   },
   "outputs": [],
   "source": []
  }
 ],
 "metadata": {
  "kernelspec": {
   "display_name": "Python 3",
   "language": "python",
   "name": "python3"
  },
  "language_info": {
   "codemirror_mode": {
    "name": "ipython",
    "version": 3
   },
   "file_extension": ".py",
   "mimetype": "text/x-python",
   "name": "python",
   "nbconvert_exporter": "python",
   "pygments_lexer": "ipython3",
   "version": "3.6.3"
  }
 },
 "nbformat": 4,
 "nbformat_minor": 2
}
